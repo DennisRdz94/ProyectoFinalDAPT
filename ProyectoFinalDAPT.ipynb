{
 "cells": [
  {
   "cell_type": "code",
   "execution_count": 1,
   "id": "b6e1bc94-6c37-45e9-a3f2-684fac576a5c",
   "metadata": {},
   "outputs": [],
   "source": [
    "import pandas as pd\n",
    "import numpy as np\n",
    "import matplotlib.pyplot as plt\n",
    "import seaborn as sns\n",
    "import scipy.stats as stats\n",
    "from scipy.stats import ttest_1samp\n",
    "import statsmodels.api as sm\n",
    "from sklearn.model_selection import train_test_split\n",
    "from feature_engine import imputation as mdi\n",
    "from statsmodels.formula.api import ols\n",
    "from sklearn.preprocessing import StandardScaler\n",
    "from sklearn.linear_model import LinearRegression\n",
    "from sklearn.pipeline import Pipeline"
   ]
  },
  {
   "cell_type": "code",
   "execution_count": 2,
   "id": "2c7f2f5a-e9cc-40b2-9dcb-45f7173fb13f",
   "metadata": {},
   "outputs": [],
   "source": [
    "df = pd.read_csv('causes-of-death-in-children.csv')"
   ]
  },
  {
   "cell_type": "code",
   "execution_count": 3,
   "id": "a7796e45-8eb6-49bd-962e-3baa4c9a6693",
   "metadata": {},
   "outputs": [
    {
     "data": {
      "text/plain": [
       "(5539, 40)"
      ]
     },
     "execution_count": 3,
     "metadata": {},
     "output_type": "execute_result"
    }
   ],
   "source": [
    "df.shape"
   ]
  },
  {
   "cell_type": "code",
   "execution_count": 4,
   "id": "b65d951e-a318-4290-b796-dee07dc1e05c",
   "metadata": {},
   "outputs": [
    {
     "data": {
      "text/html": [
       "<div>\n",
       "<style scoped>\n",
       "    .dataframe tbody tr th:only-of-type {\n",
       "        vertical-align: middle;\n",
       "    }\n",
       "\n",
       "    .dataframe tbody tr th {\n",
       "        vertical-align: top;\n",
       "    }\n",
       "\n",
       "    .dataframe thead th {\n",
       "        text-align: right;\n",
       "    }\n",
       "</style>\n",
       "<table border=\"1\" class=\"dataframe\">\n",
       "  <thead>\n",
       "    <tr style=\"text-align: right;\">\n",
       "      <th></th>\n",
       "      <th>Entity</th>\n",
       "      <th>Code</th>\n",
       "      <th>Year</th>\n",
       "      <th>Deaths - Malaria - Sex: Both - Age: Under 5 (Number)</th>\n",
       "      <th>Deaths - HIV/AIDS - Sex: Both - Age: Under 5 (Number)</th>\n",
       "      <th>Deaths - Meningitis - Sex: Both - Age: Under 5 (Number)</th>\n",
       "      <th>Deaths - Nutritional deficiencies - Sex: Both - Age: Under 5 (Number)</th>\n",
       "      <th>Deaths - Other neonatal disorders - Sex: Both - Age: Under 5 (Number)</th>\n",
       "      <th>Deaths - Whooping cough - Sex: Both - Age: Under 5 (Number)</th>\n",
       "      <th>Deaths - Lower respiratory infections - Sex: Both - Age: Under 5 (Number)</th>\n",
       "      <th>...</th>\n",
       "      <th>Access to electricity (% of population) [EG.ELC.ACCS.ZS]</th>\n",
       "      <th>Adjusted net national income (annual % growth) [NY.ADJ.NNTY.KD.ZG]</th>\n",
       "      <th>Adjusted net national income (current US$) [NY.ADJ.NNTY.CD]</th>\n",
       "      <th>Adjusted net national income per capita (annual % growth) [NY.ADJ.NNTY.PC.KD.ZG]</th>\n",
       "      <th>Adjusted net national income per capita (current US$) [NY.ADJ.NNTY.PC.CD]</th>\n",
       "      <th>Death rate, crude (per 1,000 people) [SP.DYN.CDRT.IN]</th>\n",
       "      <th>Government expenditure on education, total (% of government expenditure) [SE.XPD.TOTL.GB.ZS]</th>\n",
       "      <th>Poverty gap at $1.90 a day (2011 PPP) (%) [SI.POV.GAPS]</th>\n",
       "      <th>Poverty gap at $3.20 a day (2011 PPP) (%) [SI.POV.LMIC.GP]</th>\n",
       "      <th>Poverty gap at $5.50 a day (2011 PPP) (%) [SI.POV.UMIC.GP]</th>\n",
       "    </tr>\n",
       "  </thead>\n",
       "  <tbody>\n",
       "    <tr>\n",
       "      <th>0</th>\n",
       "      <td>Afghanistan</td>\n",
       "      <td>AFG</td>\n",
       "      <td>1990</td>\n",
       "      <td>21</td>\n",
       "      <td>10</td>\n",
       "      <td>1709</td>\n",
       "      <td>1779</td>\n",
       "      <td>7112</td>\n",
       "      <td>2455</td>\n",
       "      <td>20224</td>\n",
       "      <td>...</td>\n",
       "      <td>NaN</td>\n",
       "      <td>NaN</td>\n",
       "      <td>NaN</td>\n",
       "      <td>NaN</td>\n",
       "      <td>NaN</td>\n",
       "      <td>15.241</td>\n",
       "      <td>NaN</td>\n",
       "      <td>NaN</td>\n",
       "      <td>NaN</td>\n",
       "      <td>NaN</td>\n",
       "    </tr>\n",
       "    <tr>\n",
       "      <th>1</th>\n",
       "      <td>Afghanistan</td>\n",
       "      <td>AFG</td>\n",
       "      <td>1991</td>\n",
       "      <td>41</td>\n",
       "      <td>12</td>\n",
       "      <td>1743</td>\n",
       "      <td>1822</td>\n",
       "      <td>7574</td>\n",
       "      <td>2385</td>\n",
       "      <td>20879</td>\n",
       "      <td>...</td>\n",
       "      <td>NaN</td>\n",
       "      <td>NaN</td>\n",
       "      <td>NaN</td>\n",
       "      <td>NaN</td>\n",
       "      <td>NaN</td>\n",
       "      <td>14.783</td>\n",
       "      <td>NaN</td>\n",
       "      <td>NaN</td>\n",
       "      <td>NaN</td>\n",
       "      <td>NaN</td>\n",
       "    </tr>\n",
       "    <tr>\n",
       "      <th>2</th>\n",
       "      <td>Afghanistan</td>\n",
       "      <td>AFG</td>\n",
       "      <td>1992</td>\n",
       "      <td>51</td>\n",
       "      <td>13</td>\n",
       "      <td>1954</td>\n",
       "      <td>2069</td>\n",
       "      <td>8614</td>\n",
       "      <td>2370</td>\n",
       "      <td>23585</td>\n",
       "      <td>...</td>\n",
       "      <td>NaN</td>\n",
       "      <td>NaN</td>\n",
       "      <td>NaN</td>\n",
       "      <td>NaN</td>\n",
       "      <td>NaN</td>\n",
       "      <td>14.362</td>\n",
       "      <td>NaN</td>\n",
       "      <td>NaN</td>\n",
       "      <td>NaN</td>\n",
       "      <td>NaN</td>\n",
       "    </tr>\n",
       "    <tr>\n",
       "      <th>3</th>\n",
       "      <td>Afghanistan</td>\n",
       "      <td>AFG</td>\n",
       "      <td>1993</td>\n",
       "      <td>24</td>\n",
       "      <td>16</td>\n",
       "      <td>2252</td>\n",
       "      <td>2427</td>\n",
       "      <td>9458</td>\n",
       "      <td>2659</td>\n",
       "      <td>27116</td>\n",
       "      <td>...</td>\n",
       "      <td>NaN</td>\n",
       "      <td>NaN</td>\n",
       "      <td>NaN</td>\n",
       "      <td>NaN</td>\n",
       "      <td>NaN</td>\n",
       "      <td>13.974</td>\n",
       "      <td>NaN</td>\n",
       "      <td>NaN</td>\n",
       "      <td>NaN</td>\n",
       "      <td>NaN</td>\n",
       "    </tr>\n",
       "    <tr>\n",
       "      <th>4</th>\n",
       "      <td>Afghanistan</td>\n",
       "      <td>AFG</td>\n",
       "      <td>1994</td>\n",
       "      <td>52</td>\n",
       "      <td>19</td>\n",
       "      <td>2446</td>\n",
       "      <td>2649</td>\n",
       "      <td>9823</td>\n",
       "      <td>3187</td>\n",
       "      <td>29271</td>\n",
       "      <td>...</td>\n",
       "      <td>NaN</td>\n",
       "      <td>NaN</td>\n",
       "      <td>NaN</td>\n",
       "      <td>NaN</td>\n",
       "      <td>NaN</td>\n",
       "      <td>13.616</td>\n",
       "      <td>NaN</td>\n",
       "      <td>NaN</td>\n",
       "      <td>NaN</td>\n",
       "      <td>NaN</td>\n",
       "    </tr>\n",
       "  </tbody>\n",
       "</table>\n",
       "<p>5 rows × 40 columns</p>\n",
       "</div>"
      ],
      "text/plain": [
       "        Entity Code  Year  \\\n",
       "0  Afghanistan  AFG  1990   \n",
       "1  Afghanistan  AFG  1991   \n",
       "2  Afghanistan  AFG  1992   \n",
       "3  Afghanistan  AFG  1993   \n",
       "4  Afghanistan  AFG  1994   \n",
       "\n",
       "   Deaths - Malaria - Sex: Both - Age: Under 5 (Number)  \\\n",
       "0                                                 21      \n",
       "1                                                 41      \n",
       "2                                                 51      \n",
       "3                                                 24      \n",
       "4                                                 52      \n",
       "\n",
       "   Deaths - HIV/AIDS - Sex: Both - Age: Under 5 (Number)  \\\n",
       "0                                                 10       \n",
       "1                                                 12       \n",
       "2                                                 13       \n",
       "3                                                 16       \n",
       "4                                                 19       \n",
       "\n",
       "   Deaths - Meningitis - Sex: Both - Age: Under 5 (Number)  \\\n",
       "0                                               1709         \n",
       "1                                               1743         \n",
       "2                                               1954         \n",
       "3                                               2252         \n",
       "4                                               2446         \n",
       "\n",
       "   Deaths - Nutritional deficiencies - Sex: Both - Age: Under 5 (Number)  \\\n",
       "0                                               1779                       \n",
       "1                                               1822                       \n",
       "2                                               2069                       \n",
       "3                                               2427                       \n",
       "4                                               2649                       \n",
       "\n",
       "   Deaths - Other neonatal disorders - Sex: Both - Age: Under 5 (Number)  \\\n",
       "0                                               7112                       \n",
       "1                                               7574                       \n",
       "2                                               8614                       \n",
       "3                                               9458                       \n",
       "4                                               9823                       \n",
       "\n",
       "   Deaths - Whooping cough - Sex: Both - Age: Under 5 (Number)  \\\n",
       "0                                               2455             \n",
       "1                                               2385             \n",
       "2                                               2370             \n",
       "3                                               2659             \n",
       "4                                               3187             \n",
       "\n",
       "   Deaths - Lower respiratory infections - Sex: Both - Age: Under 5 (Number)  \\\n",
       "0                                              20224                           \n",
       "1                                              20879                           \n",
       "2                                              23585                           \n",
       "3                                              27116                           \n",
       "4                                              29271                           \n",
       "\n",
       "   ...  Access to electricity (% of population) [EG.ELC.ACCS.ZS]  \\\n",
       "0  ...                                                NaN          \n",
       "1  ...                                                NaN          \n",
       "2  ...                                                NaN          \n",
       "3  ...                                                NaN          \n",
       "4  ...                                                NaN          \n",
       "\n",
       "   Adjusted net national income (annual % growth) [NY.ADJ.NNTY.KD.ZG]  \\\n",
       "0                                                NaN                    \n",
       "1                                                NaN                    \n",
       "2                                                NaN                    \n",
       "3                                                NaN                    \n",
       "4                                                NaN                    \n",
       "\n",
       "   Adjusted net national income (current US$) [NY.ADJ.NNTY.CD]  \\\n",
       "0                                                NaN             \n",
       "1                                                NaN             \n",
       "2                                                NaN             \n",
       "3                                                NaN             \n",
       "4                                                NaN             \n",
       "\n",
       "   Adjusted net national income per capita (annual % growth) [NY.ADJ.NNTY.PC.KD.ZG]  \\\n",
       "0                                                NaN                                  \n",
       "1                                                NaN                                  \n",
       "2                                                NaN                                  \n",
       "3                                                NaN                                  \n",
       "4                                                NaN                                  \n",
       "\n",
       "   Adjusted net national income per capita (current US$) [NY.ADJ.NNTY.PC.CD]  \\\n",
       "0                                                NaN                           \n",
       "1                                                NaN                           \n",
       "2                                                NaN                           \n",
       "3                                                NaN                           \n",
       "4                                                NaN                           \n",
       "\n",
       "   Death rate, crude (per 1,000 people) [SP.DYN.CDRT.IN]  \\\n",
       "0                                             15.241       \n",
       "1                                             14.783       \n",
       "2                                             14.362       \n",
       "3                                             13.974       \n",
       "4                                             13.616       \n",
       "\n",
       "   Government expenditure on education, total (% of government expenditure) [SE.XPD.TOTL.GB.ZS]  \\\n",
       "0                                                NaN                                              \n",
       "1                                                NaN                                              \n",
       "2                                                NaN                                              \n",
       "3                                                NaN                                              \n",
       "4                                                NaN                                              \n",
       "\n",
       "   Poverty gap at $1.90 a day (2011 PPP) (%) [SI.POV.GAPS]  \\\n",
       "0                                                NaN         \n",
       "1                                                NaN         \n",
       "2                                                NaN         \n",
       "3                                                NaN         \n",
       "4                                                NaN         \n",
       "\n",
       "   Poverty gap at $3.20 a day (2011 PPP) (%) [SI.POV.LMIC.GP]  \\\n",
       "0                                                NaN            \n",
       "1                                                NaN            \n",
       "2                                                NaN            \n",
       "3                                                NaN            \n",
       "4                                                NaN            \n",
       "\n",
       "   Poverty gap at $5.50 a day (2011 PPP) (%) [SI.POV.UMIC.GP]  \n",
       "0                                                NaN           \n",
       "1                                                NaN           \n",
       "2                                                NaN           \n",
       "3                                                NaN           \n",
       "4                                                NaN           \n",
       "\n",
       "[5 rows x 40 columns]"
      ]
     },
     "execution_count": 4,
     "metadata": {},
     "output_type": "execute_result"
    }
   ],
   "source": [
    "df.head()"
   ]
  },
  {
   "cell_type": "code",
   "execution_count": 5,
   "id": "7f5925f8-493f-4d29-9f34-e9ee662d3bfb",
   "metadata": {},
   "outputs": [
    {
     "data": {
      "text/plain": [
       "Index(['Entity', 'Code', 'Year',\n",
       "       'Deaths - Malaria - Sex: Both - Age: Under 5 (Number)',\n",
       "       'Deaths - HIV/AIDS - Sex: Both - Age: Under 5 (Number)',\n",
       "       'Deaths - Meningitis - Sex: Both - Age: Under 5 (Number)',\n",
       "       'Deaths - Nutritional deficiencies - Sex: Both - Age: Under 5 (Number)',\n",
       "       'Deaths - Other neonatal disorders - Sex: Both - Age: Under 5 (Number)',\n",
       "       'Deaths - Whooping cough - Sex: Both - Age: Under 5 (Number)',\n",
       "       'Deaths - Lower respiratory infections - Sex: Both - Age: Under 5 (Number)',\n",
       "       'Deaths - Congenital birth defects - Sex: Both - Age: Under 5 (Number)',\n",
       "       'Deaths - Measles - Sex: Both - Age: Under 5 (Number)',\n",
       "       'Deaths - Neonatal sepsis and other neonatal infections - Sex: Both - Age: Under 5 (Number)',\n",
       "       'Deaths - Neonatal encephalopathy due to birth asphyxia and trauma - Sex: Both - Age: Under 5 (Number)',\n",
       "       'Deaths - Drowning - Sex: Both - Age: Under 5 (Number)',\n",
       "       'Deaths - Tuberculosis - Sex: Both - Age: Under 5 (Number)',\n",
       "       'Deaths - Neonatal preterm birth - Sex: Both - Age: Under 5 (Number)',\n",
       "       'Deaths - Diarrheal diseases - Sex: Both - Age: Under 5 (Number)',\n",
       "       'Deaths - Neoplasms - Sex: Both - Age: Under 5 (Number)',\n",
       "       'Deaths - Syphilis - Sex: Both - Age: Under 5 (Number)',\n",
       "       'Deaths - All causes - Sex: Both - Age: 7-27 days (Number)',\n",
       "       'Deaths - All causes - Sex: Both - Age: 1-4 years (Number)',\n",
       "       'Deaths - All causes - Sex: Both - Age: 0-6 days (Number)',\n",
       "       'Deaths - All causes - Sex: Both - Age: 28-364 days (Number)',\n",
       "       'Mortality rate, under-5, female (per 1,000 live births)',\n",
       "       'Mortality rate, under-5, male (per 1,000 live births)',\n",
       "       'Mortality rate, under-5 (per 1,000 live births)',\n",
       "       '$1.90 per day - share of population below poverty line',\n",
       "       'Current health expenditure per capita, PPP (current international $)',\n",
       "       'Population (historical estimates)',\n",
       "       'Access to electricity (% of population) [EG.ELC.ACCS.ZS]',\n",
       "       'Adjusted net national income (annual % growth) [NY.ADJ.NNTY.KD.ZG]',\n",
       "       'Adjusted net national income (current US$) [NY.ADJ.NNTY.CD]',\n",
       "       'Adjusted net national income per capita (annual % growth) [NY.ADJ.NNTY.PC.KD.ZG]',\n",
       "       'Adjusted net national income per capita (current US$) [NY.ADJ.NNTY.PC.CD]',\n",
       "       'Death rate, crude (per 1,000 people) [SP.DYN.CDRT.IN]',\n",
       "       'Government expenditure on education, total (% of government expenditure) [SE.XPD.TOTL.GB.ZS]',\n",
       "       'Poverty gap at $1.90 a day (2011 PPP) (%) [SI.POV.GAPS]',\n",
       "       'Poverty gap at $3.20 a day (2011 PPP) (%) [SI.POV.LMIC.GP]',\n",
       "       'Poverty gap at $5.50 a day (2011 PPP) (%) [SI.POV.UMIC.GP]'],\n",
       "      dtype='object')"
      ]
     },
     "execution_count": 5,
     "metadata": {},
     "output_type": "execute_result"
    }
   ],
   "source": [
    "df.columns"
   ]
  },
  {
   "cell_type": "code",
   "execution_count": 6,
   "id": "eb7edefd-8e90-476c-88ae-aea17cedfd38",
   "metadata": {},
   "outputs": [],
   "source": [
    "df.rename(columns = {'Entity':'entity', 'Code':'code', 'Year':'year','Deaths - Malaria - Sex: Both - Age: Under 5 (Number)': 'deaths_malaria','Deaths - HIV/AIDS - Sex: Both - Age: Under 5 (Number)': 'deaths_hiv',\n",
    "'Deaths - Meningitis - Sex: Both - Age: Under 5 (Number)': 'deaths_meningitis','Deaths - Nutritional deficiencies - Sex: Both - Age: Under 5 (Number)':'deaths_nutritional_def',\n",
    "'Deaths - Other neonatal disorders - Sex: Both - Age: Under 5 (Number)':'deaths_other_nd','Deaths - Whooping cough - Sex: Both - Age: Under 5 (Number)':'deaths_cough',\n",
    "'Deaths - Lower respiratory infections - Sex: Both - Age: Under 5 (Number)':'deaths_lorespi','Deaths - Congenital birth defects - Sex: Both - Age: Under 5 (Number)':'deaths_congenital',\n",
    "'Deaths - Measles - Sex: Both - Age: Under 5 (Number)':'deaths_measles','Deaths - Neonatal sepsis and other neonatal infections - Sex: Both - Age: Under 5 (Number)':'deaths_neonatal_inf',\n",
    "'Deaths - Neonatal encephalopathy due to birth asphyxia and trauma - Sex: Both - Age: Under 5 (Number)':'deaths_encephalopathy','Deaths - Drowning - Sex: Both - Age: Under 5 (Number)':'deaths_drowning',\n",
    "'Deaths - Tuberculosis - Sex: Both - Age: Under 5 (Number)':'deaths_tuberculosis','Deaths - Neonatal preterm birth - Sex: Both - Age: Under 5 (Number)':'deaths_preterm_b',\n",
    "'Deaths - Diarrheal diseases - Sex: Both - Age: Under 5 (Number)':'deaths_diarrheal','Deaths - Neoplasms - Sex: Both - Age: Under 5 (Number)':'deaths_neoplasms',\n",
    "'Deaths - Syphilis - Sex: Both - Age: Under 5 (Number)':'deaths_syphilis','Deaths - All causes - Sex: Both - Age: 7-27 days (Number)':'age_7to27_days',\n",
    "'Deaths - All causes - Sex: Both - Age: 1-4 years (Number)':'age_1to4_years','Deaths - All causes - Sex: Both - Age: 0-6 days (Number)':'age_0to6_days',\n",
    "'Deaths - All causes - Sex: Both - Age: 28-364 days (Number)':'age_28to364_days','Mortality rate, under-5, female (per 1,000 live births)':'mortality_rate_female',\n",
    "'Mortality rate, under-5, male (per 1,000 live births)':'mortality_rate_male','Mortality rate, under-5 (per 1,000 live births)':'mortality_rate',\n",
    "'$1.90 per day - share of population below poverty line':'population_povertyline','Current health expenditure per capita, PPP (current international $)':'health_expenditure',\n",
    "'Population (historical estimates)':'population_estimates', 'Access to electricity (% of population) [EG.ELC.ACCS.ZS]':'electricity_access' ,'Adjusted net national income (annual % growth) [NY.ADJ.NNTY.KD.ZG]': 'annual_growth',\n",
    "'Adjusted net national income (current US$) [NY.ADJ.NNTY.CD]': 'incomeUS','Adjusted net national income per capita (annual % growth) [NY.ADJ.NNTY.PC.KD.ZG]': 'annual_growth_pc',\n",
    "'Adjusted net national income per capita (current US$) [NY.ADJ.NNTY.PC.CD]': 'incomeUS_pc',\n",
    "'Death rate, crude (per 1,000 people) [SP.DYN.CDRT.IN]': 'death_rate(per1000)',\n",
    "'Government expenditure on education, total (% of government expenditure) [SE.XPD.TOTL.GB.ZS]': 'education_exp',\n",
    "'Poverty gap at $1.90 a day (2011 PPP) (%) [SI.POV.GAPS]':'pg_1.90',\n",
    "'Poverty gap at $3.20 a day (2011 PPP) (%) [SI.POV.LMIC.GP]':'pg_3.20',\n",
    "'Poverty gap at $5.50 a day (2011 PPP) (%) [SI.POV.UMIC.GP]':'pg_5.50'}, inplace = True)"
   ]
  },
  {
   "cell_type": "code",
   "execution_count": 7,
   "id": "2f7ac4fc-120b-4dea-8371-3626a772cdd0",
   "metadata": {},
   "outputs": [
    {
     "data": {
      "text/html": [
       "<div>\n",
       "<style scoped>\n",
       "    .dataframe tbody tr th:only-of-type {\n",
       "        vertical-align: middle;\n",
       "    }\n",
       "\n",
       "    .dataframe tbody tr th {\n",
       "        vertical-align: top;\n",
       "    }\n",
       "\n",
       "    .dataframe thead th {\n",
       "        text-align: right;\n",
       "    }\n",
       "</style>\n",
       "<table border=\"1\" class=\"dataframe\">\n",
       "  <thead>\n",
       "    <tr style=\"text-align: right;\">\n",
       "      <th></th>\n",
       "      <th>entity</th>\n",
       "      <th>code</th>\n",
       "      <th>year</th>\n",
       "      <th>deaths_malaria</th>\n",
       "      <th>deaths_hiv</th>\n",
       "      <th>deaths_meningitis</th>\n",
       "      <th>deaths_nutritional_def</th>\n",
       "      <th>deaths_other_nd</th>\n",
       "      <th>deaths_cough</th>\n",
       "      <th>deaths_lorespi</th>\n",
       "      <th>...</th>\n",
       "      <th>electricity_access</th>\n",
       "      <th>annual_growth</th>\n",
       "      <th>incomeUS</th>\n",
       "      <th>annual_growth_pc</th>\n",
       "      <th>incomeUS_pc</th>\n",
       "      <th>death_rate(per1000)</th>\n",
       "      <th>education_exp</th>\n",
       "      <th>pg_1.90</th>\n",
       "      <th>pg_3.20</th>\n",
       "      <th>pg_5.50</th>\n",
       "    </tr>\n",
       "  </thead>\n",
       "  <tbody>\n",
       "    <tr>\n",
       "      <th>0</th>\n",
       "      <td>Afghanistan</td>\n",
       "      <td>AFG</td>\n",
       "      <td>1990</td>\n",
       "      <td>21</td>\n",
       "      <td>10</td>\n",
       "      <td>1709</td>\n",
       "      <td>1779</td>\n",
       "      <td>7112</td>\n",
       "      <td>2455</td>\n",
       "      <td>20224</td>\n",
       "      <td>...</td>\n",
       "      <td>NaN</td>\n",
       "      <td>NaN</td>\n",
       "      <td>NaN</td>\n",
       "      <td>NaN</td>\n",
       "      <td>NaN</td>\n",
       "      <td>15.241</td>\n",
       "      <td>NaN</td>\n",
       "      <td>NaN</td>\n",
       "      <td>NaN</td>\n",
       "      <td>NaN</td>\n",
       "    </tr>\n",
       "    <tr>\n",
       "      <th>1</th>\n",
       "      <td>Afghanistan</td>\n",
       "      <td>AFG</td>\n",
       "      <td>1991</td>\n",
       "      <td>41</td>\n",
       "      <td>12</td>\n",
       "      <td>1743</td>\n",
       "      <td>1822</td>\n",
       "      <td>7574</td>\n",
       "      <td>2385</td>\n",
       "      <td>20879</td>\n",
       "      <td>...</td>\n",
       "      <td>NaN</td>\n",
       "      <td>NaN</td>\n",
       "      <td>NaN</td>\n",
       "      <td>NaN</td>\n",
       "      <td>NaN</td>\n",
       "      <td>14.783</td>\n",
       "      <td>NaN</td>\n",
       "      <td>NaN</td>\n",
       "      <td>NaN</td>\n",
       "      <td>NaN</td>\n",
       "    </tr>\n",
       "    <tr>\n",
       "      <th>2</th>\n",
       "      <td>Afghanistan</td>\n",
       "      <td>AFG</td>\n",
       "      <td>1992</td>\n",
       "      <td>51</td>\n",
       "      <td>13</td>\n",
       "      <td>1954</td>\n",
       "      <td>2069</td>\n",
       "      <td>8614</td>\n",
       "      <td>2370</td>\n",
       "      <td>23585</td>\n",
       "      <td>...</td>\n",
       "      <td>NaN</td>\n",
       "      <td>NaN</td>\n",
       "      <td>NaN</td>\n",
       "      <td>NaN</td>\n",
       "      <td>NaN</td>\n",
       "      <td>14.362</td>\n",
       "      <td>NaN</td>\n",
       "      <td>NaN</td>\n",
       "      <td>NaN</td>\n",
       "      <td>NaN</td>\n",
       "    </tr>\n",
       "    <tr>\n",
       "      <th>3</th>\n",
       "      <td>Afghanistan</td>\n",
       "      <td>AFG</td>\n",
       "      <td>1993</td>\n",
       "      <td>24</td>\n",
       "      <td>16</td>\n",
       "      <td>2252</td>\n",
       "      <td>2427</td>\n",
       "      <td>9458</td>\n",
       "      <td>2659</td>\n",
       "      <td>27116</td>\n",
       "      <td>...</td>\n",
       "      <td>NaN</td>\n",
       "      <td>NaN</td>\n",
       "      <td>NaN</td>\n",
       "      <td>NaN</td>\n",
       "      <td>NaN</td>\n",
       "      <td>13.974</td>\n",
       "      <td>NaN</td>\n",
       "      <td>NaN</td>\n",
       "      <td>NaN</td>\n",
       "      <td>NaN</td>\n",
       "    </tr>\n",
       "    <tr>\n",
       "      <th>4</th>\n",
       "      <td>Afghanistan</td>\n",
       "      <td>AFG</td>\n",
       "      <td>1994</td>\n",
       "      <td>52</td>\n",
       "      <td>19</td>\n",
       "      <td>2446</td>\n",
       "      <td>2649</td>\n",
       "      <td>9823</td>\n",
       "      <td>3187</td>\n",
       "      <td>29271</td>\n",
       "      <td>...</td>\n",
       "      <td>NaN</td>\n",
       "      <td>NaN</td>\n",
       "      <td>NaN</td>\n",
       "      <td>NaN</td>\n",
       "      <td>NaN</td>\n",
       "      <td>13.616</td>\n",
       "      <td>NaN</td>\n",
       "      <td>NaN</td>\n",
       "      <td>NaN</td>\n",
       "      <td>NaN</td>\n",
       "    </tr>\n",
       "  </tbody>\n",
       "</table>\n",
       "<p>5 rows × 40 columns</p>\n",
       "</div>"
      ],
      "text/plain": [
       "        entity code  year  deaths_malaria  deaths_hiv  deaths_meningitis  \\\n",
       "0  Afghanistan  AFG  1990              21          10               1709   \n",
       "1  Afghanistan  AFG  1991              41          12               1743   \n",
       "2  Afghanistan  AFG  1992              51          13               1954   \n",
       "3  Afghanistan  AFG  1993              24          16               2252   \n",
       "4  Afghanistan  AFG  1994              52          19               2446   \n",
       "\n",
       "   deaths_nutritional_def  deaths_other_nd  deaths_cough  deaths_lorespi  ...  \\\n",
       "0                    1779             7112          2455           20224  ...   \n",
       "1                    1822             7574          2385           20879  ...   \n",
       "2                    2069             8614          2370           23585  ...   \n",
       "3                    2427             9458          2659           27116  ...   \n",
       "4                    2649             9823          3187           29271  ...   \n",
       "\n",
       "   electricity_access  annual_growth  incomeUS  annual_growth_pc  incomeUS_pc  \\\n",
       "0                 NaN            NaN       NaN               NaN          NaN   \n",
       "1                 NaN            NaN       NaN               NaN          NaN   \n",
       "2                 NaN            NaN       NaN               NaN          NaN   \n",
       "3                 NaN            NaN       NaN               NaN          NaN   \n",
       "4                 NaN            NaN       NaN               NaN          NaN   \n",
       "\n",
       "   death_rate(per1000)  education_exp  pg_1.90  pg_3.20  pg_5.50  \n",
       "0               15.241            NaN      NaN      NaN      NaN  \n",
       "1               14.783            NaN      NaN      NaN      NaN  \n",
       "2               14.362            NaN      NaN      NaN      NaN  \n",
       "3               13.974            NaN      NaN      NaN      NaN  \n",
       "4               13.616            NaN      NaN      NaN      NaN  \n",
       "\n",
       "[5 rows x 40 columns]"
      ]
     },
     "execution_count": 7,
     "metadata": {},
     "output_type": "execute_result"
    }
   ],
   "source": [
    "df.head()"
   ]
  },
  {
   "cell_type": "code",
   "execution_count": 8,
   "id": "88f78dde-4a48-477f-a049-1292c14365e8",
   "metadata": {},
   "outputs": [],
   "source": [
    "df.drop(['pg_1.90', 'pg_3.20', 'pg_5.50','annual_growth', 'annual_growth_pc'], axis=1, inplace=True)"
   ]
  },
  {
   "cell_type": "code",
   "execution_count": 9,
   "id": "2f8b2c6b-0679-4c73-a38a-bce619d34f79",
   "metadata": {},
   "outputs": [
    {
     "data": {
      "text/plain": [
       "entity                       0\n",
       "code                         0\n",
       "year                         0\n",
       "deaths_malaria               0\n",
       "deaths_hiv                   0\n",
       "deaths_meningitis            0\n",
       "deaths_nutritional_def       0\n",
       "deaths_other_nd              0\n",
       "deaths_cough                 0\n",
       "deaths_lorespi               0\n",
       "deaths_congenital            0\n",
       "deaths_measles               0\n",
       "deaths_neonatal_inf          0\n",
       "deaths_encephalopathy        0\n",
       "deaths_drowning              0\n",
       "deaths_tuberculosis          0\n",
       "deaths_preterm_b             0\n",
       "deaths_diarrheal             0\n",
       "deaths_neoplasms             0\n",
       "deaths_syphilis              0\n",
       "age_7to27_days               0\n",
       "age_1to4_years               0\n",
       "age_0to6_days                0\n",
       "age_28to364_days             0\n",
       "mortality_rate_female      174\n",
       "mortality_rate_male        174\n",
       "mortality_rate             174\n",
       "population_povertyline     938\n",
       "health_expenditure        2105\n",
       "population_estimates         0\n",
       "electricity_access         753\n",
       "incomeUS                   894\n",
       "incomeUS_pc                897\n",
       "death_rate(per1000)        224\n",
       "education_exp             2745\n",
       "dtype: int64"
      ]
     },
     "execution_count": 9,
     "metadata": {},
     "output_type": "execute_result"
    }
   ],
   "source": [
    "df.isnull().sum()"
   ]
  },
  {
   "cell_type": "code",
   "execution_count": 10,
   "id": "6c7a0920-3de1-4c20-b830-3ea7b6ed2f0f",
   "metadata": {},
   "outputs": [
    {
     "data": {
      "text/plain": [
       "0.000000     268\n",
       "0.479826      19\n",
       "2.713015      12\n",
       "0.094068      10\n",
       "0.492201      10\n",
       "            ... \n",
       "9.813117       1\n",
       "9.553720       1\n",
       "8.778929       1\n",
       "8.067617       1\n",
       "33.216590      1\n",
       "Name: population_povertyline, Length: 4106, dtype: int64"
      ]
     },
     "execution_count": 10,
     "metadata": {},
     "output_type": "execute_result"
    }
   ],
   "source": [
    "df.population_povertyline.value_counts()"
   ]
  },
  {
   "cell_type": "code",
   "execution_count": 11,
   "id": "4eb71fcd-f635-45ee-b8ec-47e0f1915c0b",
   "metadata": {},
   "outputs": [],
   "source": [
    "df.population_povertyline.fillna(0,inplace=True)"
   ]
  },
  {
   "cell_type": "code",
   "execution_count": 12,
   "id": "d2d325c0-e756-4c13-bd62-c1d2d2d97047",
   "metadata": {},
   "outputs": [
    {
     "data": {
      "text/plain": [
       "entity                       0\n",
       "code                         0\n",
       "year                         0\n",
       "deaths_malaria               0\n",
       "deaths_hiv                   0\n",
       "deaths_meningitis            0\n",
       "deaths_nutritional_def       0\n",
       "deaths_other_nd              0\n",
       "deaths_cough                 0\n",
       "deaths_lorespi               0\n",
       "deaths_congenital            0\n",
       "deaths_measles               0\n",
       "deaths_neonatal_inf          0\n",
       "deaths_encephalopathy        0\n",
       "deaths_drowning              0\n",
       "deaths_tuberculosis          0\n",
       "deaths_preterm_b             0\n",
       "deaths_diarrheal             0\n",
       "deaths_neoplasms             0\n",
       "deaths_syphilis              0\n",
       "age_7to27_days               0\n",
       "age_1to4_years               0\n",
       "age_0to6_days                0\n",
       "age_28to364_days             0\n",
       "mortality_rate_female      174\n",
       "mortality_rate_male        174\n",
       "mortality_rate             174\n",
       "population_povertyline       0\n",
       "health_expenditure        2105\n",
       "population_estimates         0\n",
       "electricity_access         753\n",
       "incomeUS                   894\n",
       "incomeUS_pc                897\n",
       "death_rate(per1000)        224\n",
       "education_exp             2745\n",
       "dtype: int64"
      ]
     },
     "execution_count": 12,
     "metadata": {},
     "output_type": "execute_result"
    }
   ],
   "source": [
    "df.isnull().sum()  ##Este se va actualizando conforme se hacen cambios"
   ]
  },
  {
   "cell_type": "code",
   "execution_count": 13,
   "id": "a306b956-1264-44a6-9e5d-7e5328549983",
   "metadata": {},
   "outputs": [
    {
     "data": {
      "text/plain": [
       "0             NaN\n",
       "1             NaN\n",
       "2             NaN\n",
       "3             NaN\n",
       "4             NaN\n",
       "          ...    \n",
       "5534    30.015150\n",
       "5535    29.470831\n",
       "5536    23.527081\n",
       "5537    20.874201\n",
       "5538    19.039841\n",
       "Name: education_exp, Length: 5539, dtype: float64"
      ]
     },
     "execution_count": 13,
     "metadata": {},
     "output_type": "execute_result"
    }
   ],
   "source": [
    "df.education_exp"
   ]
  },
  {
   "cell_type": "code",
   "execution_count": 14,
   "id": "2a634e36-e6c1-46aa-ae60-e87aa9e6aa47",
   "metadata": {},
   "outputs": [],
   "source": [
    "impmedian= mdi.MeanMedianImputer(imputation_method='median', variables=['mortality_rate_female', 'mortality_rate_male', 'mortality_rate', 'education_exp'])\n",
    "df = impmedian.fit_transform(df) "
   ]
  },
  {
   "cell_type": "code",
   "execution_count": 15,
   "id": "18bf4c23-d86c-49d4-8963-050b3c3b63e7",
   "metadata": {},
   "outputs": [],
   "source": [
    "impmean= mdi.MeanMedianImputer(imputation_method='mean', variables=['health_expenditure', 'electricity_access', 'death_rate(per1000)', 'population_povertyline'])\n",
    "df = impmean.fit_transform(df) "
   ]
  },
  {
   "cell_type": "code",
   "execution_count": 16,
   "id": "1f5d92db-8fd6-4f41-912c-3f9ab9de4f81",
   "metadata": {},
   "outputs": [],
   "source": [
    "df= df.replace(to_replace = np.nan, value = 0)"
   ]
  },
  {
   "cell_type": "code",
   "execution_count": 17,
   "id": "21841f97-083a-40c1-8ee5-d40f8a4f9265",
   "metadata": {},
   "outputs": [],
   "source": [
    "nul_health= df.groupby('entity', as_index = False)['health_expenditure'].sum()"
   ]
  },
  {
   "cell_type": "code",
   "execution_count": 18,
   "id": "66cc8ffa-ada5-479c-be37-bc150864827c",
   "metadata": {},
   "outputs": [
    {
     "data": {
      "text/html": [
       "<div>\n",
       "<style scoped>\n",
       "    .dataframe tbody tr th:only-of-type {\n",
       "        vertical-align: middle;\n",
       "    }\n",
       "\n",
       "    .dataframe tbody tr th {\n",
       "        vertical-align: top;\n",
       "    }\n",
       "\n",
       "    .dataframe thead th {\n",
       "        text-align: right;\n",
       "    }\n",
       "</style>\n",
       "<table border=\"1\" class=\"dataframe\">\n",
       "  <thead>\n",
       "    <tr style=\"text-align: right;\">\n",
       "      <th></th>\n",
       "      <th>entity</th>\n",
       "      <th>health_expenditure</th>\n",
       "    </tr>\n",
       "  </thead>\n",
       "  <tbody>\n",
       "    <tr>\n",
       "      <th>0</th>\n",
       "      <td>Afghanistan</td>\n",
       "      <td>15732.674221</td>\n",
       "    </tr>\n",
       "    <tr>\n",
       "      <th>1</th>\n",
       "      <td>Albania</td>\n",
       "      <td>19674.539698</td>\n",
       "    </tr>\n",
       "    <tr>\n",
       "      <th>2</th>\n",
       "      <td>Algeria</td>\n",
       "      <td>21949.261805</td>\n",
       "    </tr>\n",
       "    <tr>\n",
       "      <th>3</th>\n",
       "      <td>Andorra</td>\n",
       "      <td>60885.851223</td>\n",
       "    </tr>\n",
       "    <tr>\n",
       "      <th>4</th>\n",
       "      <td>Angola</td>\n",
       "      <td>14182.451849</td>\n",
       "    </tr>\n",
       "    <tr>\n",
       "      <th>...</th>\n",
       "      <td>...</td>\n",
       "      <td>...</td>\n",
       "    </tr>\n",
       "    <tr>\n",
       "      <th>186</th>\n",
       "      <td>Venezuela</td>\n",
       "      <td>29041.120080</td>\n",
       "    </tr>\n",
       "    <tr>\n",
       "      <th>187</th>\n",
       "      <td>Vietnam</td>\n",
       "      <td>15529.692408</td>\n",
       "    </tr>\n",
       "    <tr>\n",
       "      <th>188</th>\n",
       "      <td>Yemen</td>\n",
       "      <td>17065.093488</td>\n",
       "    </tr>\n",
       "    <tr>\n",
       "      <th>189</th>\n",
       "      <td>Zambia</td>\n",
       "      <td>13471.228388</td>\n",
       "    </tr>\n",
       "    <tr>\n",
       "      <th>190</th>\n",
       "      <td>Zimbabwe</td>\n",
       "      <td>23610.621357</td>\n",
       "    </tr>\n",
       "  </tbody>\n",
       "</table>\n",
       "<p>191 rows × 2 columns</p>\n",
       "</div>"
      ],
      "text/plain": [
       "          entity  health_expenditure\n",
       "0    Afghanistan        15732.674221\n",
       "1        Albania        19674.539698\n",
       "2        Algeria        21949.261805\n",
       "3        Andorra        60885.851223\n",
       "4         Angola        14182.451849\n",
       "..           ...                 ...\n",
       "186    Venezuela        29041.120080\n",
       "187      Vietnam        15529.692408\n",
       "188        Yemen        17065.093488\n",
       "189       Zambia        13471.228388\n",
       "190     Zimbabwe        23610.621357\n",
       "\n",
       "[191 rows x 2 columns]"
      ]
     },
     "execution_count": 18,
     "metadata": {},
     "output_type": "execute_result"
    }
   ],
   "source": [
    "nul_health"
   ]
  },
  {
   "cell_type": "code",
   "execution_count": 19,
   "id": "b482eaa0-cec1-468d-8b63-b4f551e5ac19",
   "metadata": {},
   "outputs": [
    {
     "data": {
      "image/png": "[encoded data removed]",
      "text/plain": [
       "<Figure size 864x432 with 2 Axes>"
      ]
     },
     "metadata": {
      "needs_background": "light"
     },
     "output_type": "display_data"
    }
   ],
   "source": [
    "cols=['mortality_rate_female','mortality_rate_male', 'year']\n",
    "df_plot =df[cols]\n",
    "fig,axes = plt.subplots(figsize = (12,6), nrows = 1, ncols = 2)\n",
    "for i in range(2):\n",
    "    plt.sca(axes[i])\n",
    "    plt.scatter(df_plot.iloc[:,i],df['year'], color=\"#cf580f\", alpha = 0.6)\n",
    "    plt.xlabel(df_plot.iloc[:,i].name)\n",
    "    plt.ylabel('death rates')"
   ]
  },
  {
   "cell_type": "code",
   "execution_count": 20,
   "id": "c52584c1-e5c5-436d-a6ee-e7be4041deed",
   "metadata": {},
   "outputs": [
    {
     "data": {
      "image/png": "[encoded data removed]",
      "text/plain": [
       "<Figure size 864x432 with 2 Axes>"
      ]
     },
     "metadata": {
      "needs_background": "light"
     },
     "output_type": "display_data"
    }
   ],
   "source": [
    "cols=['incomeUS','incomeUS_pc', 'mortality_rate']\n",
    "df_plot =df[cols]\n",
    "fig,axes = plt.subplots(figsize = (12,6), nrows = 1, ncols = 2)\n",
    "for i in range(2):\n",
    "    plt.sca(axes[i])\n",
    "    plt.scatter(df_plot.iloc[:,i],df['mortality_rate'], color=\"#cf580f\", alpha = 0.6)\n",
    "    plt.xlabel(df_plot.iloc[:,i].name)\n",
    "    plt.ylabel('death rates')"
   ]
  },
  {
   "cell_type": "code",
   "execution_count": 21,
   "id": "a8d4616d-0ae2-4459-a865-b1e484122fde",
   "metadata": {},
   "outputs": [
    {
     "data": {
      "image/png": "[encoded data removed]",
      "text/plain": [
       "<Figure size 864x432 with 2 Axes>"
      ]
     },
     "metadata": {
      "needs_background": "light"
     },
     "output_type": "display_data"
    }
   ],
   "source": [
    "cols=['health_expenditure','year', 'deaths_malaria']\n",
    "df_plot =df[cols]\n",
    "fig,axes = plt.subplots(figsize = (12,6), nrows = 1, ncols = 2)\n",
    "for i in range(2):\n",
    "    plt.sca(axes[i])\n",
    "    plt.scatter(df_plot.iloc[:,i],df['deaths_malaria'], color=\"#cf580f\", alpha = 0.6)\n",
    "    plt.xlabel(df_plot.iloc[:,i].name)\n",
    "    plt.ylabel('Malaria deaths')"
   ]
  },
  {
   "cell_type": "code",
   "execution_count": 22,
   "id": "a5c7d83b-79af-4eef-b1dd-31c07f33e7be",
   "metadata": {},
   "outputs": [
    {
     "data": {
      "text/html": [
       "<div>\n",
       "<style scoped>\n",
       "    .dataframe tbody tr th:only-of-type {\n",
       "        vertical-align: middle;\n",
       "    }\n",
       "\n",
       "    .dataframe tbody tr th {\n",
       "        vertical-align: top;\n",
       "    }\n",
       "\n",
       "    .dataframe thead th {\n",
       "        text-align: right;\n",
       "    }\n",
       "</style>\n",
       "<table border=\"1\" class=\"dataframe\">\n",
       "  <thead>\n",
       "    <tr style=\"text-align: right;\">\n",
       "      <th></th>\n",
       "      <th>count</th>\n",
       "      <th>mean</th>\n",
       "      <th>std</th>\n",
       "      <th>min</th>\n",
       "      <th>25%</th>\n",
       "      <th>50%</th>\n",
       "      <th>75%</th>\n",
       "      <th>max</th>\n",
       "    </tr>\n",
       "  </thead>\n",
       "  <tbody>\n",
       "    <tr>\n",
       "      <th>year</th>\n",
       "      <td>5539.0</td>\n",
       "      <td>2.004000e+03</td>\n",
       "      <td>8.367356e+00</td>\n",
       "      <td>1.990000e+03</td>\n",
       "      <td>1.997000e+03</td>\n",
       "      <td>2.004000e+03</td>\n",
       "      <td>2.011000e+03</td>\n",
       "      <td>2.018000e+03</td>\n",
       "    </tr>\n",
       "    <tr>\n",
       "      <th>deaths_malaria</th>\n",
       "      <td>5539.0</td>\n",
       "      <td>2.478189e+03</td>\n",
       "      <td>1.152931e+04</td>\n",
       "      <td>0.000000e+00</td>\n",
       "      <td>0.000000e+00</td>\n",
       "      <td>0.000000e+00</td>\n",
       "      <td>9.600000e+01</td>\n",
       "      <td>1.759250e+05</td>\n",
       "    </tr>\n",
       "    <tr>\n",
       "      <th>deaths_hiv</th>\n",
       "      <td>5539.0</td>\n",
       "      <td>6.845819e+02</td>\n",
       "      <td>2.521886e+03</td>\n",
       "      <td>0.000000e+00</td>\n",
       "      <td>0.000000e+00</td>\n",
       "      <td>5.000000e+00</td>\n",
       "      <td>1.455000e+02</td>\n",
       "      <td>2.094200e+04</td>\n",
       "    </tr>\n",
       "    <tr>\n",
       "      <th>deaths_meningitis</th>\n",
       "      <td>5539.0</td>\n",
       "      <td>1.071036e+03</td>\n",
       "      <td>4.240166e+03</td>\n",
       "      <td>0.000000e+00</td>\n",
       "      <td>4.000000e+00</td>\n",
       "      <td>3.800000e+01</td>\n",
       "      <td>4.395000e+02</td>\n",
       "      <td>5.315900e+04</td>\n",
       "    </tr>\n",
       "    <tr>\n",
       "      <th>deaths_nutritional_def</th>\n",
       "      <td>5539.0</td>\n",
       "      <td>1.344526e+03</td>\n",
       "      <td>7.186252e+03</td>\n",
       "      <td>0.000000e+00</td>\n",
       "      <td>1.000000e+00</td>\n",
       "      <td>1.200000e+01</td>\n",
       "      <td>4.940000e+02</td>\n",
       "      <td>1.905240e+05</td>\n",
       "    </tr>\n",
       "    <tr>\n",
       "      <th>deaths_other_nd</th>\n",
       "      <td>5539.0</td>\n",
       "      <td>2.456880e+03</td>\n",
       "      <td>1.485920e+04</td>\n",
       "      <td>0.000000e+00</td>\n",
       "      <td>2.300000e+01</td>\n",
       "      <td>1.620000e+02</td>\n",
       "      <td>9.840000e+02</td>\n",
       "      <td>2.223060e+05</td>\n",
       "    </tr>\n",
       "    <tr>\n",
       "      <th>deaths_cough</th>\n",
       "      <td>5539.0</td>\n",
       "      <td>8.306415e+02</td>\n",
       "      <td>3.771404e+03</td>\n",
       "      <td>0.000000e+00</td>\n",
       "      <td>0.000000e+00</td>\n",
       "      <td>1.600000e+01</td>\n",
       "      <td>3.495000e+02</td>\n",
       "      <td>6.827800e+04</td>\n",
       "    </tr>\n",
       "    <tr>\n",
       "      <th>deaths_lorespi</th>\n",
       "      <td>5539.0</td>\n",
       "      <td>7.062429e+03</td>\n",
       "      <td>3.148504e+04</td>\n",
       "      <td>0.000000e+00</td>\n",
       "      <td>1.900000e+01</td>\n",
       "      <td>2.770000e+02</td>\n",
       "      <td>4.007000e+03</td>\n",
       "      <td>5.220860e+05</td>\n",
       "    </tr>\n",
       "    <tr>\n",
       "      <th>deaths_congenital</th>\n",
       "      <td>5539.0</td>\n",
       "      <td>3.322136e+03</td>\n",
       "      <td>1.100792e+04</td>\n",
       "      <td>0.000000e+00</td>\n",
       "      <td>8.300000e+01</td>\n",
       "      <td>4.280000e+02</td>\n",
       "      <td>2.357500e+03</td>\n",
       "      <td>1.636720e+05</td>\n",
       "    </tr>\n",
       "    <tr>\n",
       "      <th>deaths_measles</th>\n",
       "      <td>5539.0</td>\n",
       "      <td>1.926389e+03</td>\n",
       "      <td>8.803262e+03</td>\n",
       "      <td>0.000000e+00</td>\n",
       "      <td>0.000000e+00</td>\n",
       "      <td>1.000000e+00</td>\n",
       "      <td>3.210000e+02</td>\n",
       "      <td>1.406890e+05</td>\n",
       "    </tr>\n",
       "    <tr>\n",
       "      <th>deaths_neonatal_inf</th>\n",
       "      <td>5539.0</td>\n",
       "      <td>1.321284e+03</td>\n",
       "      <td>4.817796e+03</td>\n",
       "      <td>0.000000e+00</td>\n",
       "      <td>8.000000e+00</td>\n",
       "      <td>8.500000e+01</td>\n",
       "      <td>8.410000e+02</td>\n",
       "      <td>6.653600e+04</td>\n",
       "    </tr>\n",
       "    <tr>\n",
       "      <th>deaths_encephalopathy</th>\n",
       "      <td>5539.0</td>\n",
       "      <td>3.821994e+03</td>\n",
       "      <td>1.565372e+04</td>\n",
       "      <td>0.000000e+00</td>\n",
       "      <td>3.100000e+01</td>\n",
       "      <td>2.290000e+02</td>\n",
       "      <td>1.780000e+03</td>\n",
       "      <td>1.887810e+05</td>\n",
       "    </tr>\n",
       "    <tr>\n",
       "      <th>deaths_drowning</th>\n",
       "      <td>5539.0</td>\n",
       "      <td>4.987942e+02</td>\n",
       "      <td>2.916231e+03</td>\n",
       "      <td>0.000000e+00</td>\n",
       "      <td>4.000000e+00</td>\n",
       "      <td>2.400000e+01</td>\n",
       "      <td>2.000000e+02</td>\n",
       "      <td>6.112300e+04</td>\n",
       "    </tr>\n",
       "    <tr>\n",
       "      <th>deaths_tuberculosis</th>\n",
       "      <td>5539.0</td>\n",
       "      <td>5.882105e+02</td>\n",
       "      <td>2.440270e+03</td>\n",
       "      <td>0.000000e+00</td>\n",
       "      <td>0.000000e+00</td>\n",
       "      <td>8.000000e+00</td>\n",
       "      <td>1.860000e+02</td>\n",
       "      <td>4.635300e+04</td>\n",
       "    </tr>\n",
       "    <tr>\n",
       "      <th>deaths_preterm_b</th>\n",
       "      <td>5539.0</td>\n",
       "      <td>5.023209e+03</td>\n",
       "      <td>2.169494e+04</td>\n",
       "      <td>0.000000e+00</td>\n",
       "      <td>8.100000e+01</td>\n",
       "      <td>4.720000e+02</td>\n",
       "      <td>2.876000e+03</td>\n",
       "      <td>3.176740e+05</td>\n",
       "    </tr>\n",
       "    <tr>\n",
       "      <th>deaths_diarrheal</th>\n",
       "      <td>5539.0</td>\n",
       "      <td>5.390270e+03</td>\n",
       "      <td>2.346582e+04</td>\n",
       "      <td>0.000000e+00</td>\n",
       "      <td>3.000000e+00</td>\n",
       "      <td>7.800000e+01</td>\n",
       "      <td>2.297500e+03</td>\n",
       "      <td>3.705850e+05</td>\n",
       "    </tr>\n",
       "    <tr>\n",
       "      <th>deaths_neoplasms</th>\n",
       "      <td>5539.0</td>\n",
       "      <td>3.133867e+02</td>\n",
       "      <td>1.257065e+03</td>\n",
       "      <td>0.000000e+00</td>\n",
       "      <td>8.000000e+00</td>\n",
       "      <td>3.600000e+01</td>\n",
       "      <td>1.895000e+02</td>\n",
       "      <td>2.504800e+04</td>\n",
       "    </tr>\n",
       "    <tr>\n",
       "      <th>deaths_syphilis</th>\n",
       "      <td>5539.0</td>\n",
       "      <td>4.274903e+02</td>\n",
       "      <td>1.432845e+03</td>\n",
       "      <td>0.000000e+00</td>\n",
       "      <td>0.000000e+00</td>\n",
       "      <td>9.000000e+00</td>\n",
       "      <td>1.840000e+02</td>\n",
       "      <td>1.923500e+04</td>\n",
       "    </tr>\n",
       "    <tr>\n",
       "      <th>age_7to27_days</th>\n",
       "      <td>5539.0</td>\n",
       "      <td>4.340790e+03</td>\n",
       "      <td>1.936247e+04</td>\n",
       "      <td>0.000000e+00</td>\n",
       "      <td>4.900000e+01</td>\n",
       "      <td>2.950000e+02</td>\n",
       "      <td>2.556500e+03</td>\n",
       "      <td>3.615590e+05</td>\n",
       "    </tr>\n",
       "    <tr>\n",
       "      <th>age_1to4_years</th>\n",
       "      <td>5539.0</td>\n",
       "      <td>1.294143e+04</td>\n",
       "      <td>5.194573e+04</td>\n",
       "      <td>0.000000e+00</td>\n",
       "      <td>6.600000e+01</td>\n",
       "      <td>6.030000e+02</td>\n",
       "      <td>6.404000e+03</td>\n",
       "      <td>8.805200e+05</td>\n",
       "    </tr>\n",
       "    <tr>\n",
       "      <th>age_0to6_days</th>\n",
       "      <td>5539.0</td>\n",
       "      <td>1.336058e+04</td>\n",
       "      <td>6.039408e+04</td>\n",
       "      <td>0.000000e+00</td>\n",
       "      <td>1.630000e+02</td>\n",
       "      <td>1.019000e+03</td>\n",
       "      <td>7.518500e+03</td>\n",
       "      <td>8.870540e+05</td>\n",
       "    </tr>\n",
       "    <tr>\n",
       "      <th>age_28to364_days</th>\n",
       "      <td>5539.0</td>\n",
       "      <td>1.275576e+04</td>\n",
       "      <td>4.682860e+04</td>\n",
       "      <td>0.000000e+00</td>\n",
       "      <td>1.020000e+02</td>\n",
       "      <td>9.190000e+02</td>\n",
       "      <td>8.438000e+03</td>\n",
       "      <td>7.128420e+05</td>\n",
       "    </tr>\n",
       "    <tr>\n",
       "      <th>mortality_rate_female</th>\n",
       "      <td>5539.0</td>\n",
       "      <td>4.498783e+00</td>\n",
       "      <td>4.972285e+00</td>\n",
       "      <td>1.700000e-01</td>\n",
       "      <td>9.800000e-01</td>\n",
       "      <td>2.420000e+00</td>\n",
       "      <td>6.480000e+00</td>\n",
       "      <td>3.315000e+01</td>\n",
       "    </tr>\n",
       "    <tr>\n",
       "      <th>mortality_rate_male</th>\n",
       "      <td>5539.0</td>\n",
       "      <td>5.155723e+00</td>\n",
       "      <td>5.445796e+00</td>\n",
       "      <td>2.100000e-01</td>\n",
       "      <td>1.180000e+00</td>\n",
       "      <td>2.960000e+00</td>\n",
       "      <td>7.540000e+00</td>\n",
       "      <td>3.504000e+01</td>\n",
       "    </tr>\n",
       "    <tr>\n",
       "      <th>mortality_rate</th>\n",
       "      <td>5539.0</td>\n",
       "      <td>4.835488e+00</td>\n",
       "      <td>5.213203e+00</td>\n",
       "      <td>1.900000e-01</td>\n",
       "      <td>1.085000e+00</td>\n",
       "      <td>2.690000e+00</td>\n",
       "      <td>7.030000e+00</td>\n",
       "      <td>3.412000e+01</td>\n",
       "    </tr>\n",
       "    <tr>\n",
       "      <th>population_povertyline</th>\n",
       "      <td>5539.0</td>\n",
       "      <td>1.532325e+01</td>\n",
       "      <td>2.283483e+01</td>\n",
       "      <td>0.000000e+00</td>\n",
       "      <td>5.703413e-02</td>\n",
       "      <td>2.163802e+00</td>\n",
       "      <td>2.205933e+01</td>\n",
       "      <td>9.510525e+01</td>\n",
       "    </tr>\n",
       "    <tr>\n",
       "      <th>health_expenditure</th>\n",
       "      <td>5539.0</td>\n",
       "      <td>1.088976e+03</td>\n",
       "      <td>1.089747e+03</td>\n",
       "      <td>1.061424e+01</td>\n",
       "      <td>3.512407e+02</td>\n",
       "      <td>1.088976e+03</td>\n",
       "      <td>1.088976e+03</td>\n",
       "      <td>1.051532e+04</td>\n",
       "    </tr>\n",
       "    <tr>\n",
       "      <th>population_estimates</th>\n",
       "      <td>5539.0</td>\n",
       "      <td>3.314588e+07</td>\n",
       "      <td>1.292572e+08</td>\n",
       "      <td>8.910000e+03</td>\n",
       "      <td>1.521707e+06</td>\n",
       "      <td>6.534936e+06</td>\n",
       "      <td>2.052945e+07</td>\n",
       "      <td>1.427648e+09</td>\n",
       "    </tr>\n",
       "    <tr>\n",
       "      <th>electricity_access</th>\n",
       "      <td>5539.0</td>\n",
       "      <td>7.896322e+01</td>\n",
       "      <td>2.875429e+01</td>\n",
       "      <td>5.338985e-01</td>\n",
       "      <td>7.225469e+01</td>\n",
       "      <td>9.512542e+01</td>\n",
       "      <td>1.000000e+02</td>\n",
       "      <td>1.000000e+02</td>\n",
       "    </tr>\n",
       "    <tr>\n",
       "      <th>incomeUS</th>\n",
       "      <td>5539.0</td>\n",
       "      <td>2.149564e+11</td>\n",
       "      <td>9.777115e+11</td>\n",
       "      <td>-3.657000e+08</td>\n",
       "      <td>9.746000e+08</td>\n",
       "      <td>9.342000e+09</td>\n",
       "      <td>6.932000e+10</td>\n",
       "      <td>1.750000e+13</td>\n",
       "    </tr>\n",
       "    <tr>\n",
       "      <th>incomeUS_pc</th>\n",
       "      <td>5539.0</td>\n",
       "      <td>6.650797e+03</td>\n",
       "      <td>1.201171e+04</td>\n",
       "      <td>-4.879077e+02</td>\n",
       "      <td>3.256753e+02</td>\n",
       "      <td>1.514625e+03</td>\n",
       "      <td>6.210502e+03</td>\n",
       "      <td>1.519103e+05</td>\n",
       "    </tr>\n",
       "    <tr>\n",
       "      <th>death_rate(per1000)</th>\n",
       "      <td>5539.0</td>\n",
       "      <td>8.861633e+00</td>\n",
       "      <td>3.790472e+00</td>\n",
       "      <td>1.127000e+00</td>\n",
       "      <td>6.295000e+00</td>\n",
       "      <td>8.237000e+00</td>\n",
       "      <td>1.050000e+01</td>\n",
       "      <td>4.135900e+01</td>\n",
       "    </tr>\n",
       "    <tr>\n",
       "      <th>education_exp</th>\n",
       "      <td>5539.0</td>\n",
       "      <td>1.437916e+01</td>\n",
       "      <td>3.671485e+00</td>\n",
       "      <td>8.333600e-01</td>\n",
       "      <td>1.397087e+01</td>\n",
       "      <td>1.401654e+01</td>\n",
       "      <td>1.406618e+01</td>\n",
       "      <td>4.727874e+01</td>\n",
       "    </tr>\n",
       "  </tbody>\n",
       "</table>\n",
       "</div>"
      ],
      "text/plain": [
       "                         count          mean           std           min  \\\n",
       "year                    5539.0  2.004000e+03  8.367356e+00  1.990000e+03   \n",
       "deaths_malaria          5539.0  2.478189e+03  1.152931e+04  0.000000e+00   \n",
       "deaths_hiv              5539.0  6.845819e+02  2.521886e+03  0.000000e+00   \n",
       "deaths_meningitis       5539.0  1.071036e+03  4.240166e+03  0.000000e+00   \n",
       "deaths_nutritional_def  5539.0  1.344526e+03  7.186252e+03  0.000000e+00   \n",
       "deaths_other_nd         5539.0  2.456880e+03  1.485920e+04  0.000000e+00   \n",
       "deaths_cough            5539.0  8.306415e+02  3.771404e+03  0.000000e+00   \n",
       "deaths_lorespi          5539.0  7.062429e+03  3.148504e+04  0.000000e+00   \n",
       "deaths_congenital       5539.0  3.322136e+03  1.100792e+04  0.000000e+00   \n",
       "deaths_measles          5539.0  1.926389e+03  8.803262e+03  0.000000e+00   \n",
       "deaths_neonatal_inf     5539.0  1.321284e+03  4.817796e+03  0.000000e+00   \n",
       "deaths_encephalopathy   5539.0  3.821994e+03  1.565372e+04  0.000000e+00   \n",
       "deaths_drowning         5539.0  4.987942e+02  2.916231e+03  0.000000e+00   \n",
       "deaths_tuberculosis     5539.0  5.882105e+02  2.440270e+03  0.000000e+00   \n",
       "deaths_preterm_b        5539.0  5.023209e+03  2.169494e+04  0.000000e+00   \n",
       "deaths_diarrheal        5539.0  5.390270e+03  2.346582e+04  0.000000e+00   \n",
       "deaths_neoplasms        5539.0  3.133867e+02  1.257065e+03  0.000000e+00   \n",
       "deaths_syphilis         5539.0  4.274903e+02  1.432845e+03  0.000000e+00   \n",
       "age_7to27_days          5539.0  4.340790e+03  1.936247e+04  0.000000e+00   \n",
       "age_1to4_years          5539.0  1.294143e+04  5.194573e+04  0.000000e+00   \n",
       "age_0to6_days           5539.0  1.336058e+04  6.039408e+04  0.000000e+00   \n",
       "age_28to364_days        5539.0  1.275576e+04  4.682860e+04  0.000000e+00   \n",
       "mortality_rate_female   5539.0  4.498783e+00  4.972285e+00  1.700000e-01   \n",
       "mortality_rate_male     5539.0  5.155723e+00  5.445796e+00  2.100000e-01   \n",
       "mortality_rate          5539.0  4.835488e+00  5.213203e+00  1.900000e-01   \n",
       "population_povertyline  5539.0  1.532325e+01  2.283483e+01  0.000000e+00   \n",
       "health_expenditure      5539.0  1.088976e+03  1.089747e+03  1.061424e+01   \n",
       "population_estimates    5539.0  3.314588e+07  1.292572e+08  8.910000e+03   \n",
       "electricity_access      5539.0  7.896322e+01  2.875429e+01  5.338985e-01   \n",
       "incomeUS                5539.0  2.149564e+11  9.777115e+11 -3.657000e+08   \n",
       "incomeUS_pc             5539.0  6.650797e+03  1.201171e+04 -4.879077e+02   \n",
       "death_rate(per1000)     5539.0  8.861633e+00  3.790472e+00  1.127000e+00   \n",
       "education_exp           5539.0  1.437916e+01  3.671485e+00  8.333600e-01   \n",
       "\n",
       "                                 25%           50%           75%           max  \n",
       "year                    1.997000e+03  2.004000e+03  2.011000e+03  2.018000e+03  \n",
       "deaths_malaria          0.000000e+00  0.000000e+00  9.600000e+01  1.759250e+05  \n",
       "deaths_hiv              0.000000e+00  5.000000e+00  1.455000e+02  2.094200e+04  \n",
       "deaths_meningitis       4.000000e+00  3.800000e+01  4.395000e+02  5.315900e+04  \n",
       "deaths_nutritional_def  1.000000e+00  1.200000e+01  4.940000e+02  1.905240e+05  \n",
       "deaths_other_nd         2.300000e+01  1.620000e+02  9.840000e+02  2.223060e+05  \n",
       "deaths_cough            0.000000e+00  1.600000e+01  3.495000e+02  6.827800e+04  \n",
       "deaths_lorespi          1.900000e+01  2.770000e+02  4.007000e+03  5.220860e+05  \n",
       "deaths_congenital       8.300000e+01  4.280000e+02  2.357500e+03  1.636720e+05  \n",
       "deaths_measles          0.000000e+00  1.000000e+00  3.210000e+02  1.406890e+05  \n",
       "deaths_neonatal_inf     8.000000e+00  8.500000e+01  8.410000e+02  6.653600e+04  \n",
       "deaths_encephalopathy   3.100000e+01  2.290000e+02  1.780000e+03  1.887810e+05  \n",
       "deaths_drowning         4.000000e+00  2.400000e+01  2.000000e+02  6.112300e+04  \n",
       "deaths_tuberculosis     0.000000e+00  8.000000e+00  1.860000e+02  4.635300e+04  \n",
       "deaths_preterm_b        8.100000e+01  4.720000e+02  2.876000e+03  3.176740e+05  \n",
       "deaths_diarrheal        3.000000e+00  7.800000e+01  2.297500e+03  3.705850e+05  \n",
       "deaths_neoplasms        8.000000e+00  3.600000e+01  1.895000e+02  2.504800e+04  \n",
       "deaths_syphilis         0.000000e+00  9.000000e+00  1.840000e+02  1.923500e+04  \n",
       "age_7to27_days          4.900000e+01  2.950000e+02  2.556500e+03  3.615590e+05  \n",
       "age_1to4_years          6.600000e+01  6.030000e+02  6.404000e+03  8.805200e+05  \n",
       "age_0to6_days           1.630000e+02  1.019000e+03  7.518500e+03  8.870540e+05  \n",
       "age_28to364_days        1.020000e+02  9.190000e+02  8.438000e+03  7.128420e+05  \n",
       "mortality_rate_female   9.800000e-01  2.420000e+00  6.480000e+00  3.315000e+01  \n",
       "mortality_rate_male     1.180000e+00  2.960000e+00  7.540000e+00  3.504000e+01  \n",
       "mortality_rate          1.085000e+00  2.690000e+00  7.030000e+00  3.412000e+01  \n",
       "population_povertyline  5.703413e-02  2.163802e+00  2.205933e+01  9.510525e+01  \n",
       "health_expenditure      3.512407e+02  1.088976e+03  1.088976e+03  1.051532e+04  \n",
       "population_estimates    1.521707e+06  6.534936e+06  2.052945e+07  1.427648e+09  \n",
       "electricity_access      7.225469e+01  9.512542e+01  1.000000e+02  1.000000e+02  \n",
       "incomeUS                9.746000e+08  9.342000e+09  6.932000e+10  1.750000e+13  \n",
       "incomeUS_pc             3.256753e+02  1.514625e+03  6.210502e+03  1.519103e+05  \n",
       "death_rate(per1000)     6.295000e+00  8.237000e+00  1.050000e+01  4.135900e+01  \n",
       "education_exp           1.397087e+01  1.401654e+01  1.406618e+01  4.727874e+01  "
      ]
     },
     "execution_count": 22,
     "metadata": {},
     "output_type": "execute_result"
    }
   ],
   "source": [
    "df.describe().T"
   ]
  },
  {
   "cell_type": "code",
   "execution_count": 23,
   "id": "2ab7c294-0b8c-4bec-ab56-5ba98bf80be5",
   "metadata": {},
   "outputs": [
    {
     "data": {
      "image/png": "[encoded data removed]",
      "text/plain": [
       "<Figure size 432x288 with 1 Axes>"
      ]
     },
     "metadata": {
      "needs_background": "light"
     },
     "output_type": "display_data"
    }
   ],
   "source": [
    "plt.hist(df.mortality_rate)\n",
    "plt.show()"
   ]
  },
  {
   "cell_type": "code",
   "execution_count": 24,
   "id": "5ce70a97-d591-4322-bc5d-5da33a6a6bd4",
   "metadata": {},
   "outputs": [
    {
     "data": {
      "text/plain": [
       "<AxesSubplot:xlabel='deaths_malaria'>"
      ]
     },
     "execution_count": 24,
     "metadata": {},
     "output_type": "execute_result"
    },
    {
     "data": {
      "image/png": "[encoded data removed]",
      "text/plain": [
       "<Figure size 432x288 with 1 Axes>"
      ]
     },
     "metadata": {
      "needs_background": "light"
     },
     "output_type": "display_data"
    }
   ],
   "source": [
    "sns.boxplot(x=df[\"deaths_malaria\"])"
   ]
  },
  {
   "cell_type": "code",
   "execution_count": 25,
   "id": "4ba6f679-a1cf-4ec1-abfe-be38d7b9e6b3",
   "metadata": {},
   "outputs": [],
   "source": [
    "suma_dis= df.groupby('year', as_index = False)[['deaths_malaria', 'deaths_hiv',\n",
    "       'deaths_meningitis', 'deaths_nutritional_def', 'deaths_other_nd',\n",
    "       'deaths_cough', 'deaths_lorespi', 'deaths_congenital', 'deaths_measles',\n",
    "       'deaths_neonatal_inf', 'deaths_encephalopathy', 'deaths_drowning',\n",
    "       'deaths_tuberculosis', 'deaths_preterm_b', 'deaths_diarrheal',\n",
    "       'deaths_neoplasms', 'deaths_syphilis']].sum()"
   ]
  },
  {
   "cell_type": "code",
   "execution_count": 26,
   "id": "0eecdac2-a819-4b88-9d3c-f8e7f8d782a6",
   "metadata": {},
   "outputs": [],
   "source": [
    "from ipywidgets import interact"
   ]
  },
  {
   "cell_type": "code",
   "execution_count": 27,
   "id": "270d8344-dddf-4852-934f-0c35ce7272f1",
   "metadata": {},
   "outputs": [
    {
     "data": {
      "text/plain": [
       "<AxesSubplot:xlabel='population_povertyline', ylabel='mortality_rate'>"
      ]
     },
     "execution_count": 27,
     "metadata": {},
     "output_type": "execute_result"
    },
    {
     "data": {
      "image/png": "[encoded data removed]",
      "text/plain": [
       "<Figure size 432x288 with 1 Axes>"
      ]
     },
     "metadata": {
      "needs_background": "light"
     },
     "output_type": "display_data"
    }
   ],
   "source": [
    "sns.scatterplot(x ='population_povertyline', y= 'mortality_rate', data=df)"
   ]
  },
  {
   "cell_type": "code",
   "execution_count": 28,
   "id": "735aaf92-ad28-4948-94d8-f0563b02cc08",
   "metadata": {},
   "outputs": [
    {
     "data": {
      "text/plain": [
       "<AxesSubplot:xlabel='health_expenditure', ylabel='mortality_rate'>"
      ]
     },
     "execution_count": 28,
     "metadata": {},
     "output_type": "execute_result"
    },
    {
     "data": {
      "image/png": "[encoded data removed]",
      "text/plain": [
       "<Figure size 432x288 with 1 Axes>"
      ]
     },
     "metadata": {
      "needs_background": "light"
     },
     "output_type": "display_data"
    }
   ],
   "source": [
    "sns.scatterplot(x ='health_expenditure', y= 'mortality_rate', data=df)"
   ]
  },
  {
   "cell_type": "code",
   "execution_count": 29,
   "id": "73463a8a-0da2-40b7-b828-1c3b12ec57c6",
   "metadata": {},
   "outputs": [
    {
     "data": {
      "text/plain": [
       "<AxesSubplot:xlabel='education_exp', ylabel='mortality_rate'>"
      ]
     },
     "execution_count": 29,
     "metadata": {},
     "output_type": "execute_result"
    },
    {
     "data": {
      "image/png": "[encoded data removed]",
      "text/plain": [
       "<Figure size 432x288 with 1 Axes>"
      ]
     },
     "metadata": {
      "needs_background": "light"
     },
     "output_type": "display_data"
    }
   ],
   "source": [
    "sns.scatterplot(x ='education_exp', y= 'mortality_rate', data=df)"
   ]
  },
  {
   "cell_type": "code",
   "execution_count": 30,
   "id": "9017f7cc-29e0-4dfe-b17d-d725db3ca98e",
   "metadata": {},
   "outputs": [
    {
     "data": {
      "image/png": "[encoded data removed]",
      "text/plain": [
       "<Figure size 432x288 with 1 Axes>"
      ]
     },
     "metadata": {
      "needs_background": "light"
     },
     "output_type": "display_data"
    }
   ],
   "source": [
    "sns.scatterplot(x ='year', y= 'mortality_rate', data=df)\n",
    "import plotly.express as px"
   ]
  },
  {
   "cell_type": "code",
   "execution_count": 31,
   "id": "ea3794ad-acdf-4a0b-afc7-4db8a0c61fea",
   "metadata": {},
   "outputs": [
    {
     "data": {
      "application/vnd.jupyter.widget-view+json": {
       "model_id": "7f08463f95c14b29ac266e7921e1ea5a",
       "version_major": 2,
       "version_minor": 0
      },
      "text/plain": [
       "interactive(children=(Text(value='year', description='x'), Dropdown(description='y', options=('deaths_malaria'…"
      ]
     },
     "metadata": {},
     "output_type": "display_data"
    }
   ],
   "source": [
    "@interact\n",
    "def scatter(x= 'year', y = ['deaths_malaria', 'deaths_hiv',\n",
    "       'deaths_meningitis', 'deaths_nutritional_def', 'deaths_other_nd',\n",
    "       'deaths_cough', 'deaths_lorespi', 'deaths_congenital', 'deaths_measles',\n",
    "       'deaths_neonatal_inf', 'deaths_encephalopathy', 'deaths_drowning',\n",
    "       'deaths_tuberculosis', 'deaths_preterm_b', 'deaths_diarrheal',\n",
    "       'deaths_neoplasms', 'deaths_syphilis']):\n",
    "      return px.scatter(suma_dis, x, y, )"
   ]
  },
  {
   "cell_type": "code",
   "execution_count": 32,
   "id": "36ef8e40-cb5b-42e4-b51d-b781d3a9b1b4",
   "metadata": {},
   "outputs": [
    {
     "data": {
      "application/vnd.jupyter.widget-view+json": {
       "model_id": "73edc1821a13482694e5f77a09da332e",
       "version_major": 2,
       "version_minor": 0
      },
      "text/plain": [
       "interactive(children=(Text(value='year', description='x'), Dropdown(description='y', options=('age_7to27_days'…"
      ]
     },
     "metadata": {},
     "output_type": "display_data"
    }
   ],
   "source": [
    "@interact\n",
    "def scatter(x= 'year', y = ['age_7to27_days', 'age_1to4_years',\n",
    "       'age_0to6_days', 'age_28to364_days']):\n",
    "      return px.scatter(df, x, y )"
   ]
  },
  {
   "cell_type": "code",
   "execution_count": 33,
   "id": "8e45cc24-0edd-47d8-9124-ece30e78fe40",
   "metadata": {},
   "outputs": [
    {
     "data": {
      "image/png": "[encoded data removed]",
      "text/plain": [
       "<Figure size 864x432 with 2 Axes>"
      ]
     },
     "metadata": {
      "needs_background": "light"
     },
     "output_type": "display_data"
    }
   ],
   "source": [
    "cols=[ 'age_0to6_days','age_7to27_days', 'mortality_rate']\n",
    "df_plot =df[cols]\n",
    "fig,axes = plt.subplots(figsize = (12,6), nrows = 1, ncols = 2)\n",
    "for i in range(2):\n",
    "    plt.sca(axes[i])\n",
    "    plt.scatter(df_plot.iloc[:,i],df['mortality_rate'], color=\"gray\", alpha = 0.5)\n",
    "    plt.xlabel(df_plot.iloc[:,i].name)\n",
    "    plt.ylabel('Mortality')"
   ]
  },
  {
   "cell_type": "code",
   "execution_count": 34,
   "id": "13aa1505-4284-4388-ae72-6e67cd578a4c",
   "metadata": {},
   "outputs": [
    {
     "data": {
      "image/png": "[encoded data removed]",
      "text/plain": [
       "<Figure size 864x432 with 2 Axes>"
      ]
     },
     "metadata": {
      "needs_background": "light"
     },
     "output_type": "display_data"
    }
   ],
   "source": [
    "cols=[ 'age_28to364_days','age_1to4_years', 'mortality_rate']\n",
    "df_plot =df[cols]\n",
    "fig,axes = plt.subplots(figsize = (12,6), nrows = 1, ncols = 2)\n",
    "for i in range(2):\n",
    "    plt.sca(axes[i])\n",
    "    plt.scatter(df_plot.iloc[:,i],df['mortality_rate'], color=\"gray\", alpha = 0.5)\n",
    "    plt.xlabel(df_plot.iloc[:,i].name)\n",
    "    plt.ylabel('Mortality')"
   ]
  },
  {
   "cell_type": "code",
   "execution_count": 35,
   "id": "282ba84c-1142-434c-ae7b-eba46a3a17a9",
   "metadata": {},
   "outputs": [
    {
     "data": {
      "image/png": "[encoded data removed]",
      "text/plain": [
       "<Figure size 432x288 with 1 Axes>"
      ]
     },
     "metadata": {
      "needs_background": "light"
     },
     "output_type": "display_data"
    }
   ],
   "source": [
    "sns.scatterplot(x ='population_estimates', y= 'electricity_access', data=df)\n",
    "import plotly.express as px"
   ]
  },
  {
   "cell_type": "code",
   "execution_count": 36,
   "id": "84bcf476-03c7-48ff-9f30-fd2b1bd20d05",
   "metadata": {},
   "outputs": [],
   "source": [
    "suma_mor= df.groupby('entity',as_index = False)[['mortality_rate']].mean()\n",
    "lista= list(suma_mor.sort_values(by='mortality_rate',ascending=False).head(20).entity)"
   ]
  },
  {
   "cell_type": "code",
   "execution_count": 37,
   "id": "a6af2134-fddf-4cde-b12b-55ebd63bf00f",
   "metadata": {},
   "outputs": [
    {
     "data": {
      "text/plain": [
       "['Sierra Leone',\n",
       " 'Niger',\n",
       " 'Chad',\n",
       " 'Nigeria',\n",
       " 'Mali',\n",
       " 'Angola',\n",
       " 'Somalia',\n",
       " 'Liberia',\n",
       " 'South Sudan',\n",
       " 'Central African Republic',\n",
       " 'Burkina Faso',\n",
       " 'Guinea',\n",
       " 'Guinea-Bissau',\n",
       " 'Mozambique',\n",
       " 'Equatorial Guinea',\n",
       " 'Malawi',\n",
       " 'Rwanda',\n",
       " 'Benin',\n",
       " 'Burundi',\n",
       " \"Cote d'Ivoire\"]"
      ]
     },
     "execution_count": 37,
     "metadata": {},
     "output_type": "execute_result"
    }
   ],
   "source": [
    "lista"
   ]
  },
  {
   "cell_type": "code",
   "execution_count": 38,
   "id": "de9d78cc-611b-4bf3-aa07-e57e69388366",
   "metadata": {},
   "outputs": [
    {
     "data": {
      "text/html": [
       "<div>\n",
       "<style scoped>\n",
       "    .dataframe tbody tr th:only-of-type {\n",
       "        vertical-align: middle;\n",
       "    }\n",
       "\n",
       "    .dataframe tbody tr th {\n",
       "        vertical-align: top;\n",
       "    }\n",
       "\n",
       "    .dataframe thead th {\n",
       "        text-align: right;\n",
       "    }\n",
       "</style>\n",
       "<table border=\"1\" class=\"dataframe\">\n",
       "  <thead>\n",
       "    <tr style=\"text-align: right;\">\n",
       "      <th></th>\n",
       "      <th>df</th>\n",
       "      <th>sum_sq</th>\n",
       "      <th>mean_sq</th>\n",
       "      <th>F</th>\n",
       "      <th>PR(&gt;F)</th>\n",
       "    </tr>\n",
       "  </thead>\n",
       "  <tbody>\n",
       "    <tr>\n",
       "      <th>population_povertyline</th>\n",
       "      <td>1.0</td>\n",
       "      <td>88206.717182</td>\n",
       "      <td>88206.717182</td>\n",
       "      <td>8966.518265</td>\n",
       "      <td>0.000000e+00</td>\n",
       "    </tr>\n",
       "    <tr>\n",
       "      <th>electricity_access</th>\n",
       "      <td>1.0</td>\n",
       "      <td>3769.268050</td>\n",
       "      <td>3769.268050</td>\n",
       "      <td>383.159150</td>\n",
       "      <td>1.503335e-82</td>\n",
       "    </tr>\n",
       "    <tr>\n",
       "      <th>incomeUS_pc</th>\n",
       "      <td>1.0</td>\n",
       "      <td>2406.416908</td>\n",
       "      <td>2406.416908</td>\n",
       "      <td>244.620612</td>\n",
       "      <td>5.466939e-54</td>\n",
       "    </tr>\n",
       "    <tr>\n",
       "      <th>health_expenditure</th>\n",
       "      <td>1.0</td>\n",
       "      <td>1128.743731</td>\n",
       "      <td>1128.743731</td>\n",
       "      <td>114.740709</td>\n",
       "      <td>1.629692e-26</td>\n",
       "    </tr>\n",
       "    <tr>\n",
       "      <th>population_estimates</th>\n",
       "      <td>1.0</td>\n",
       "      <td>391.556088</td>\n",
       "      <td>391.556088</td>\n",
       "      <td>39.803032</td>\n",
       "      <td>3.027310e-10</td>\n",
       "    </tr>\n",
       "    <tr>\n",
       "      <th>education_exp</th>\n",
       "      <td>1.0</td>\n",
       "      <td>142.144418</td>\n",
       "      <td>142.144418</td>\n",
       "      <td>14.449472</td>\n",
       "      <td>1.455184e-04</td>\n",
       "    </tr>\n",
       "    <tr>\n",
       "      <th>incomeUS</th>\n",
       "      <td>1.0</td>\n",
       "      <td>53.744367</td>\n",
       "      <td>53.744367</td>\n",
       "      <td>5.463301</td>\n",
       "      <td>1.945541e-02</td>\n",
       "    </tr>\n",
       "    <tr>\n",
       "      <th>Residual</th>\n",
       "      <td>5531.0</td>\n",
       "      <td>54410.345053</td>\n",
       "      <td>9.837343</td>\n",
       "      <td>NaN</td>\n",
       "      <td>NaN</td>\n",
       "    </tr>\n",
       "  </tbody>\n",
       "</table>\n",
       "</div>"
      ],
      "text/plain": [
       "                            df        sum_sq       mean_sq            F  \\\n",
       "population_povertyline     1.0  88206.717182  88206.717182  8966.518265   \n",
       "electricity_access         1.0   3769.268050   3769.268050   383.159150   \n",
       "incomeUS_pc                1.0   2406.416908   2406.416908   244.620612   \n",
       "health_expenditure         1.0   1128.743731   1128.743731   114.740709   \n",
       "population_estimates       1.0    391.556088    391.556088    39.803032   \n",
       "education_exp              1.0    142.144418    142.144418    14.449472   \n",
       "incomeUS                   1.0     53.744367     53.744367     5.463301   \n",
       "Residual                5531.0  54410.345053      9.837343          NaN   \n",
       "\n",
       "                              PR(>F)  \n",
       "population_povertyline  0.000000e+00  \n",
       "electricity_access      1.503335e-82  \n",
       "incomeUS_pc             5.466939e-54  \n",
       "health_expenditure      1.629692e-26  \n",
       "population_estimates    3.027310e-10  \n",
       "education_exp           1.455184e-04  \n",
       "incomeUS                1.945541e-02  \n",
       "Residual                         NaN  "
      ]
     },
     "execution_count": 38,
     "metadata": {},
     "output_type": "execute_result"
    }
   ],
   "source": [
    "model = ols('mortality_rate ~ population_povertyline+ health_expenditure+population_estimates + electricity_access + incomeUS + incomeUS_pc + education_exp', data=df).fit()\n",
    "anova_table = sm.stats.anova_lm(model)\n",
    "anova_table.sort_values(by=['PR(>F)']) "
   ]
  },
  {
   "cell_type": "code",
   "execution_count": 39,
   "id": "cdc995c6-c139-4a8a-9939-83d21e31b4f7",
   "metadata": {},
   "outputs": [
    {
     "data": {
      "text/plain": [
       "191"
      ]
     },
     "execution_count": 39,
     "metadata": {},
     "output_type": "execute_result"
    }
   ],
   "source": [
    "df.entity.nunique()"
   ]
  },
  {
   "cell_type": "code",
   "execution_count": 40,
   "id": "0436468b-2321-4d9a-8eff-7ad24ac724aa",
   "metadata": {},
   "outputs": [
    {
     "name": "stdout",
     "output_type": "stream",
     "text": [
      "['Afghanistan', 'Albania', 'Algeria', 'Andorra', 'Angola', 'Antigua and Barbuda', 'Argentina', 'Armenia', 'Australia', 'Austria', 'Azerbaijan', 'Bahamas', 'Bahrain', 'Bangladesh', 'Barbados', 'Belarus', 'Belgium', 'Belize', 'Benin', 'Bermuda', 'Bhutan', 'Bolivia', 'Bosnia and Herzegovina', 'Botswana', 'Brazil', 'Brunei', 'Bulgaria', 'Burkina Faso', 'Burundi', 'Cambodia', 'Cameroon', 'Canada', 'Central African Republic', 'Chad', 'Chile', 'China', 'Colombia', 'Comoros', 'Congo', 'Costa Rica', \"Cote d'Ivoire\", 'Croatia', 'Cuba', 'Cyprus', 'Czechia', 'Denmark', 'Djibouti', 'Dominica', 'Dominican Republic', 'Ecuador', 'Egypt', 'El Salvador', 'Equatorial Guinea', 'Eritrea', 'Estonia', 'Eswatini', 'Ethiopia', 'Fiji', 'Finland', 'France', 'Gabon', 'Gambia', 'Georgia', 'Germany', 'Ghana', 'Greece', 'Greenland', 'Grenada', 'Guam', 'Guatemala', 'Guinea', 'Guinea-Bissau', 'Guyana', 'Haiti', 'Honduras', 'Hungary', 'Iceland', 'India', 'Indonesia', 'Iran', 'Iraq', 'Ireland', 'Israel', 'Italy', 'Jamaica', 'Japan', 'Jordan', 'Kazakhstan', 'Kenya', 'Kiribati', 'Kuwait', 'Kyrgyzstan', 'Laos', 'Latvia', 'Lebanon', 'Lesotho', 'Liberia', 'Libya', 'Lithuania', 'Luxembourg', 'Madagascar', 'Malawi', 'Malaysia', 'Maldives', 'Mali', 'Malta', 'Marshall Islands', 'Mauritania', 'Mauritius', 'Mexico', 'Micronesia (country)', 'Moldova', 'Monaco', 'Mongolia', 'Montenegro', 'Morocco', 'Mozambique', 'Myanmar', 'Namibia', 'Nauru', 'Nepal', 'Netherlands', 'New Zealand', 'Nicaragua', 'Niger', 'Nigeria', 'North Macedonia', 'Northern Mariana Islands', 'Norway', 'Oman', 'Pakistan', 'Palau', 'Panama', 'Papua New Guinea', 'Paraguay', 'Peru', 'Philippines', 'Poland', 'Portugal', 'Puerto Rico', 'Qatar', 'Romania', 'Russia', 'Rwanda', 'Samoa', 'San Marino', 'Sao Tome and Principe', 'Saudi Arabia', 'Senegal', 'Serbia', 'Seychelles', 'Sierra Leone', 'Singapore', 'Slovakia', 'Slovenia', 'Solomon Islands', 'Somalia', 'South Korea', 'South Sudan', 'Spain', 'Sri Lanka', 'Sudan', 'Suriname', 'Sweden', 'Switzerland', 'Syria', 'Taiwan', 'Tajikistan', 'Tanzania', 'Thailand', 'Timor', 'Togo', 'Tonga', 'Trinidad and Tobago', 'Tunisia', 'Turkey', 'Turkmenistan', 'Tuvalu', 'Uganda', 'Ukraine', 'United Arab Emirates', 'United Kingdom', 'United States', 'Uruguay', 'Uzbekistan', 'Vanuatu', 'Venezuela', 'Vietnam', 'Yemen', 'Zambia', 'Zimbabwe']\n"
     ]
    }
   ],
   "source": [
    "paises= df.entity.value_counts().reset_index()\n",
    "paises= list(paises['index'])\n",
    "print(sorted(paises))"
   ]
  },
  {
   "cell_type": "code",
   "execution_count": 41,
   "id": "0da3b594-ad1f-4ca1-b224-b90b80ab67a2",
   "metadata": {},
   "outputs": [],
   "source": [
    "latinoamerica= 'Antigua and Barbuda', 'Aruba', 'Bahamas', 'Barbados', 'Cayman Islands', 'Cuba', 'Dominica', 'Dominican Republic', 'Grenada', 'Guadeloupe', 'Haiti', 'Jamaica', 'Martinique','Puerto Rico','Trinidad and Tobago', 'Turks and Caicos Islands', 'Virgin Islands', 'Belize', 'Costa Rica', 'El Salvador', 'Guatemala', 'Honduras', 'Mexico', 'Nicaragua', 'Panama', 'Argentina', 'Bolivia', 'Brazil', 'Chile', 'Colombia', 'Ecuador', 'Guyana', 'Paraguay', 'Peru', 'Suriname', 'Uruguay', 'Venezuela'"
   ]
  },
  {
   "cell_type": "code",
   "execution_count": 42,
   "id": "76e89095-9ff4-474a-bdea-22c1f65b76ae",
   "metadata": {},
   "outputs": [
    {
     "data": {
      "text/plain": [
       "31"
      ]
     },
     "execution_count": 42,
     "metadata": {},
     "output_type": "execute_result"
    }
   ],
   "source": [
    "final = [x for x in latinoamerica if x in paises]\n",
    "len(final)"
   ]
  },
  {
   "cell_type": "code",
   "execution_count": 43,
   "id": "021750b9-6fe5-4f41-8116-227353523541",
   "metadata": {},
   "outputs": [
    {
     "data": {
      "text/plain": [
       "Index(['entity', 'code', 'year', 'deaths_malaria', 'deaths_hiv',\n",
       "       'deaths_meningitis', 'deaths_nutritional_def', 'deaths_other_nd',\n",
       "       'deaths_cough', 'deaths_lorespi', 'deaths_congenital', 'deaths_measles',\n",
       "       'deaths_neonatal_inf', 'deaths_encephalopathy', 'deaths_drowning',\n",
       "       'deaths_tuberculosis', 'deaths_preterm_b', 'deaths_diarrheal',\n",
       "       'deaths_neoplasms', 'deaths_syphilis', 'age_7to27_days',\n",
       "       'age_1to4_years', 'age_0to6_days', 'age_28to364_days',\n",
       "       'mortality_rate_female', 'mortality_rate_male', 'mortality_rate',\n",
       "       'population_povertyline', 'health_expenditure', 'population_estimates',\n",
       "       'electricity_access', 'incomeUS', 'incomeUS_pc', 'death_rate(per1000)',\n",
       "       'education_exp'],\n",
       "      dtype='object')"
      ]
     },
     "execution_count": 43,
     "metadata": {},
     "output_type": "execute_result"
    }
   ],
   "source": [
    "df_latin=df[df['entity'].isin(final)]\n",
    "df_latin.columns"
   ]
  },
  {
   "cell_type": "code",
   "execution_count": 44,
   "id": "fa64536d-4e2e-4e7c-9487-d92e6ae4f7f3",
   "metadata": {},
   "outputs": [
    {
     "data": {
      "text/plain": [
       "<AxesSubplot:xlabel='year', ylabel='mortality_rate'>"
      ]
     },
     "execution_count": 44,
     "metadata": {},
     "output_type": "execute_result"
    },
    {
     "data": {
      "image/png": "[encoded data removed]",
      "text/plain": [
       "<Figure size 432x288 with 1 Axes>"
      ]
     },
     "metadata": {
      "needs_background": "light"
     },
     "output_type": "display_data"
    }
   ],
   "source": [
    "sns.scatterplot(x ='year', y= 'mortality_rate', data=df_latin)"
   ]
  },
  {
   "cell_type": "code",
   "execution_count": 45,
   "id": "335fae52-508c-49a9-bc6e-f55460b6466b",
   "metadata": {},
   "outputs": [
    {
     "data": {
      "text/plain": [
       "0.530000019"
      ]
     },
     "execution_count": 45,
     "metadata": {},
     "output_type": "execute_result"
    }
   ],
   "source": [
    "df_latin.mortality_rate.min()"
   ]
  },
  {
   "cell_type": "code",
   "execution_count": 46,
   "id": "9c7bd2ba-d564-4397-af50-fb0b1a220265",
   "metadata": {},
   "outputs": [
    {
     "data": {
      "text/plain": [
       "20.36000061"
      ]
     },
     "execution_count": 46,
     "metadata": {},
     "output_type": "execute_result"
    }
   ],
   "source": [
    "df_latin.mortality_rate.max()"
   ]
  },
  {
   "cell_type": "code",
   "execution_count": 47,
   "id": "e7c9d124-9d7f-4088-b0c0-e44397e272ec",
   "metadata": {},
   "outputs": [
    {
     "data": {
      "text/html": [
       "<div>\n",
       "<style scoped>\n",
       "    .dataframe tbody tr th:only-of-type {\n",
       "        vertical-align: middle;\n",
       "    }\n",
       "\n",
       "    .dataframe tbody tr th {\n",
       "        vertical-align: top;\n",
       "    }\n",
       "\n",
       "    .dataframe thead th {\n",
       "        text-align: right;\n",
       "    }\n",
       "</style>\n",
       "<table border=\"1\" class=\"dataframe\">\n",
       "  <thead>\n",
       "    <tr style=\"text-align: right;\">\n",
       "      <th></th>\n",
       "      <th>entity</th>\n",
       "      <th>code</th>\n",
       "      <th>year</th>\n",
       "      <th>deaths_malaria</th>\n",
       "      <th>deaths_hiv</th>\n",
       "      <th>deaths_meningitis</th>\n",
       "      <th>deaths_nutritional_def</th>\n",
       "      <th>deaths_other_nd</th>\n",
       "      <th>deaths_cough</th>\n",
       "      <th>deaths_lorespi</th>\n",
       "      <th>...</th>\n",
       "      <th>mortality_rate_male</th>\n",
       "      <th>mortality_rate</th>\n",
       "      <th>population_povertyline</th>\n",
       "      <th>health_expenditure</th>\n",
       "      <th>population_estimates</th>\n",
       "      <th>electricity_access</th>\n",
       "      <th>incomeUS</th>\n",
       "      <th>incomeUS_pc</th>\n",
       "      <th>death_rate(per1000)</th>\n",
       "      <th>education_exp</th>\n",
       "    </tr>\n",
       "  </thead>\n",
       "  <tbody>\n",
       "    <tr>\n",
       "      <th>145</th>\n",
       "      <td>Antigua and Barbuda</td>\n",
       "      <td>ATG</td>\n",
       "      <td>1990</td>\n",
       "      <td>0</td>\n",
       "      <td>0</td>\n",
       "      <td>1</td>\n",
       "      <td>0</td>\n",
       "      <td>1</td>\n",
       "      <td>0</td>\n",
       "      <td>1</td>\n",
       "      <td>...</td>\n",
       "      <td>1.52</td>\n",
       "      <td>1.40</td>\n",
       "      <td>0.0</td>\n",
       "      <td>1088.976174</td>\n",
       "      <td>62533</td>\n",
       "      <td>95.763046</td>\n",
       "      <td>0.0</td>\n",
       "      <td>0.0</td>\n",
       "      <td>6.980</td>\n",
       "      <td>14.01654</td>\n",
       "    </tr>\n",
       "    <tr>\n",
       "      <th>146</th>\n",
       "      <td>Antigua and Barbuda</td>\n",
       "      <td>ATG</td>\n",
       "      <td>1991</td>\n",
       "      <td>0</td>\n",
       "      <td>0</td>\n",
       "      <td>1</td>\n",
       "      <td>0</td>\n",
       "      <td>1</td>\n",
       "      <td>0</td>\n",
       "      <td>1</td>\n",
       "      <td>...</td>\n",
       "      <td>1.55</td>\n",
       "      <td>1.43</td>\n",
       "      <td>0.0</td>\n",
       "      <td>1088.976174</td>\n",
       "      <td>63363</td>\n",
       "      <td>95.940651</td>\n",
       "      <td>0.0</td>\n",
       "      <td>0.0</td>\n",
       "      <td>7.008</td>\n",
       "      <td>14.01654</td>\n",
       "    </tr>\n",
       "    <tr>\n",
       "      <th>147</th>\n",
       "      <td>Antigua and Barbuda</td>\n",
       "      <td>ATG</td>\n",
       "      <td>1992</td>\n",
       "      <td>0</td>\n",
       "      <td>0</td>\n",
       "      <td>0</td>\n",
       "      <td>0</td>\n",
       "      <td>1</td>\n",
       "      <td>0</td>\n",
       "      <td>1</td>\n",
       "      <td>...</td>\n",
       "      <td>1.59</td>\n",
       "      <td>1.46</td>\n",
       "      <td>0.0</td>\n",
       "      <td>1088.976174</td>\n",
       "      <td>64459</td>\n",
       "      <td>96.118134</td>\n",
       "      <td>0.0</td>\n",
       "      <td>0.0</td>\n",
       "      <td>7.009</td>\n",
       "      <td>14.01654</td>\n",
       "    </tr>\n",
       "    <tr>\n",
       "      <th>148</th>\n",
       "      <td>Antigua and Barbuda</td>\n",
       "      <td>ATG</td>\n",
       "      <td>1993</td>\n",
       "      <td>0</td>\n",
       "      <td>0</td>\n",
       "      <td>0</td>\n",
       "      <td>0</td>\n",
       "      <td>1</td>\n",
       "      <td>0</td>\n",
       "      <td>2</td>\n",
       "      <td>...</td>\n",
       "      <td>1.63</td>\n",
       "      <td>1.50</td>\n",
       "      <td>0.0</td>\n",
       "      <td>1088.976174</td>\n",
       "      <td>65777</td>\n",
       "      <td>96.294945</td>\n",
       "      <td>0.0</td>\n",
       "      <td>0.0</td>\n",
       "      <td>6.979</td>\n",
       "      <td>14.01654</td>\n",
       "    </tr>\n",
       "    <tr>\n",
       "      <th>149</th>\n",
       "      <td>Antigua and Barbuda</td>\n",
       "      <td>ATG</td>\n",
       "      <td>1994</td>\n",
       "      <td>0</td>\n",
       "      <td>0</td>\n",
       "      <td>0</td>\n",
       "      <td>0</td>\n",
       "      <td>1</td>\n",
       "      <td>0</td>\n",
       "      <td>2</td>\n",
       "      <td>...</td>\n",
       "      <td>1.67</td>\n",
       "      <td>1.53</td>\n",
       "      <td>0.0</td>\n",
       "      <td>1088.976174</td>\n",
       "      <td>67201</td>\n",
       "      <td>96.470390</td>\n",
       "      <td>0.0</td>\n",
       "      <td>0.0</td>\n",
       "      <td>6.918</td>\n",
       "      <td>14.01654</td>\n",
       "    </tr>\n",
       "  </tbody>\n",
       "</table>\n",
       "<p>5 rows × 35 columns</p>\n",
       "</div>"
      ],
      "text/plain": [
       "                  entity code  year  deaths_malaria  deaths_hiv  \\\n",
       "145  Antigua and Barbuda  ATG  1990               0           0   \n",
       "146  Antigua and Barbuda  ATG  1991               0           0   \n",
       "147  Antigua and Barbuda  ATG  1992               0           0   \n",
       "148  Antigua and Barbuda  ATG  1993               0           0   \n",
       "149  Antigua and Barbuda  ATG  1994               0           0   \n",
       "\n",
       "     deaths_meningitis  deaths_nutritional_def  deaths_other_nd  deaths_cough  \\\n",
       "145                  1                       0                1             0   \n",
       "146                  1                       0                1             0   \n",
       "147                  0                       0                1             0   \n",
       "148                  0                       0                1             0   \n",
       "149                  0                       0                1             0   \n",
       "\n",
       "     deaths_lorespi  ...  mortality_rate_male  mortality_rate  \\\n",
       "145               1  ...                 1.52            1.40   \n",
       "146               1  ...                 1.55            1.43   \n",
       "147               1  ...                 1.59            1.46   \n",
       "148               2  ...                 1.63            1.50   \n",
       "149               2  ...                 1.67            1.53   \n",
       "\n",
       "     population_povertyline  health_expenditure  population_estimates  \\\n",
       "145                     0.0         1088.976174                 62533   \n",
       "146                     0.0         1088.976174                 63363   \n",
       "147                     0.0         1088.976174                 64459   \n",
       "148                     0.0         1088.976174                 65777   \n",
       "149                     0.0         1088.976174                 67201   \n",
       "\n",
       "     electricity_access  incomeUS  incomeUS_pc  death_rate(per1000)  \\\n",
       "145           95.763046       0.0          0.0                6.980   \n",
       "146           95.940651       0.0          0.0                7.008   \n",
       "147           96.118134       0.0          0.0                7.009   \n",
       "148           96.294945       0.0          0.0                6.979   \n",
       "149           96.470390       0.0          0.0                6.918   \n",
       "\n",
       "     education_exp  \n",
       "145       14.01654  \n",
       "146       14.01654  \n",
       "147       14.01654  \n",
       "148       14.01654  \n",
       "149       14.01654  \n",
       "\n",
       "[5 rows x 35 columns]"
      ]
     },
     "execution_count": 47,
     "metadata": {},
     "output_type": "execute_result"
    }
   ],
   "source": [
    "df_latin.head()"
   ]
  },
  {
   "cell_type": "code",
   "execution_count": 48,
   "id": "c4ae9ac2-ad84-4a19-896a-249b3e4cb9bf",
   "metadata": {},
   "outputs": [
    {
     "data": {
      "text/html": [
       "<div>\n",
       "<style scoped>\n",
       "    .dataframe tbody tr th:only-of-type {\n",
       "        vertical-align: middle;\n",
       "    }\n",
       "\n",
       "    .dataframe tbody tr th {\n",
       "        vertical-align: top;\n",
       "    }\n",
       "\n",
       "    .dataframe thead th {\n",
       "        text-align: right;\n",
       "    }\n",
       "</style>\n",
       "<table border=\"1\" class=\"dataframe\">\n",
       "  <thead>\n",
       "    <tr style=\"text-align: right;\">\n",
       "      <th></th>\n",
       "      <th>entity</th>\n",
       "      <th>code</th>\n",
       "      <th>year</th>\n",
       "      <th>deaths_malaria</th>\n",
       "      <th>deaths_hiv</th>\n",
       "      <th>deaths_meningitis</th>\n",
       "      <th>deaths_nutritional_def</th>\n",
       "      <th>deaths_other_nd</th>\n",
       "      <th>deaths_cough</th>\n",
       "      <th>deaths_lorespi</th>\n",
       "      <th>...</th>\n",
       "      <th>mortality_rate</th>\n",
       "      <th>population_povertyline</th>\n",
       "      <th>health_expenditure</th>\n",
       "      <th>population_estimates</th>\n",
       "      <th>electricity_access</th>\n",
       "      <th>incomeUS</th>\n",
       "      <th>incomeUS_pc</th>\n",
       "      <th>death_rate(per1000)</th>\n",
       "      <th>education_exp</th>\n",
       "      <th>region</th>\n",
       "    </tr>\n",
       "  </thead>\n",
       "  <tbody>\n",
       "    <tr>\n",
       "      <th>145</th>\n",
       "      <td>Antigua and Barbuda</td>\n",
       "      <td>ATG</td>\n",
       "      <td>1990</td>\n",
       "      <td>0</td>\n",
       "      <td>0</td>\n",
       "      <td>1</td>\n",
       "      <td>0</td>\n",
       "      <td>1</td>\n",
       "      <td>0</td>\n",
       "      <td>1</td>\n",
       "      <td>...</td>\n",
       "      <td>1.40</td>\n",
       "      <td>0.0</td>\n",
       "      <td>1088.976174</td>\n",
       "      <td>62533</td>\n",
       "      <td>95.763046</td>\n",
       "      <td>0.0</td>\n",
       "      <td>0.0</td>\n",
       "      <td>6.980</td>\n",
       "      <td>14.01654</td>\n",
       "      <td>Latin America</td>\n",
       "    </tr>\n",
       "    <tr>\n",
       "      <th>146</th>\n",
       "      <td>Antigua and Barbuda</td>\n",
       "      <td>ATG</td>\n",
       "      <td>1991</td>\n",
       "      <td>0</td>\n",
       "      <td>0</td>\n",
       "      <td>1</td>\n",
       "      <td>0</td>\n",
       "      <td>1</td>\n",
       "      <td>0</td>\n",
       "      <td>1</td>\n",
       "      <td>...</td>\n",
       "      <td>1.43</td>\n",
       "      <td>0.0</td>\n",
       "      <td>1088.976174</td>\n",
       "      <td>63363</td>\n",
       "      <td>95.940651</td>\n",
       "      <td>0.0</td>\n",
       "      <td>0.0</td>\n",
       "      <td>7.008</td>\n",
       "      <td>14.01654</td>\n",
       "      <td>Latin America</td>\n",
       "    </tr>\n",
       "    <tr>\n",
       "      <th>147</th>\n",
       "      <td>Antigua and Barbuda</td>\n",
       "      <td>ATG</td>\n",
       "      <td>1992</td>\n",
       "      <td>0</td>\n",
       "      <td>0</td>\n",
       "      <td>0</td>\n",
       "      <td>0</td>\n",
       "      <td>1</td>\n",
       "      <td>0</td>\n",
       "      <td>1</td>\n",
       "      <td>...</td>\n",
       "      <td>1.46</td>\n",
       "      <td>0.0</td>\n",
       "      <td>1088.976174</td>\n",
       "      <td>64459</td>\n",
       "      <td>96.118134</td>\n",
       "      <td>0.0</td>\n",
       "      <td>0.0</td>\n",
       "      <td>7.009</td>\n",
       "      <td>14.01654</td>\n",
       "      <td>Latin America</td>\n",
       "    </tr>\n",
       "  </tbody>\n",
       "</table>\n",
       "<p>3 rows × 36 columns</p>\n",
       "</div>"
      ],
      "text/plain": [
       "                  entity code  year  deaths_malaria  deaths_hiv  \\\n",
       "145  Antigua and Barbuda  ATG  1990               0           0   \n",
       "146  Antigua and Barbuda  ATG  1991               0           0   \n",
       "147  Antigua and Barbuda  ATG  1992               0           0   \n",
       "\n",
       "     deaths_meningitis  deaths_nutritional_def  deaths_other_nd  deaths_cough  \\\n",
       "145                  1                       0                1             0   \n",
       "146                  1                       0                1             0   \n",
       "147                  0                       0                1             0   \n",
       "\n",
       "     deaths_lorespi  ...  mortality_rate  population_povertyline  \\\n",
       "145               1  ...            1.40                     0.0   \n",
       "146               1  ...            1.43                     0.0   \n",
       "147               1  ...            1.46                     0.0   \n",
       "\n",
       "     health_expenditure  population_estimates  electricity_access  incomeUS  \\\n",
       "145         1088.976174                 62533           95.763046       0.0   \n",
       "146         1088.976174                 63363           95.940651       0.0   \n",
       "147         1088.976174                 64459           96.118134       0.0   \n",
       "\n",
       "     incomeUS_pc  death_rate(per1000)  education_exp         region  \n",
       "145          0.0                6.980       14.01654  Latin America  \n",
       "146          0.0                7.008       14.01654  Latin America  \n",
       "147          0.0                7.009       14.01654  Latin America  \n",
       "\n",
       "[3 rows x 36 columns]"
      ]
     },
     "execution_count": 48,
     "metadata": {},
     "output_type": "execute_result"
    }
   ],
   "source": [
    "df_latin= df_latin.assign(region=\"Latin America\")\n",
    "df_latin.head(3)"
   ]
  },
  {
   "cell_type": "code",
   "execution_count": 49,
   "id": "14ad51d3-67fe-4806-9dc9-f3463351b550",
   "metadata": {},
   "outputs": [],
   "source": [
    "df_latin.to_csv(\"paises_latam.csv\", index=False)"
   ]
  },
  {
   "cell_type": "code",
   "execution_count": 50,
   "id": "01943255-1e4e-41c7-bb11-1e9b3109ee1b",
   "metadata": {},
   "outputs": [
    {
     "data": {
      "text/html": [
       "<div>\n",
       "<style scoped>\n",
       "    .dataframe tbody tr th:only-of-type {\n",
       "        vertical-align: middle;\n",
       "    }\n",
       "\n",
       "    .dataframe tbody tr th {\n",
       "        vertical-align: top;\n",
       "    }\n",
       "\n",
       "    .dataframe thead th {\n",
       "        text-align: right;\n",
       "    }\n",
       "</style>\n",
       "<table border=\"1\" class=\"dataframe\">\n",
       "  <thead>\n",
       "    <tr style=\"text-align: right;\">\n",
       "      <th></th>\n",
       "      <th>year</th>\n",
       "      <th>mortality_rate</th>\n",
       "      <th>population_povertyline</th>\n",
       "      <th>health_expenditure</th>\n",
       "      <th>incomeUS_pc</th>\n",
       "      <th>education_exp</th>\n",
       "    </tr>\n",
       "  </thead>\n",
       "  <tbody>\n",
       "    <tr>\n",
       "      <th>0</th>\n",
       "      <td>1990</td>\n",
       "      <td>4.527419</td>\n",
       "      <td>13.838380</td>\n",
       "      <td>1088.976174</td>\n",
       "      <td>1824.630151</td>\n",
       "      <td>13.812568</td>\n",
       "    </tr>\n",
       "    <tr>\n",
       "      <th>1</th>\n",
       "      <td>1991</td>\n",
       "      <td>4.352258</td>\n",
       "      <td>13.042217</td>\n",
       "      <td>1088.976174</td>\n",
       "      <td>1962.336529</td>\n",
       "      <td>14.031872</td>\n",
       "    </tr>\n",
       "    <tr>\n",
       "      <th>2</th>\n",
       "      <td>1992</td>\n",
       "      <td>4.182581</td>\n",
       "      <td>12.424689</td>\n",
       "      <td>1088.976174</td>\n",
       "      <td>2092.501273</td>\n",
       "      <td>13.943351</td>\n",
       "    </tr>\n",
       "  </tbody>\n",
       "</table>\n",
       "</div>"
      ],
      "text/plain": [
       "   year  mortality_rate  population_povertyline  health_expenditure  \\\n",
       "0  1990        4.527419               13.838380         1088.976174   \n",
       "1  1991        4.352258               13.042217         1088.976174   \n",
       "2  1992        4.182581               12.424689         1088.976174   \n",
       "\n",
       "   incomeUS_pc  education_exp  \n",
       "0  1824.630151      13.812568  \n",
       "1  1962.336529      14.031872  \n",
       "2  2092.501273      13.943351  "
      ]
     },
     "execution_count": 50,
     "metadata": {},
     "output_type": "execute_result"
    }
   ],
   "source": [
    "df_latam= df_latin.groupby('year',as_index = False)[['mortality_rate','population_povertyline', 'health_expenditure','incomeUS_pc', 'education_exp']].mean()\n",
    "df_latam.head(3)"
   ]
  },
  {
   "cell_type": "code",
   "execution_count": 51,
   "id": "b43eb05b-8104-4877-9ef4-c5e837bfb9a2",
   "metadata": {
    "tags": []
   },
   "outputs": [],
   "source": [
    "df_latam['lag1'] = df_latam.mortality_rate.shift(1)"
   ]
  },
  {
   "cell_type": "code",
   "execution_count": 52,
   "id": "8d6ddc29-c8ff-43be-ae7d-7736c1a3f1b0",
   "metadata": {},
   "outputs": [],
   "source": [
    "df_latam= df_latam.iloc[1:30] "
   ]
  },
  {
   "cell_type": "code",
   "execution_count": 53,
   "id": "3da4259d-2092-4500-b71c-6e678dd6826b",
   "metadata": {},
   "outputs": [
    {
     "data": {
      "text/plain": [
       "((22, 5), (6, 5))"
      ]
     },
     "execution_count": 53,
     "metadata": {},
     "output_type": "execute_result"
    }
   ],
   "source": [
    "X_train, X_test, y_train, y_test = train_test_split(df_latam.drop(['mortality_rate', 'year'], axis=1), \n",
    "                                                    df_latam['mortality_rate'], \n",
    "                                                    test_size=0.2, \n",
    "                                                    random_state=42\n",
    "                                                    )\n",
    "\n",
    "X_train.shape, X_test.shape"
   ]
  },
  {
   "cell_type": "code",
   "execution_count": 54,
   "id": "ba60288e-8628-420a-aaba-ad04c304f70c",
   "metadata": {},
   "outputs": [
    {
     "name": "stdout",
     "output_type": "stream",
     "text": [
      "<class 'pandas.core.frame.DataFrame'>\n",
      "Int64Index: 22 entries, 18 to 7\n",
      "Data columns (total 5 columns):\n",
      " #   Column                  Non-Null Count  Dtype  \n",
      "---  ------                  --------------  -----  \n",
      " 0   population_povertyline  22 non-null     float64\n",
      " 1   health_expenditure      22 non-null     float64\n",
      " 2   incomeUS_pc             22 non-null     float64\n",
      " 3   education_exp           22 non-null     float64\n",
      " 4   lag1                    22 non-null     float64\n",
      "dtypes: float64(5)\n",
      "memory usage: 1.0 KB\n"
     ]
    }
   ],
   "source": [
    "X_train.info()"
   ]
  },
  {
   "cell_type": "code",
   "execution_count": 55,
   "id": "fe92dc3a-1639-4e6e-be09-ac0d3aba7faa",
   "metadata": {},
   "outputs": [],
   "source": [
    "ratelat_pipeline = Pipeline([('scaler', StandardScaler()),\n",
    "                        ('model', LinearRegression())], verbose = True)"
   ]
  },
  {
   "cell_type": "code",
   "execution_count": 56,
   "id": "33f53931-6edb-409f-bd07-d85dd0a1bf6b",
   "metadata": {},
   "outputs": [
    {
     "name": "stdout",
     "output_type": "stream",
     "text": [
      "[Pipeline] ............ (step 1 of 2) Processing scaler, total=   0.0s\n",
      "[Pipeline] ............. (step 2 of 2) Processing model, total=   0.0s\n"
     ]
    },
    {
     "data": {
      "text/html": [
       "<style>#sk-container-id-1 {color: black;background-color: white;}#sk-container-id-1 pre{padding: 0;}#sk-container-id-1 div.sk-toggleable {background-color: white;}#sk-container-id-1 label.sk-toggleable__label {cursor: pointer;display: block;width: 100%;margin-bottom: 0;padding: 0.3em;box-sizing: border-box;text-align: center;}#sk-container-id-1 label.sk-toggleable__label-arrow:before {content: \"▸\";float: left;margin-right: 0.25em;color: #696969;}#sk-container-id-1 label.sk-toggleable__label-arrow:hover:before {color: black;}#sk-container-id-1 div.sk-estimator:hover label.sk-toggleable__label-arrow:before {color: black;}#sk-container-id-1 div.sk-toggleable__content {max-height: 0;max-width: 0;overflow: hidden;text-align: left;background-color: #f0f8ff;}#sk-container-id-1 div.sk-toggleable__content pre {margin: 0.2em;color: black;border-radius: 0.25em;background-color: #f0f8ff;}#sk-container-id-1 input.sk-toggleable__control:checked~div.sk-toggleable__content {max-height: 200px;max-width: 100%;overflow: auto;}#sk-container-id-1 input.sk-toggleable__control:checked~label.sk-toggleable__label-arrow:before {content: \"▾\";}#sk-container-id-1 div.sk-estimator input.sk-toggleable__control:checked~label.sk-toggleable__label {background-color: #d4ebff;}#sk-container-id-1 div.sk-label input.sk-toggleable__control:checked~label.sk-toggleable__label {background-color: #d4ebff;}#sk-container-id-1 input.sk-hidden--visually {border: 0;clip: rect(1px 1px 1px 1px);clip: rect(1px, 1px, 1px, 1px);height: 1px;margin: -1px;overflow: hidden;padding: 0;position: absolute;width: 1px;}#sk-container-id-1 div.sk-estimator {font-family: monospace;background-color: #f0f8ff;border: 1px dotted black;border-radius: 0.25em;box-sizing: border-box;margin-bottom: 0.5em;}#sk-container-id-1 div.sk-estimator:hover {background-color: #d4ebff;}#sk-container-id-1 div.sk-parallel-item::after {content: \"\";width: 100%;border-bottom: 1px solid gray;flex-grow: 1;}#sk-container-id-1 div.sk-label:hover label.sk-toggleable__label {background-color: #d4ebff;}#sk-container-id-1 div.sk-serial::before {content: \"\";position: absolute;border-left: 1px solid gray;box-sizing: border-box;top: 0;bottom: 0;left: 50%;z-index: 0;}#sk-container-id-1 div.sk-serial {display: flex;flex-direction: column;align-items: center;background-color: white;padding-right: 0.2em;padding-left: 0.2em;position: relative;}#sk-container-id-1 div.sk-item {position: relative;z-index: 1;}#sk-container-id-1 div.sk-parallel {display: flex;align-items: stretch;justify-content: center;background-color: white;position: relative;}#sk-container-id-1 div.sk-item::before, #sk-container-id-1 div.sk-parallel-item::before {content: \"\";position: absolute;border-left: 1px solid gray;box-sizing: border-box;top: 0;bottom: 0;left: 50%;z-index: -1;}#sk-container-id-1 div.sk-parallel-item {display: flex;flex-direction: column;z-index: 1;position: relative;background-color: white;}#sk-container-id-1 div.sk-parallel-item:first-child::after {align-self: flex-end;width: 50%;}#sk-container-id-1 div.sk-parallel-item:last-child::after {align-self: flex-start;width: 50%;}#sk-container-id-1 div.sk-parallel-item:only-child::after {width: 0;}#sk-container-id-1 div.sk-dashed-wrapped {border: 1px dashed gray;margin: 0 0.4em 0.5em 0.4em;box-sizing: border-box;padding-bottom: 0.4em;background-color: white;}#sk-container-id-1 div.sk-label label {font-family: monospace;font-weight: bold;display: inline-block;line-height: 1.2em;}#sk-container-id-1 div.sk-label-container {text-align: center;}#sk-container-id-1 div.sk-container {/* jupyter's `normalize.less` sets `[hidden] { display: none; }` but bootstrap.min.css set `[hidden] { display: none !important; }` so we also need the `!important` here to be able to override the default hidden behavior on the sphinx rendered scikit-learn.org. See: https://github.com/scikit-learn/scikit-learn/issues/21755 */display: inline-block !important;position: relative;}#sk-container-id-1 div.sk-text-repr-fallback {display: none;}</style><div id=\"sk-container-id-1\" class=\"sk-top-container\"><div class=\"sk-text-repr-fallback\"><pre>Pipeline(steps=[(&#x27;scaler&#x27;, StandardScaler()), (&#x27;model&#x27;, LinearRegression())],\n",
       "         verbose=True)</pre><b>In a Jupyter environment, please rerun this cell to show the HTML representation or trust the notebook. <br />On GitHub, the HTML representation is unable to render, please try loading this page with nbviewer.org.</b></div><div class=\"sk-container\" hidden><div class=\"sk-item sk-dashed-wrapped\"><div class=\"sk-label-container\"><div class=\"sk-label sk-toggleable\"><input class=\"sk-toggleable__control sk-hidden--visually\" id=\"sk-estimator-id-1\" type=\"checkbox\" ><label for=\"sk-estimator-id-1\" class=\"sk-toggleable__label sk-toggleable__label-arrow\">Pipeline</label><div class=\"sk-toggleable__content\"><pre>Pipeline(steps=[(&#x27;scaler&#x27;, StandardScaler()), (&#x27;model&#x27;, LinearRegression())],\n",
       "         verbose=True)</pre></div></div></div><div class=\"sk-serial\"><div class=\"sk-item\"><div class=\"sk-estimator sk-toggleable\"><input class=\"sk-toggleable__control sk-hidden--visually\" id=\"sk-estimator-id-2\" type=\"checkbox\" ><label for=\"sk-estimator-id-2\" class=\"sk-toggleable__label sk-toggleable__label-arrow\">StandardScaler</label><div class=\"sk-toggleable__content\"><pre>StandardScaler()</pre></div></div></div><div class=\"sk-item\"><div class=\"sk-estimator sk-toggleable\"><input class=\"sk-toggleable__control sk-hidden--visually\" id=\"sk-estimator-id-3\" type=\"checkbox\" ><label for=\"sk-estimator-id-3\" class=\"sk-toggleable__label sk-toggleable__label-arrow\">LinearRegression</label><div class=\"sk-toggleable__content\"><pre>LinearRegression()</pre></div></div></div></div></div></div></div>"
      ],
      "text/plain": [
       "Pipeline(steps=[('scaler', StandardScaler()), ('model', LinearRegression())],\n",
       "         verbose=True)"
      ]
     },
     "execution_count": 56,
     "metadata": {},
     "output_type": "execute_result"
    }
   ],
   "source": [
    "ratelat_pipeline.fit(X_train, y_train)"
   ]
  },
  {
   "cell_type": "code",
   "execution_count": 57,
   "id": "2678d748-b341-477d-837e-911708059de4",
   "metadata": {},
   "outputs": [],
   "source": [
    "X_train_pred = ratelat_pipeline.predict(X_train)"
   ]
  },
  {
   "cell_type": "code",
   "execution_count": 58,
   "id": "8ee23575-4c3f-449b-9f23-bb3f3eb30bcd",
   "metadata": {},
   "outputs": [
    {
     "data": {
      "text/plain": [
       "0.9824925493061095"
      ]
     },
     "execution_count": 58,
     "metadata": {},
     "output_type": "execute_result"
    }
   ],
   "source": [
    "ratelat_pipeline.score(X_train, y_train)"
   ]
  },
  {
   "cell_type": "code",
   "execution_count": 59,
   "id": "93f989a7-a22a-488b-b3a4-0e858045a92b",
   "metadata": {},
   "outputs": [
    {
     "data": {
      "text/plain": [
       "array([2.36216468, 2.01781983, 2.917342  , 2.67077858, 2.44104685,\n",
       "       4.07276814, 3.79058005, 3.68359861, 3.94097443, 2.42310037,\n",
       "       2.02076104, 3.85662437, 1.98976129, 2.01253572, 2.25687033,\n",
       "       1.87666723, 2.35035701, 3.32683443, 3.0060968 , 2.57534326,\n",
       "       2.32917015, 3.45719181])"
      ]
     },
     "execution_count": 59,
     "metadata": {},
     "output_type": "execute_result"
    }
   ],
   "source": [
    "X_train_pred"
   ]
  },
  {
   "cell_type": "code",
   "execution_count": 60,
   "id": "d8646278-d224-4dae-a44c-1dc3c6417328",
   "metadata": {},
   "outputs": [
    {
     "data": {
      "text/plain": [
       "0.9778668362206063"
      ]
     },
     "execution_count": 60,
     "metadata": {},
     "output_type": "execute_result"
    }
   ],
   "source": [
    "ratelat_pipeline.score(X_test, y_test)"
   ]
  },
  {
   "cell_type": "code",
   "execution_count": 61,
   "id": "9552c71d-46f4-4812-8447-0568cb3739d5",
   "metadata": {},
   "outputs": [
    {
     "data": {
      "text/plain": [
       "array([3.11690906, 1.93249174, 3.44942395, 1.98192249, 4.24992547,\n",
       "       2.79265188])"
      ]
     },
     "execution_count": 61,
     "metadata": {},
     "output_type": "execute_result"
    }
   ],
   "source": [
    "X_test_pred = ratelat_pipeline.predict(X_test)\n",
    "X_test_pred"
   ]
  },
  {
   "cell_type": "code",
   "execution_count": 62,
   "id": "8d023bcd-078c-4096-8bd7-7350c26d256c",
   "metadata": {},
   "outputs": [
    {
     "data": {
      "text/plain": [
       "10    3.047097\n",
       "26    1.947742\n",
       "9     3.235161\n",
       "22    2.123548\n",
       "1     4.352258\n",
       "13    2.747742\n",
       "Name: mortality_rate, dtype: float64"
      ]
     },
     "execution_count": 62,
     "metadata": {},
     "output_type": "execute_result"
    }
   ],
   "source": [
    "y_test"
   ]
  },
  {
   "cell_type": "code",
   "execution_count": 63,
   "id": "e561e08a-2610-4aa2-8388-f9da5f76f330",
   "metadata": {},
   "outputs": [],
   "source": [
    "train= pd.DataFrame({'reales':y_train, \"predict\": X_train_pred})\n",
    "test= pd.DataFrame({'reales':y_test, \"predict\": X_test_pred})"
   ]
  },
  {
   "cell_type": "code",
   "execution_count": 64,
   "id": "efbe3fb0-3126-4aad-80ea-71df26c93842",
   "metadata": {
    "tags": []
   },
   "outputs": [
    {
     "data": {
      "text/html": [
       "<div>\n",
       "<style scoped>\n",
       "    .dataframe tbody tr th:only-of-type {\n",
       "        vertical-align: middle;\n",
       "    }\n",
       "\n",
       "    .dataframe tbody tr th {\n",
       "        vertical-align: top;\n",
       "    }\n",
       "\n",
       "    .dataframe thead th {\n",
       "        text-align: right;\n",
       "    }\n",
       "</style>\n",
       "<table border=\"1\" class=\"dataframe\">\n",
       "  <thead>\n",
       "    <tr style=\"text-align: right;\">\n",
       "      <th></th>\n",
       "      <th>reales</th>\n",
       "      <th>predict</th>\n",
       "    </tr>\n",
       "  </thead>\n",
       "  <tbody>\n",
       "    <tr>\n",
       "      <th>18</th>\n",
       "      <td>2.361290</td>\n",
       "      <td>2.362165</td>\n",
       "    </tr>\n",
       "    <tr>\n",
       "      <th>23</th>\n",
       "      <td>2.071290</td>\n",
       "      <td>2.017820</td>\n",
       "    </tr>\n",
       "    <tr>\n",
       "      <th>12</th>\n",
       "      <td>2.839032</td>\n",
       "      <td>2.917342</td>\n",
       "    </tr>\n",
       "    <tr>\n",
       "      <th>14</th>\n",
       "      <td>2.659677</td>\n",
       "      <td>2.670779</td>\n",
       "    </tr>\n",
       "    <tr>\n",
       "      <th>16</th>\n",
       "      <td>2.501935</td>\n",
       "      <td>2.441047</td>\n",
       "    </tr>\n",
       "  </tbody>\n",
       "</table>\n",
       "</div>"
      ],
      "text/plain": [
       "      reales   predict\n",
       "18  2.361290  2.362165\n",
       "23  2.071290  2.017820\n",
       "12  2.839032  2.917342\n",
       "14  2.659677  2.670779\n",
       "16  2.501935  2.441047"
      ]
     },
     "execution_count": 64,
     "metadata": {},
     "output_type": "execute_result"
    }
   ],
   "source": [
    "final_latam = pd.concat([train, test])\n",
    "final_latam.head(5)"
   ]
  },
  {
   "cell_type": "code",
   "execution_count": 65,
   "id": "bf729dc9-1fcb-4e32-91fd-ce2af3df04de",
   "metadata": {},
   "outputs": [],
   "source": [
    "final_latam[\"year\"]= df_latam.year"
   ]
  },
  {
   "cell_type": "code",
   "execution_count": 66,
   "id": "c6cd415c-3b69-40cc-af2a-91496a17e76a",
   "metadata": {},
   "outputs": [
    {
     "data": {
      "text/html": [
       "<div>\n",
       "<style scoped>\n",
       "    .dataframe tbody tr th:only-of-type {\n",
       "        vertical-align: middle;\n",
       "    }\n",
       "\n",
       "    .dataframe tbody tr th {\n",
       "        vertical-align: top;\n",
       "    }\n",
       "\n",
       "    .dataframe thead th {\n",
       "        text-align: right;\n",
       "    }\n",
       "</style>\n",
       "<table border=\"1\" class=\"dataframe\">\n",
       "  <thead>\n",
       "    <tr style=\"text-align: right;\">\n",
       "      <th></th>\n",
       "      <th>year</th>\n",
       "      <th>reales</th>\n",
       "      <th>predict</th>\n",
       "    </tr>\n",
       "  </thead>\n",
       "  <tbody>\n",
       "    <tr>\n",
       "      <th>1</th>\n",
       "      <td>1991</td>\n",
       "      <td>4.352258</td>\n",
       "      <td>4.249925</td>\n",
       "    </tr>\n",
       "    <tr>\n",
       "      <th>2</th>\n",
       "      <td>1992</td>\n",
       "      <td>4.182581</td>\n",
       "      <td>4.072768</td>\n",
       "    </tr>\n",
       "    <tr>\n",
       "      <th>3</th>\n",
       "      <td>1993</td>\n",
       "      <td>4.018710</td>\n",
       "      <td>3.940974</td>\n",
       "    </tr>\n",
       "  </tbody>\n",
       "</table>\n",
       "</div>"
      ],
      "text/plain": [
       "   year    reales   predict\n",
       "1  1991  4.352258  4.249925\n",
       "2  1992  4.182581  4.072768\n",
       "3  1993  4.018710  3.940974"
      ]
     },
     "execution_count": 66,
     "metadata": {},
     "output_type": "execute_result"
    }
   ],
   "source": [
    "final_latam = final_latam.reindex(columns=['year','reales','predict'])\n",
    "final_latam.sort_values(by='year').head(3)"
   ]
  },
  {
   "cell_type": "code",
   "execution_count": 67,
   "id": "f84b58a8-9b86-4893-a1e8-2222773bd6a4",
   "metadata": {},
   "outputs": [
    {
     "data": {
      "text/plain": [
       "<matplotlib.collections.PathCollection at 0x1d49729ed60>"
      ]
     },
     "execution_count": 67,
     "metadata": {},
     "output_type": "execute_result"
    },
    {
     "data": {
      "image/png": "[encoded data removed]",
      "text/plain": [
       "<Figure size 432x288 with 1 Axes>"
      ]
     },
     "metadata": {
      "needs_background": "light"
     },
     "output_type": "display_data"
    }
   ],
   "source": [
    "x=final_latam.year\n",
    "plt.scatter(x, y= final_latam.reales, color = 'r')\n",
    "plt.scatter(x, y=final_latam.predict, color = 'yellow', marker = 'x')"
   ]
  },
  {
   "cell_type": "code",
   "execution_count": 68,
   "id": "e411524e-2107-479d-9162-74b563abf285",
   "metadata": {},
   "outputs": [],
   "source": [
    "df_latam.to_csv(\"df_latam.csv\", index=False)"
   ]
  },
  {
   "cell_type": "code",
   "execution_count": 69,
   "id": "03578720-6d1e-4d09-a535-1162214666c4",
   "metadata": {},
   "outputs": [],
   "source": [
    "final_latam.to_csv(\"predict_latam.csv\", index=False)"
   ]
  },
  {
   "cell_type": "code",
   "execution_count": 70,
   "id": "a89a129d-5210-452d-b1cd-44dabb051326",
   "metadata": {},
   "outputs": [],
   "source": [
    "#df_latam.index = pd.DatetimeIndex(df_latam.year)\n",
    "#df_latam.index"
   ]
  },
  {
   "cell_type": "code",
   "execution_count": 71,
   "id": "9b33102f-2a5a-46ed-b2ea-2249c30d0ef6",
   "metadata": {},
   "outputs": [],
   "source": [
    "#import statsmodels.api as sm\n",
    " \n",
    "#res = sm.tsa.seasonal_decompose(df_latam.mortality_rate)\n",
    "#resplot = res.plot()"
   ]
  },
  {
   "cell_type": "code",
   "execution_count": 72,
   "id": "d38397a9-204f-4238-ba93-659682af917c",
   "metadata": {},
   "outputs": [],
   "source": [
    "europe= ['Austria', 'Belgium', 'Bulgaria', 'Croatia', 'Cyprus', 'Czechia', 'Denmark', 'Estonia', 'Finland', 'France', 'Germany', \n",
    "'Greece', 'Hungary', 'Ireland', 'Italy', 'Latvia', 'Lithuania', 'Luxembourg', 'Malta', 'Netherlands', 'Poland', 'Portugal', \n",
    "'Romania', 'Slovakia', 'Slovenia', 'Spain', 'Sweden', 'Gibraltar', 'Guadeloupe', 'Madeira', 'Martinique', 'Mayotte']"
   ]
  },
  {
   "cell_type": "code",
   "execution_count": 73,
   "id": "77334361-76ba-4ce2-aca8-a78b9a383a6d",
   "metadata": {},
   "outputs": [
    {
     "data": {
      "text/plain": [
       "32"
      ]
     },
     "execution_count": 73,
     "metadata": {},
     "output_type": "execute_result"
    }
   ],
   "source": [
    "len(europe)"
   ]
  },
  {
   "cell_type": "code",
   "execution_count": 74,
   "id": "96da34de-a794-45f1-844e-d40453beec76",
   "metadata": {},
   "outputs": [
    {
     "name": "stdout",
     "output_type": "stream",
     "text": [
      "['Austria', 'Belgium', 'Bulgaria', 'Croatia', 'Cyprus', 'Czechia', 'Denmark', 'Estonia', 'Finland', 'France', 'Germany', 'Greece', 'Hungary', 'Ireland', 'Italy', 'Latvia', 'Lithuania', 'Luxembourg', 'Malta', 'Netherlands', 'Poland', 'Portugal', 'Romania', 'Slovakia', 'Slovenia', 'Spain', 'Sweden']\n"
     ]
    }
   ],
   "source": [
    "europe_list = [x for x in europe if x in paises]\n",
    "print(sorted(europe_list))"
   ]
  },
  {
   "cell_type": "code",
   "execution_count": 75,
   "id": "e1ee8f41-e314-4e6c-8ca4-ce7a9389bf4b",
   "metadata": {},
   "outputs": [],
   "source": [
    "df_euro=df[df['entity'].isin(europe_list)]"
   ]
  },
  {
   "cell_type": "code",
   "execution_count": 76,
   "id": "60fb26f0-54b6-406b-bcc1-9b7d8f4d5e7a",
   "metadata": {},
   "outputs": [
    {
     "data": {
      "text/plain": [
       "<AxesSubplot:xlabel='year', ylabel='mortality_rate'>"
      ]
     },
     "execution_count": 76,
     "metadata": {},
     "output_type": "execute_result"
    },
    {
     "data": {
      "image/png": "[encoded data removed]",
      "text/plain": [
       "<Figure size 432x288 with 1 Axes>"
      ]
     },
     "metadata": {
      "needs_background": "light"
     },
     "output_type": "display_data"
    }
   ],
   "source": [
    "sns.scatterplot(x ='year', y= 'mortality_rate', data=df_euro)"
   ]
  },
  {
   "cell_type": "code",
   "execution_count": 77,
   "id": "48e6b8c2-1479-4b5e-afab-0431df1f2b97",
   "metadata": {},
   "outputs": [
    {
     "data": {
      "text/html": [
       "<div>\n",
       "<style scoped>\n",
       "    .dataframe tbody tr th:only-of-type {\n",
       "        vertical-align: middle;\n",
       "    }\n",
       "\n",
       "    .dataframe tbody tr th {\n",
       "        vertical-align: top;\n",
       "    }\n",
       "\n",
       "    .dataframe thead th {\n",
       "        text-align: right;\n",
       "    }\n",
       "</style>\n",
       "<table border=\"1\" class=\"dataframe\">\n",
       "  <thead>\n",
       "    <tr style=\"text-align: right;\">\n",
       "      <th></th>\n",
       "      <th>entity</th>\n",
       "      <th>mortality_rate</th>\n",
       "    </tr>\n",
       "  </thead>\n",
       "  <tbody>\n",
       "    <tr>\n",
       "      <th>4494</th>\n",
       "      <td>Slovenia</td>\n",
       "      <td>0.23</td>\n",
       "    </tr>\n",
       "    <tr>\n",
       "      <th>1710</th>\n",
       "      <td>Finland</td>\n",
       "      <td>0.24</td>\n",
       "    </tr>\n",
       "    <tr>\n",
       "      <th>1709</th>\n",
       "      <td>Finland</td>\n",
       "      <td>0.24</td>\n",
       "    </tr>\n",
       "    <tr>\n",
       "      <th>1708</th>\n",
       "      <td>Finland</td>\n",
       "      <td>0.24</td>\n",
       "    </tr>\n",
       "    <tr>\n",
       "      <th>1594</th>\n",
       "      <td>Estonia</td>\n",
       "      <td>0.24</td>\n",
       "    </tr>\n",
       "    <tr>\n",
       "      <th>...</th>\n",
       "      <td>...</td>\n",
       "      <td>...</td>\n",
       "    </tr>\n",
       "    <tr>\n",
       "      <th>4093</th>\n",
       "      <td>Romania</td>\n",
       "      <td>2.78</td>\n",
       "    </tr>\n",
       "    <tr>\n",
       "      <th>4092</th>\n",
       "      <td>Romania</td>\n",
       "      <td>2.80</td>\n",
       "    </tr>\n",
       "    <tr>\n",
       "      <th>4091</th>\n",
       "      <td>Romania</td>\n",
       "      <td>2.83</td>\n",
       "    </tr>\n",
       "    <tr>\n",
       "      <th>4090</th>\n",
       "      <td>Romania</td>\n",
       "      <td>2.94</td>\n",
       "    </tr>\n",
       "    <tr>\n",
       "      <th>4089</th>\n",
       "      <td>Romania</td>\n",
       "      <td>3.13</td>\n",
       "    </tr>\n",
       "  </tbody>\n",
       "</table>\n",
       "<p>783 rows × 2 columns</p>\n",
       "</div>"
      ],
      "text/plain": [
       "        entity  mortality_rate\n",
       "4494  Slovenia            0.23\n",
       "1710   Finland            0.24\n",
       "1709   Finland            0.24\n",
       "1708   Finland            0.24\n",
       "1594   Estonia            0.24\n",
       "...        ...             ...\n",
       "4093   Romania            2.78\n",
       "4092   Romania            2.80\n",
       "4091   Romania            2.83\n",
       "4090   Romania            2.94\n",
       "4089   Romania            3.13\n",
       "\n",
       "[783 rows x 2 columns]"
      ]
     },
     "execution_count": 77,
     "metadata": {},
     "output_type": "execute_result"
    }
   ],
   "source": [
    "df_euro[['entity', 'mortality_rate']].sort_values(by= 'mortality_rate')"
   ]
  },
  {
   "cell_type": "code",
   "execution_count": 78,
   "id": "40196fe6-5ed1-4950-ba44-75eb72e6ca0f",
   "metadata": {},
   "outputs": [
    {
     "data": {
      "text/html": [
       "<div>\n",
       "<style scoped>\n",
       "    .dataframe tbody tr th:only-of-type {\n",
       "        vertical-align: middle;\n",
       "    }\n",
       "\n",
       "    .dataframe tbody tr th {\n",
       "        vertical-align: top;\n",
       "    }\n",
       "\n",
       "    .dataframe thead th {\n",
       "        text-align: right;\n",
       "    }\n",
       "</style>\n",
       "<table border=\"1\" class=\"dataframe\">\n",
       "  <thead>\n",
       "    <tr style=\"text-align: right;\">\n",
       "      <th></th>\n",
       "      <th>entity</th>\n",
       "      <th>mortality_rate</th>\n",
       "    </tr>\n",
       "  </thead>\n",
       "  <tbody>\n",
       "    <tr>\n",
       "      <th>26</th>\n",
       "      <td>Sweden</td>\n",
       "      <td>0.396897</td>\n",
       "    </tr>\n",
       "    <tr>\n",
       "      <th>8</th>\n",
       "      <td>Finland</td>\n",
       "      <td>0.399310</td>\n",
       "    </tr>\n",
       "    <tr>\n",
       "      <th>17</th>\n",
       "      <td>Luxembourg</td>\n",
       "      <td>0.439310</td>\n",
       "    </tr>\n",
       "    <tr>\n",
       "      <th>24</th>\n",
       "      <td>Slovenia</td>\n",
       "      <td>0.504828</td>\n",
       "    </tr>\n",
       "    <tr>\n",
       "      <th>25</th>\n",
       "      <td>Spain</td>\n",
       "      <td>0.520345</td>\n",
       "    </tr>\n",
       "    <tr>\n",
       "      <th>10</th>\n",
       "      <td>Germany</td>\n",
       "      <td>0.523448</td>\n",
       "    </tr>\n",
       "    <tr>\n",
       "      <th>9</th>\n",
       "      <td>France</td>\n",
       "      <td>0.535172</td>\n",
       "    </tr>\n",
       "    <tr>\n",
       "      <th>14</th>\n",
       "      <td>Italy</td>\n",
       "      <td>0.539655</td>\n",
       "    </tr>\n",
       "    <tr>\n",
       "      <th>6</th>\n",
       "      <td>Denmark</td>\n",
       "      <td>0.540690</td>\n",
       "    </tr>\n",
       "    <tr>\n",
       "      <th>0</th>\n",
       "      <td>Austria</td>\n",
       "      <td>0.543103</td>\n",
       "    </tr>\n",
       "    <tr>\n",
       "      <th>19</th>\n",
       "      <td>Netherlands</td>\n",
       "      <td>0.560345</td>\n",
       "    </tr>\n",
       "    <tr>\n",
       "      <th>5</th>\n",
       "      <td>Czechia</td>\n",
       "      <td>0.563103</td>\n",
       "    </tr>\n",
       "    <tr>\n",
       "      <th>13</th>\n",
       "      <td>Ireland</td>\n",
       "      <td>0.575862</td>\n",
       "    </tr>\n",
       "    <tr>\n",
       "      <th>4</th>\n",
       "      <td>Cyprus</td>\n",
       "      <td>0.578966</td>\n",
       "    </tr>\n",
       "    <tr>\n",
       "      <th>1</th>\n",
       "      <td>Belgium</td>\n",
       "      <td>0.579655</td>\n",
       "    </tr>\n",
       "    <tr>\n",
       "      <th>11</th>\n",
       "      <td>Greece</td>\n",
       "      <td>0.595517</td>\n",
       "    </tr>\n",
       "    <tr>\n",
       "      <th>21</th>\n",
       "      <td>Portugal</td>\n",
       "      <td>0.656552</td>\n",
       "    </tr>\n",
       "    <tr>\n",
       "      <th>3</th>\n",
       "      <td>Croatia</td>\n",
       "      <td>0.760690</td>\n",
       "    </tr>\n",
       "    <tr>\n",
       "      <th>18</th>\n",
       "      <td>Malta</td>\n",
       "      <td>0.782759</td>\n",
       "    </tr>\n",
       "    <tr>\n",
       "      <th>12</th>\n",
       "      <td>Hungary</td>\n",
       "      <td>0.901724</td>\n",
       "    </tr>\n",
       "    <tr>\n",
       "      <th>7</th>\n",
       "      <td>Estonia</td>\n",
       "      <td>0.902414</td>\n",
       "    </tr>\n",
       "    <tr>\n",
       "      <th>23</th>\n",
       "      <td>Slovakia</td>\n",
       "      <td>0.911724</td>\n",
       "    </tr>\n",
       "    <tr>\n",
       "      <th>20</th>\n",
       "      <td>Poland</td>\n",
       "      <td>0.916552</td>\n",
       "    </tr>\n",
       "    <tr>\n",
       "      <th>16</th>\n",
       "      <td>Lithuania</td>\n",
       "      <td>0.972069</td>\n",
       "    </tr>\n",
       "    <tr>\n",
       "      <th>15</th>\n",
       "      <td>Latvia</td>\n",
       "      <td>1.187931</td>\n",
       "    </tr>\n",
       "    <tr>\n",
       "      <th>2</th>\n",
       "      <td>Bulgaria</td>\n",
       "      <td>1.409310</td>\n",
       "    </tr>\n",
       "    <tr>\n",
       "      <th>22</th>\n",
       "      <td>Romania</td>\n",
       "      <td>1.859310</td>\n",
       "    </tr>\n",
       "  </tbody>\n",
       "</table>\n",
       "</div>"
      ],
      "text/plain": [
       "         entity  mortality_rate\n",
       "26       Sweden        0.396897\n",
       "8       Finland        0.399310\n",
       "17   Luxembourg        0.439310\n",
       "24     Slovenia        0.504828\n",
       "25        Spain        0.520345\n",
       "10      Germany        0.523448\n",
       "9        France        0.535172\n",
       "14        Italy        0.539655\n",
       "6       Denmark        0.540690\n",
       "0       Austria        0.543103\n",
       "19  Netherlands        0.560345\n",
       "5       Czechia        0.563103\n",
       "13      Ireland        0.575862\n",
       "4        Cyprus        0.578966\n",
       "1       Belgium        0.579655\n",
       "11       Greece        0.595517\n",
       "21     Portugal        0.656552\n",
       "3       Croatia        0.760690\n",
       "18        Malta        0.782759\n",
       "12      Hungary        0.901724\n",
       "7       Estonia        0.902414\n",
       "23     Slovakia        0.911724\n",
       "20       Poland        0.916552\n",
       "16    Lithuania        0.972069\n",
       "15       Latvia        1.187931\n",
       "2      Bulgaria        1.409310\n",
       "22      Romania        1.859310"
      ]
     },
     "execution_count": 78,
     "metadata": {},
     "output_type": "execute_result"
    }
   ],
   "source": [
    "indice_europa= df_euro.groupby('entity',as_index = False)['mortality_rate'].mean()\n",
    "indice_europa.sort_values(by= 'mortality_rate')"
   ]
  },
  {
   "cell_type": "code",
   "execution_count": 79,
   "id": "4f79c26b-1a75-49ec-a58c-93cc5a33b71c",
   "metadata": {},
   "outputs": [
    {
     "data": {
      "text/html": [
       "<div>\n",
       "<style scoped>\n",
       "    .dataframe tbody tr th:only-of-type {\n",
       "        vertical-align: middle;\n",
       "    }\n",
       "\n",
       "    .dataframe tbody tr th {\n",
       "        vertical-align: top;\n",
       "    }\n",
       "\n",
       "    .dataframe thead th {\n",
       "        text-align: right;\n",
       "    }\n",
       "</style>\n",
       "<table border=\"1\" class=\"dataframe\">\n",
       "  <thead>\n",
       "    <tr style=\"text-align: right;\">\n",
       "      <th></th>\n",
       "      <th>entity</th>\n",
       "      <th>code</th>\n",
       "      <th>year</th>\n",
       "      <th>deaths_malaria</th>\n",
       "      <th>deaths_hiv</th>\n",
       "      <th>deaths_meningitis</th>\n",
       "      <th>deaths_nutritional_def</th>\n",
       "      <th>deaths_other_nd</th>\n",
       "      <th>deaths_cough</th>\n",
       "      <th>deaths_lorespi</th>\n",
       "      <th>...</th>\n",
       "      <th>mortality_rate</th>\n",
       "      <th>population_povertyline</th>\n",
       "      <th>health_expenditure</th>\n",
       "      <th>population_estimates</th>\n",
       "      <th>electricity_access</th>\n",
       "      <th>incomeUS</th>\n",
       "      <th>incomeUS_pc</th>\n",
       "      <th>death_rate(per1000)</th>\n",
       "      <th>education_exp</th>\n",
       "      <th>region</th>\n",
       "    </tr>\n",
       "  </thead>\n",
       "  <tbody>\n",
       "    <tr>\n",
       "      <th>261</th>\n",
       "      <td>Austria</td>\n",
       "      <td>AUT</td>\n",
       "      <td>1990</td>\n",
       "      <td>0</td>\n",
       "      <td>1</td>\n",
       "      <td>13</td>\n",
       "      <td>0</td>\n",
       "      <td>21</td>\n",
       "      <td>0</td>\n",
       "      <td>28</td>\n",
       "      <td>...</td>\n",
       "      <td>0.95</td>\n",
       "      <td>0.106457</td>\n",
       "      <td>1088.976174</td>\n",
       "      <td>7723954</td>\n",
       "      <td>100.0</td>\n",
       "      <td>1.410000e+11</td>\n",
       "      <td>18364.51611</td>\n",
       "      <td>10.8</td>\n",
       "      <td>11.51311</td>\n",
       "      <td>Europe</td>\n",
       "    </tr>\n",
       "    <tr>\n",
       "      <th>262</th>\n",
       "      <td>Austria</td>\n",
       "      <td>AUT</td>\n",
       "      <td>1991</td>\n",
       "      <td>0</td>\n",
       "      <td>1</td>\n",
       "      <td>13</td>\n",
       "      <td>0</td>\n",
       "      <td>20</td>\n",
       "      <td>0</td>\n",
       "      <td>26</td>\n",
       "      <td>...</td>\n",
       "      <td>0.91</td>\n",
       "      <td>0.141942</td>\n",
       "      <td>1088.976174</td>\n",
       "      <td>7772698</td>\n",
       "      <td>100.0</td>\n",
       "      <td>1.470000e+11</td>\n",
       "      <td>18917.09374</td>\n",
       "      <td>10.8</td>\n",
       "      <td>11.75021</td>\n",
       "      <td>Europe</td>\n",
       "    </tr>\n",
       "    <tr>\n",
       "      <th>263</th>\n",
       "      <td>Austria</td>\n",
       "      <td>AUT</td>\n",
       "      <td>1992</td>\n",
       "      <td>0</td>\n",
       "      <td>2</td>\n",
       "      <td>13</td>\n",
       "      <td>0</td>\n",
       "      <td>18</td>\n",
       "      <td>0</td>\n",
       "      <td>24</td>\n",
       "      <td>...</td>\n",
       "      <td>0.86</td>\n",
       "      <td>0.177428</td>\n",
       "      <td>1088.976174</td>\n",
       "      <td>7830938</td>\n",
       "      <td>100.0</td>\n",
       "      <td>1.650000e+11</td>\n",
       "      <td>21044.01528</td>\n",
       "      <td>10.6</td>\n",
       "      <td>11.75971</td>\n",
       "      <td>Europe</td>\n",
       "    </tr>\n",
       "  </tbody>\n",
       "</table>\n",
       "<p>3 rows × 36 columns</p>\n",
       "</div>"
      ],
      "text/plain": [
       "      entity code  year  deaths_malaria  deaths_hiv  deaths_meningitis  \\\n",
       "261  Austria  AUT  1990               0           1                 13   \n",
       "262  Austria  AUT  1991               0           1                 13   \n",
       "263  Austria  AUT  1992               0           2                 13   \n",
       "\n",
       "     deaths_nutritional_def  deaths_other_nd  deaths_cough  deaths_lorespi  \\\n",
       "261                       0               21             0              28   \n",
       "262                       0               20             0              26   \n",
       "263                       0               18             0              24   \n",
       "\n",
       "     ...  mortality_rate  population_povertyline  health_expenditure  \\\n",
       "261  ...            0.95                0.106457         1088.976174   \n",
       "262  ...            0.91                0.141942         1088.976174   \n",
       "263  ...            0.86                0.177428         1088.976174   \n",
       "\n",
       "     population_estimates  electricity_access      incomeUS  incomeUS_pc  \\\n",
       "261               7723954               100.0  1.410000e+11  18364.51611   \n",
       "262               7772698               100.0  1.470000e+11  18917.09374   \n",
       "263               7830938               100.0  1.650000e+11  21044.01528   \n",
       "\n",
       "     death_rate(per1000)  education_exp  region  \n",
       "261                 10.8       11.51311  Europe  \n",
       "262                 10.8       11.75021  Europe  \n",
       "263                 10.6       11.75971  Europe  \n",
       "\n",
       "[3 rows x 36 columns]"
      ]
     },
     "execution_count": 79,
     "metadata": {},
     "output_type": "execute_result"
    }
   ],
   "source": [
    "df_euro= df_euro.assign(region=\"Europe\")\n",
    "df_euro.head(3)"
   ]
  },
  {
   "cell_type": "code",
   "execution_count": 80,
   "id": "312e742d-a422-4b90-9020-6bc70c13003a",
   "metadata": {},
   "outputs": [],
   "source": [
    "df_euro.to_csv(\"paises_europa.csv\", index=False)"
   ]
  },
  {
   "cell_type": "code",
   "execution_count": 81,
   "id": "d67f2eab-d3d7-4d43-b12c-05d9d9c862e3",
   "metadata": {},
   "outputs": [
    {
     "data": {
      "text/html": [
       "<div>\n",
       "<style scoped>\n",
       "    .dataframe tbody tr th:only-of-type {\n",
       "        vertical-align: middle;\n",
       "    }\n",
       "\n",
       "    .dataframe tbody tr th {\n",
       "        vertical-align: top;\n",
       "    }\n",
       "\n",
       "    .dataframe thead th {\n",
       "        text-align: right;\n",
       "    }\n",
       "</style>\n",
       "<table border=\"1\" class=\"dataframe\">\n",
       "  <thead>\n",
       "    <tr style=\"text-align: right;\">\n",
       "      <th></th>\n",
       "      <th>year</th>\n",
       "      <th>mortality_rate</th>\n",
       "      <th>population_povertyline</th>\n",
       "      <th>health_expenditure</th>\n",
       "      <th>incomeUS_pc</th>\n",
       "      <th>education_exp</th>\n",
       "    </tr>\n",
       "  </thead>\n",
       "  <tbody>\n",
       "    <tr>\n",
       "      <th>0</th>\n",
       "      <td>1990</td>\n",
       "      <td>1.246667</td>\n",
       "      <td>0.360106</td>\n",
       "      <td>1088.976174</td>\n",
       "      <td>9251.041867</td>\n",
       "      <td>12.745594</td>\n",
       "    </tr>\n",
       "    <tr>\n",
       "      <th>1</th>\n",
       "      <td>1991</td>\n",
       "      <td>1.219259</td>\n",
       "      <td>0.407114</td>\n",
       "      <td>1088.976174</td>\n",
       "      <td>9412.506998</td>\n",
       "      <td>12.656721</td>\n",
       "    </tr>\n",
       "  </tbody>\n",
       "</table>\n",
       "</div>"
      ],
      "text/plain": [
       "   year  mortality_rate  population_povertyline  health_expenditure  \\\n",
       "0  1990        1.246667                0.360106         1088.976174   \n",
       "1  1991        1.219259                0.407114         1088.976174   \n",
       "\n",
       "   incomeUS_pc  education_exp  \n",
       "0  9251.041867      12.745594  \n",
       "1  9412.506998      12.656721  "
      ]
     },
     "execution_count": 81,
     "metadata": {},
     "output_type": "execute_result"
    }
   ],
   "source": [
    "df_europe= df_euro.groupby('year',as_index = False)[['mortality_rate','population_povertyline', 'health_expenditure','incomeUS_pc', 'education_exp']].mean()\n",
    "df_europe.head(2)"
   ]
  },
  {
   "cell_type": "code",
   "execution_count": 82,
   "id": "0f162825-2221-4225-bebc-043e619c7e2b",
   "metadata": {
    "tags": []
   },
   "outputs": [],
   "source": [
    "df_europe['lag1'] = df_europe.mortality_rate.shift(1)"
   ]
  },
  {
   "cell_type": "code",
   "execution_count": 83,
   "id": "aa569d5e-a467-4b80-aae4-b24df4ecfa3d",
   "metadata": {},
   "outputs": [],
   "source": [
    "df_europe= df_europe.iloc[1:30] "
   ]
  },
  {
   "cell_type": "code",
   "execution_count": 84,
   "id": "29628cd5-11f9-45b2-84fb-4e3bd93f3bb2",
   "metadata": {},
   "outputs": [
    {
     "data": {
      "text/plain": [
       "((22, 5), (6, 5))"
      ]
     },
     "execution_count": 84,
     "metadata": {},
     "output_type": "execute_result"
    }
   ],
   "source": [
    "X_train, X_test, y_train, y_test = train_test_split(df_europe.drop(['mortality_rate', 'year'], axis=1), \n",
    "                                                    df_europe['mortality_rate'], \n",
    "                                                    test_size=0.2, \n",
    "                                                    random_state=42\n",
    "                                                    )\n",
    "\n",
    "X_train.shape, X_test.shape"
   ]
  },
  {
   "cell_type": "code",
   "execution_count": 85,
   "id": "5bc8ca33-1630-471f-863e-5fbf2cc83677",
   "metadata": {},
   "outputs": [
    {
     "name": "stdout",
     "output_type": "stream",
     "text": [
      "<class 'pandas.core.frame.DataFrame'>\n",
      "Int64Index: 22 entries, 18 to 7\n",
      "Data columns (total 5 columns):\n",
      " #   Column                  Non-Null Count  Dtype  \n",
      "---  ------                  --------------  -----  \n",
      " 0   population_povertyline  22 non-null     float64\n",
      " 1   health_expenditure      22 non-null     float64\n",
      " 2   incomeUS_pc             22 non-null     float64\n",
      " 3   education_exp           22 non-null     float64\n",
      " 4   lag1                    22 non-null     float64\n",
      "dtypes: float64(5)\n",
      "memory usage: 1.0 KB\n"
     ]
    }
   ],
   "source": [
    "X_train.info()"
   ]
  },
  {
   "cell_type": "code",
   "execution_count": 86,
   "id": "6105e312-b56d-4ebe-b3fc-ad81063b77a9",
   "metadata": {},
   "outputs": [],
   "source": [
    "ratelat_pipeline = Pipeline([('scaler', StandardScaler()),\n",
    "                        ('model', LinearRegression())], verbose = True)"
   ]
  },
  {
   "cell_type": "code",
   "execution_count": 87,
   "id": "dc1fefe2-3408-45f2-ad04-d6281d085693",
   "metadata": {},
   "outputs": [
    {
     "name": "stdout",
     "output_type": "stream",
     "text": [
      "[Pipeline] ............ (step 1 of 2) Processing scaler, total=   0.0s\n",
      "[Pipeline] ............. (step 2 of 2) Processing model, total=   0.0s\n"
     ]
    },
    {
     "data": {
      "text/html": [
       "<style>#sk-container-id-2 {color: black;background-color: white;}#sk-container-id-2 pre{padding: 0;}#sk-container-id-2 div.sk-toggleable {background-color: white;}#sk-container-id-2 label.sk-toggleable__label {cursor: pointer;display: block;width: 100%;margin-bottom: 0;padding: 0.3em;box-sizing: border-box;text-align: center;}#sk-container-id-2 label.sk-toggleable__label-arrow:before {content: \"▸\";float: left;margin-right: 0.25em;color: #696969;}#sk-container-id-2 label.sk-toggleable__label-arrow:hover:before {color: black;}#sk-container-id-2 div.sk-estimator:hover label.sk-toggleable__label-arrow:before {color: black;}#sk-container-id-2 div.sk-toggleable__content {max-height: 0;max-width: 0;overflow: hidden;text-align: left;background-color: #f0f8ff;}#sk-container-id-2 div.sk-toggleable__content pre {margin: 0.2em;color: black;border-radius: 0.25em;background-color: #f0f8ff;}#sk-container-id-2 input.sk-toggleable__control:checked~div.sk-toggleable__content {max-height: 200px;max-width: 100%;overflow: auto;}#sk-container-id-2 input.sk-toggleable__control:checked~label.sk-toggleable__label-arrow:before {content: \"▾\";}#sk-container-id-2 div.sk-estimator input.sk-toggleable__control:checked~label.sk-toggleable__label {background-color: #d4ebff;}#sk-container-id-2 div.sk-label input.sk-toggleable__control:checked~label.sk-toggleable__label {background-color: #d4ebff;}#sk-container-id-2 input.sk-hidden--visually {border: 0;clip: rect(1px 1px 1px 1px);clip: rect(1px, 1px, 1px, 1px);height: 1px;margin: -1px;overflow: hidden;padding: 0;position: absolute;width: 1px;}#sk-container-id-2 div.sk-estimator {font-family: monospace;background-color: #f0f8ff;border: 1px dotted black;border-radius: 0.25em;box-sizing: border-box;margin-bottom: 0.5em;}#sk-container-id-2 div.sk-estimator:hover {background-color: #d4ebff;}#sk-container-id-2 div.sk-parallel-item::after {content: \"\";width: 100%;border-bottom: 1px solid gray;flex-grow: 1;}#sk-container-id-2 div.sk-label:hover label.sk-toggleable__label {background-color: #d4ebff;}#sk-container-id-2 div.sk-serial::before {content: \"\";position: absolute;border-left: 1px solid gray;box-sizing: border-box;top: 0;bottom: 0;left: 50%;z-index: 0;}#sk-container-id-2 div.sk-serial {display: flex;flex-direction: column;align-items: center;background-color: white;padding-right: 0.2em;padding-left: 0.2em;position: relative;}#sk-container-id-2 div.sk-item {position: relative;z-index: 1;}#sk-container-id-2 div.sk-parallel {display: flex;align-items: stretch;justify-content: center;background-color: white;position: relative;}#sk-container-id-2 div.sk-item::before, #sk-container-id-2 div.sk-parallel-item::before {content: \"\";position: absolute;border-left: 1px solid gray;box-sizing: border-box;top: 0;bottom: 0;left: 50%;z-index: -1;}#sk-container-id-2 div.sk-parallel-item {display: flex;flex-direction: column;z-index: 1;position: relative;background-color: white;}#sk-container-id-2 div.sk-parallel-item:first-child::after {align-self: flex-end;width: 50%;}#sk-container-id-2 div.sk-parallel-item:last-child::after {align-self: flex-start;width: 50%;}#sk-container-id-2 div.sk-parallel-item:only-child::after {width: 0;}#sk-container-id-2 div.sk-dashed-wrapped {border: 1px dashed gray;margin: 0 0.4em 0.5em 0.4em;box-sizing: border-box;padding-bottom: 0.4em;background-color: white;}#sk-container-id-2 div.sk-label label {font-family: monospace;font-weight: bold;display: inline-block;line-height: 1.2em;}#sk-container-id-2 div.sk-label-container {text-align: center;}#sk-container-id-2 div.sk-container {/* jupyter's `normalize.less` sets `[hidden] { display: none; }` but bootstrap.min.css set `[hidden] { display: none !important; }` so we also need the `!important` here to be able to override the default hidden behavior on the sphinx rendered scikit-learn.org. See: https://github.com/scikit-learn/scikit-learn/issues/21755 */display: inline-block !important;position: relative;}#sk-container-id-2 div.sk-text-repr-fallback {display: none;}</style><div id=\"sk-container-id-2\" class=\"sk-top-container\"><div class=\"sk-text-repr-fallback\"><pre>Pipeline(steps=[(&#x27;scaler&#x27;, StandardScaler()), (&#x27;model&#x27;, LinearRegression())],\n",
       "         verbose=True)</pre><b>In a Jupyter environment, please rerun this cell to show the HTML representation or trust the notebook. <br />On GitHub, the HTML representation is unable to render, please try loading this page with nbviewer.org.</b></div><div class=\"sk-container\" hidden><div class=\"sk-item sk-dashed-wrapped\"><div class=\"sk-label-container\"><div class=\"sk-label sk-toggleable\"><input class=\"sk-toggleable__control sk-hidden--visually\" id=\"sk-estimator-id-4\" type=\"checkbox\" ><label for=\"sk-estimator-id-4\" class=\"sk-toggleable__label sk-toggleable__label-arrow\">Pipeline</label><div class=\"sk-toggleable__content\"><pre>Pipeline(steps=[(&#x27;scaler&#x27;, StandardScaler()), (&#x27;model&#x27;, LinearRegression())],\n",
       "         verbose=True)</pre></div></div></div><div class=\"sk-serial\"><div class=\"sk-item\"><div class=\"sk-estimator sk-toggleable\"><input class=\"sk-toggleable__control sk-hidden--visually\" id=\"sk-estimator-id-5\" type=\"checkbox\" ><label for=\"sk-estimator-id-5\" class=\"sk-toggleable__label sk-toggleable__label-arrow\">StandardScaler</label><div class=\"sk-toggleable__content\"><pre>StandardScaler()</pre></div></div></div><div class=\"sk-item\"><div class=\"sk-estimator sk-toggleable\"><input class=\"sk-toggleable__control sk-hidden--visually\" id=\"sk-estimator-id-6\" type=\"checkbox\" ><label for=\"sk-estimator-id-6\" class=\"sk-toggleable__label sk-toggleable__label-arrow\">LinearRegression</label><div class=\"sk-toggleable__content\"><pre>LinearRegression()</pre></div></div></div></div></div></div></div>"
      ],
      "text/plain": [
       "Pipeline(steps=[('scaler', StandardScaler()), ('model', LinearRegression())],\n",
       "         verbose=True)"
      ]
     },
     "execution_count": 87,
     "metadata": {},
     "output_type": "execute_result"
    }
   ],
   "source": [
    "ratelat_pipeline.fit(X_train, y_train)"
   ]
  },
  {
   "cell_type": "code",
   "execution_count": 88,
   "id": "0f7bf73b-b68c-46f0-bfde-3cb9a256856d",
   "metadata": {},
   "outputs": [],
   "source": [
    "X_train_pred = ratelat_pipeline.predict(X_train)"
   ]
  },
  {
   "cell_type": "code",
   "execution_count": 89,
   "id": "1ba0450e-ef3f-49b1-bad5-9274a1d11278",
   "metadata": {},
   "outputs": [
    {
     "data": {
      "text/plain": [
       "0.9998997302673803"
      ]
     },
     "execution_count": 89,
     "metadata": {},
     "output_type": "execute_result"
    }
   ],
   "source": [
    "ratelat_pipeline.score(X_train, y_train)"
   ]
  },
  {
   "cell_type": "code",
   "execution_count": 90,
   "id": "56e2f47a-a127-4015-a745-ef46e5e3b588",
   "metadata": {},
   "outputs": [
    {
     "data": {
      "text/plain": [
       "array([0.54999916, 0.45676084, 0.72980584, 0.66759298, 0.60756898,\n",
       "       1.17110226, 1.02943946, 0.9784672 , 1.12714715, 0.57598361,\n",
       "       0.44299953, 1.0806252 , 0.41430616, 0.43351811, 0.52819924,\n",
       "       0.4064821 , 0.48703465, 0.88126562, 0.76434991, 0.63825152,\n",
       "       0.50668388, 0.93130546])"
      ]
     },
     "execution_count": 90,
     "metadata": {},
     "output_type": "execute_result"
    }
   ],
   "source": [
    "X_train_pred"
   ]
  },
  {
   "cell_type": "code",
   "execution_count": 91,
   "id": "e1b64f3b-bf37-4c7c-b414-09bc5a10fe05",
   "metadata": {},
   "outputs": [
    {
     "data": {
      "text/plain": [
       "0.9988362908732781"
      ]
     },
     "execution_count": 91,
     "metadata": {},
     "output_type": "execute_result"
    }
   ],
   "source": [
    "ratelat_pipeline.score(X_test, y_test)"
   ]
  },
  {
   "cell_type": "code",
   "execution_count": 92,
   "id": "0bce43ad-c010-47eb-bddd-b97628b96032",
   "metadata": {},
   "outputs": [
    {
     "data": {
      "text/plain": [
       "array([0.80154037, 0.42686948, 0.83623516, 0.4720311 , 1.19822411,\n",
       "       0.69813082])"
      ]
     },
     "execution_count": 92,
     "metadata": {},
     "output_type": "execute_result"
    }
   ],
   "source": [
    "X_test_pred = ratelat_pipeline.predict(X_test)\n",
    "X_test_pred"
   ]
  },
  {
   "cell_type": "code",
   "execution_count": 93,
   "id": "2a8d8269-a774-4475-ac21-6c8845b73d45",
   "metadata": {},
   "outputs": [
    {
     "data": {
      "text/plain": [
       "10    0.801111\n",
       "26    0.422963\n",
       "9     0.840741\n",
       "22    0.473333\n",
       "1     1.219259\n",
       "13    0.700370\n",
       "Name: mortality_rate, dtype: float64"
      ]
     },
     "execution_count": 93,
     "metadata": {},
     "output_type": "execute_result"
    }
   ],
   "source": [
    "y_test"
   ]
  },
  {
   "cell_type": "code",
   "execution_count": 94,
   "id": "caa88a84-6cd0-4741-b47e-a581351d4cab",
   "metadata": {},
   "outputs": [],
   "source": [
    "train= pd.DataFrame({'reales':y_train, \"predict\": X_train_pred})\n",
    "test= pd.DataFrame({'reales':y_test, \"predict\": X_test_pred})"
   ]
  },
  {
   "cell_type": "code",
   "execution_count": 95,
   "id": "991ab2f9-e1db-4b8f-849c-afc9ceb6e47a",
   "metadata": {
    "tags": []
   },
   "outputs": [
    {
     "data": {
      "text/html": [
       "<div>\n",
       "<style scoped>\n",
       "    .dataframe tbody tr th:only-of-type {\n",
       "        vertical-align: middle;\n",
       "    }\n",
       "\n",
       "    .dataframe tbody tr th {\n",
       "        vertical-align: top;\n",
       "    }\n",
       "\n",
       "    .dataframe thead th {\n",
       "        text-align: right;\n",
       "    }\n",
       "</style>\n",
       "<table border=\"1\" class=\"dataframe\">\n",
       "  <thead>\n",
       "    <tr style=\"text-align: right;\">\n",
       "      <th></th>\n",
       "      <th>reales</th>\n",
       "      <th>predict</th>\n",
       "    </tr>\n",
       "  </thead>\n",
       "  <tbody>\n",
       "    <tr>\n",
       "      <th>18</th>\n",
       "      <td>0.550000</td>\n",
       "      <td>0.549999</td>\n",
       "    </tr>\n",
       "    <tr>\n",
       "      <th>23</th>\n",
       "      <td>0.459630</td>\n",
       "      <td>0.456761</td>\n",
       "    </tr>\n",
       "    <tr>\n",
       "      <th>12</th>\n",
       "      <td>0.731481</td>\n",
       "      <td>0.729806</td>\n",
       "    </tr>\n",
       "    <tr>\n",
       "      <th>14</th>\n",
       "      <td>0.669259</td>\n",
       "      <td>0.667593</td>\n",
       "    </tr>\n",
       "    <tr>\n",
       "      <th>16</th>\n",
       "      <td>0.604074</td>\n",
       "      <td>0.607569</td>\n",
       "    </tr>\n",
       "  </tbody>\n",
       "</table>\n",
       "</div>"
      ],
      "text/plain": [
       "      reales   predict\n",
       "18  0.550000  0.549999\n",
       "23  0.459630  0.456761\n",
       "12  0.731481  0.729806\n",
       "14  0.669259  0.667593\n",
       "16  0.604074  0.607569"
      ]
     },
     "execution_count": 95,
     "metadata": {},
     "output_type": "execute_result"
    }
   ],
   "source": [
    "final_europe = pd.concat([train, test])\n",
    "final_europe.head(5)"
   ]
  },
  {
   "cell_type": "code",
   "execution_count": 96,
   "id": "856b0f8c-2c35-4a3f-8e86-b2680db22d15",
   "metadata": {},
   "outputs": [],
   "source": [
    "final_europe[\"year\"]= df_europe.year"
   ]
  },
  {
   "cell_type": "code",
   "execution_count": 97,
   "id": "e505dc19-0031-41f2-911d-707c83c25798",
   "metadata": {},
   "outputs": [
    {
     "data": {
      "text/html": [
       "<div>\n",
       "<style scoped>\n",
       "    .dataframe tbody tr th:only-of-type {\n",
       "        vertical-align: middle;\n",
       "    }\n",
       "\n",
       "    .dataframe tbody tr th {\n",
       "        vertical-align: top;\n",
       "    }\n",
       "\n",
       "    .dataframe thead th {\n",
       "        text-align: right;\n",
       "    }\n",
       "</style>\n",
       "<table border=\"1\" class=\"dataframe\">\n",
       "  <thead>\n",
       "    <tr style=\"text-align: right;\">\n",
       "      <th></th>\n",
       "      <th>year</th>\n",
       "      <th>reales</th>\n",
       "      <th>predict</th>\n",
       "    </tr>\n",
       "  </thead>\n",
       "  <tbody>\n",
       "    <tr>\n",
       "      <th>1</th>\n",
       "      <td>1991</td>\n",
       "      <td>1.219259</td>\n",
       "      <td>1.198224</td>\n",
       "    </tr>\n",
       "    <tr>\n",
       "      <th>2</th>\n",
       "      <td>1992</td>\n",
       "      <td>1.174444</td>\n",
       "      <td>1.171102</td>\n",
       "    </tr>\n",
       "    <tr>\n",
       "      <th>3</th>\n",
       "      <td>1993</td>\n",
       "      <td>1.130000</td>\n",
       "      <td>1.127147</td>\n",
       "    </tr>\n",
       "  </tbody>\n",
       "</table>\n",
       "</div>"
      ],
      "text/plain": [
       "   year    reales   predict\n",
       "1  1991  1.219259  1.198224\n",
       "2  1992  1.174444  1.171102\n",
       "3  1993  1.130000  1.127147"
      ]
     },
     "execution_count": 97,
     "metadata": {},
     "output_type": "execute_result"
    }
   ],
   "source": [
    "final_europe = final_europe.reindex(columns=['year','reales','predict'])\n",
    "final_europe.sort_values(by='year').head(3)"
   ]
  },
  {
   "cell_type": "code",
   "execution_count": 98,
   "id": "6b731042-bcf2-49fe-9586-aefeb8190982",
   "metadata": {},
   "outputs": [
    {
     "data": {
      "text/plain": [
       "<matplotlib.collections.PathCollection at 0x1d49721cc10>"
      ]
     },
     "execution_count": 98,
     "metadata": {},
     "output_type": "execute_result"
    },
    {
     "data": {
      "image/png": "[encoded data removed]",
      "text/plain": [
       "<Figure size 432x288 with 1 Axes>"
      ]
     },
     "metadata": {
      "needs_background": "light"
     },
     "output_type": "display_data"
    }
   ],
   "source": [
    "x=final_europe.year\n",
    "plt.scatter(x, y= final_europe.reales, color = 'r')\n",
    "plt.scatter(x, y=final_europe.predict, color = 'yellow', marker = 'x')"
   ]
  },
  {
   "cell_type": "code",
   "execution_count": 99,
   "id": "2da84eab-a6a6-480a-aad4-3fff656fcfef",
   "metadata": {},
   "outputs": [],
   "source": [
    "df_europe.to_csv(\"df_europe.csv\", index=False)"
   ]
  },
  {
   "cell_type": "code",
   "execution_count": 100,
   "id": "22a932d6-4862-4024-9bd3-5fc230e8d4dc",
   "metadata": {},
   "outputs": [],
   "source": [
    "final_europe.to_csv(\"predict_europe.csv\", index=False)"
   ]
  },
  {
   "cell_type": "code",
   "execution_count": null,
   "id": "ffdfc35a-9d6a-4d7e-bdd8-963202a0aec7",
   "metadata": {},
   "outputs": [],
   "source": []
  },
  {
   "cell_type": "code",
   "execution_count": 101,
   "id": "bf3118fb-b147-4404-ad86-19bbaa1be477",
   "metadata": {},
   "outputs": [],
   "source": [
    "Africa= ['Djibouti','Seychelles','DR Congo','Comoros','Togo','Sierra Leone','Libya','Tanzania','South Africa','Cabo Verde','Congo','Kenya','Liberia','Central African Republic','Mauritania','Uganda',\n",
    "         'Algeria','Sudan','Morocco','Eritrea','Angola','Mozambique','Ghana','Madagascar','Cameroon',\"Cote d'Ivoire\",'Namibia',\t'Niger','Gambia','Botswana','Gabon','Sao Tome and Principe','Lesotho',\t\n",
    "         'Burkina Faso', 'Nigeria',\t'Mali',\t'Guinea-Bissau','Malawi', 'Zambia',\t'Senegal','Chad','Somalia',\t'Zimbabwe',\t'Equatorial Guinea','Guinea','Rwanda','Mauritius','Benin','Burundi',\t\n",
    "         'Tunisia',\t'Eswatini',\t'Ethiopia',\t'South Sudan','Egypt']"
   ]
  },
  {
   "cell_type": "code",
   "execution_count": 102,
   "id": "542681e8-8f1c-48eb-ad1b-0b09f7f73b37",
   "metadata": {},
   "outputs": [
    {
     "name": "stdout",
     "output_type": "stream",
     "text": [
      "['Algeria', 'Angola', 'Benin', 'Botswana', 'Burkina Faso', 'Burundi', 'Cameroon', 'Central African Republic', 'Chad', 'Comoros', 'Congo', \"Cote d'Ivoire\", 'Djibouti', 'Egypt', 'Equatorial Guinea', 'Eritrea', 'Eswatini', 'Ethiopia', 'Gabon', 'Gambia', 'Ghana', 'Guinea', 'Guinea-Bissau', 'Kenya', 'Lesotho', 'Liberia', 'Libya', 'Madagascar', 'Malawi', 'Mali', 'Mauritania', 'Mauritius', 'Morocco', 'Mozambique', 'Namibia', 'Niger', 'Nigeria', 'Rwanda', 'Sao Tome and Principe', 'Senegal', 'Seychelles', 'Sierra Leone', 'Somalia', 'South Sudan', 'Sudan', 'Tanzania', 'Togo', 'Tunisia', 'Uganda', 'Zambia', 'Zimbabwe']\n"
     ]
    }
   ],
   "source": [
    "africa_list = [x for x in Africa if x in paises]\n",
    "print(sorted(africa_list))"
   ]
  },
  {
   "cell_type": "code",
   "execution_count": 103,
   "id": "f69d11cc-3a3f-44c1-855e-c15b259b11ae",
   "metadata": {},
   "outputs": [],
   "source": [
    "df_africa=df[df['entity'].isin(africa_list)]"
   ]
  },
  {
   "cell_type": "code",
   "execution_count": 104,
   "id": "853baf4e-f53d-47e7-89ba-e4d46a9afc93",
   "metadata": {},
   "outputs": [
    {
     "data": {
      "text/plain": [
       "<AxesSubplot:xlabel='year', ylabel='mortality_rate'>"
      ]
     },
     "execution_count": 104,
     "metadata": {},
     "output_type": "execute_result"
    },
    {
     "data": {
      "image/png": "[encoded data removed]",
      "text/plain": [
       "<Figure size 432x288 with 1 Axes>"
      ]
     },
     "metadata": {
      "needs_background": "light"
     },
     "output_type": "display_data"
    }
   ],
   "source": [
    "sns.scatterplot(x ='year', y= 'mortality_rate', data=df_africa)"
   ]
  },
  {
   "cell_type": "code",
   "execution_count": 105,
   "id": "33b02fe5-ecad-4eaf-b561-e504d78d9619",
   "metadata": {},
   "outputs": [
    {
     "data": {
      "text/html": [
       "<div>\n",
       "<style scoped>\n",
       "    .dataframe tbody tr th:only-of-type {\n",
       "        vertical-align: middle;\n",
       "    }\n",
       "\n",
       "    .dataframe tbody tr th {\n",
       "        vertical-align: top;\n",
       "    }\n",
       "\n",
       "    .dataframe thead th {\n",
       "        text-align: right;\n",
       "    }\n",
       "</style>\n",
       "<table border=\"1\" class=\"dataframe\">\n",
       "  <thead>\n",
       "    <tr style=\"text-align: right;\">\n",
       "      <th></th>\n",
       "      <th>entity</th>\n",
       "      <th>mortality_rate</th>\n",
       "    </tr>\n",
       "  </thead>\n",
       "  <tbody>\n",
       "    <tr>\n",
       "      <th>2841</th>\n",
       "      <td>Libya</td>\n",
       "      <td>1.190000</td>\n",
       "    </tr>\n",
       "    <tr>\n",
       "      <th>2840</th>\n",
       "      <td>Libya</td>\n",
       "      <td>1.230000</td>\n",
       "    </tr>\n",
       "    <tr>\n",
       "      <th>2839</th>\n",
       "      <td>Libya</td>\n",
       "      <td>1.280000</td>\n",
       "    </tr>\n",
       "    <tr>\n",
       "      <th>2838</th>\n",
       "      <td>Libya</td>\n",
       "      <td>1.330000</td>\n",
       "    </tr>\n",
       "    <tr>\n",
       "      <th>4365</th>\n",
       "      <td>Seychelles</td>\n",
       "      <td>1.370000</td>\n",
       "    </tr>\n",
       "    <tr>\n",
       "      <th>...</th>\n",
       "      <td>...</td>\n",
       "      <td>...</td>\n",
       "    </tr>\n",
       "    <tr>\n",
       "      <th>3599</th>\n",
       "      <td>Niger</td>\n",
       "      <td>30.400000</td>\n",
       "    </tr>\n",
       "    <tr>\n",
       "      <th>3598</th>\n",
       "      <td>Niger</td>\n",
       "      <td>31.439999</td>\n",
       "    </tr>\n",
       "    <tr>\n",
       "      <th>3597</th>\n",
       "      <td>Niger</td>\n",
       "      <td>32.300000</td>\n",
       "    </tr>\n",
       "    <tr>\n",
       "      <th>3596</th>\n",
       "      <td>Niger</td>\n",
       "      <td>32.960001</td>\n",
       "    </tr>\n",
       "    <tr>\n",
       "      <th>4151</th>\n",
       "      <td>Rwanda</td>\n",
       "      <td>34.120001</td>\n",
       "    </tr>\n",
       "  </tbody>\n",
       "</table>\n",
       "<p>1479 rows × 2 columns</p>\n",
       "</div>"
      ],
      "text/plain": [
       "          entity  mortality_rate\n",
       "2841       Libya        1.190000\n",
       "2840       Libya        1.230000\n",
       "2839       Libya        1.280000\n",
       "2838       Libya        1.330000\n",
       "4365  Seychelles        1.370000\n",
       "...          ...             ...\n",
       "3599       Niger       30.400000\n",
       "3598       Niger       31.439999\n",
       "3597       Niger       32.300000\n",
       "3596       Niger       32.960001\n",
       "4151      Rwanda       34.120001\n",
       "\n",
       "[1479 rows x 2 columns]"
      ]
     },
     "execution_count": 105,
     "metadata": {},
     "output_type": "execute_result"
    }
   ],
   "source": [
    "df_africa[['entity', 'mortality_rate']].sort_values(by= 'mortality_rate')"
   ]
  },
  {
   "cell_type": "code",
   "execution_count": 106,
   "id": "46de3160-53d1-41bd-a522-f7e0512fd9c5",
   "metadata": {},
   "outputs": [],
   "source": [
    "indice_africa= df_africa.groupby('entity',as_index = False)['mortality_rate'].mean()\n",
    "indice_africa= indice_africa.sort_values(by= 'mortality_rate').reset_index(drop=True)"
   ]
  },
  {
   "cell_type": "code",
   "execution_count": 107,
   "id": "e74bc36c-1b4f-4b1f-8698-8df502c23012",
   "metadata": {},
   "outputs": [
    {
     "data": {
      "text/html": [
       "<div>\n",
       "<style scoped>\n",
       "    .dataframe tbody tr th:only-of-type {\n",
       "        vertical-align: middle;\n",
       "    }\n",
       "\n",
       "    .dataframe tbody tr th {\n",
       "        vertical-align: top;\n",
       "    }\n",
       "\n",
       "    .dataframe thead th {\n",
       "        text-align: right;\n",
       "    }\n",
       "</style>\n",
       "<table border=\"1\" class=\"dataframe\">\n",
       "  <thead>\n",
       "    <tr style=\"text-align: right;\">\n",
       "      <th></th>\n",
       "      <th>entity</th>\n",
       "      <th>code</th>\n",
       "      <th>year</th>\n",
       "      <th>deaths_malaria</th>\n",
       "      <th>deaths_hiv</th>\n",
       "      <th>deaths_meningitis</th>\n",
       "      <th>deaths_nutritional_def</th>\n",
       "      <th>deaths_other_nd</th>\n",
       "      <th>deaths_cough</th>\n",
       "      <th>deaths_lorespi</th>\n",
       "      <th>...</th>\n",
       "      <th>mortality_rate</th>\n",
       "      <th>population_povertyline</th>\n",
       "      <th>health_expenditure</th>\n",
       "      <th>population_estimates</th>\n",
       "      <th>electricity_access</th>\n",
       "      <th>incomeUS</th>\n",
       "      <th>incomeUS_pc</th>\n",
       "      <th>death_rate(per1000)</th>\n",
       "      <th>education_exp</th>\n",
       "      <th>region</th>\n",
       "    </tr>\n",
       "  </thead>\n",
       "  <tbody>\n",
       "    <tr>\n",
       "      <th>58</th>\n",
       "      <td>Algeria</td>\n",
       "      <td>DZA</td>\n",
       "      <td>1990</td>\n",
       "      <td>0</td>\n",
       "      <td>15</td>\n",
       "      <td>497</td>\n",
       "      <td>316</td>\n",
       "      <td>3326</td>\n",
       "      <td>628</td>\n",
       "      <td>5070</td>\n",
       "      <td>...</td>\n",
       "      <td>4.91</td>\n",
       "      <td>5.051997</td>\n",
       "      <td>1088.976174</td>\n",
       "      <td>25758872</td>\n",
       "      <td>78.963223</td>\n",
       "      <td>4.804000e+10</td>\n",
       "      <td>1864.988498</td>\n",
       "      <td>6.207</td>\n",
       "      <td>14.01654</td>\n",
       "      <td>Africa</td>\n",
       "    </tr>\n",
       "    <tr>\n",
       "      <th>59</th>\n",
       "      <td>Algeria</td>\n",
       "      <td>DZA</td>\n",
       "      <td>1991</td>\n",
       "      <td>0</td>\n",
       "      <td>17</td>\n",
       "      <td>464</td>\n",
       "      <td>302</td>\n",
       "      <td>3231</td>\n",
       "      <td>552</td>\n",
       "      <td>4662</td>\n",
       "      <td>...</td>\n",
       "      <td>4.77</td>\n",
       "      <td>6.265288</td>\n",
       "      <td>1088.976174</td>\n",
       "      <td>26400468</td>\n",
       "      <td>78.963223</td>\n",
       "      <td>3.574000e+10</td>\n",
       "      <td>1353.763880</td>\n",
       "      <td>6.035</td>\n",
       "      <td>14.01654</td>\n",
       "      <td>Africa</td>\n",
       "    </tr>\n",
       "    <tr>\n",
       "      <th>60</th>\n",
       "      <td>Algeria</td>\n",
       "      <td>DZA</td>\n",
       "      <td>1992</td>\n",
       "      <td>0</td>\n",
       "      <td>18</td>\n",
       "      <td>436</td>\n",
       "      <td>287</td>\n",
       "      <td>3131</td>\n",
       "      <td>490</td>\n",
       "      <td>4321</td>\n",
       "      <td>...</td>\n",
       "      <td>4.66</td>\n",
       "      <td>5.830436</td>\n",
       "      <td>1088.976174</td>\n",
       "      <td>27028330</td>\n",
       "      <td>78.963223</td>\n",
       "      <td>3.850000e+10</td>\n",
       "      <td>1424.431328</td>\n",
       "      <td>5.887</td>\n",
       "      <td>14.01654</td>\n",
       "      <td>Africa</td>\n",
       "    </tr>\n",
       "  </tbody>\n",
       "</table>\n",
       "<p>3 rows × 36 columns</p>\n",
       "</div>"
      ],
      "text/plain": [
       "     entity code  year  deaths_malaria  deaths_hiv  deaths_meningitis  \\\n",
       "58  Algeria  DZA  1990               0          15                497   \n",
       "59  Algeria  DZA  1991               0          17                464   \n",
       "60  Algeria  DZA  1992               0          18                436   \n",
       "\n",
       "    deaths_nutritional_def  deaths_other_nd  deaths_cough  deaths_lorespi  \\\n",
       "58                     316             3326           628            5070   \n",
       "59                     302             3231           552            4662   \n",
       "60                     287             3131           490            4321   \n",
       "\n",
       "    ...  mortality_rate  population_povertyline  health_expenditure  \\\n",
       "58  ...            4.91                5.051997         1088.976174   \n",
       "59  ...            4.77                6.265288         1088.976174   \n",
       "60  ...            4.66                5.830436         1088.976174   \n",
       "\n",
       "    population_estimates  electricity_access      incomeUS  incomeUS_pc  \\\n",
       "58              25758872           78.963223  4.804000e+10  1864.988498   \n",
       "59              26400468           78.963223  3.574000e+10  1353.763880   \n",
       "60              27028330           78.963223  3.850000e+10  1424.431328   \n",
       "\n",
       "    death_rate(per1000)  education_exp  region  \n",
       "58                6.207       14.01654  Africa  \n",
       "59                6.035       14.01654  Africa  \n",
       "60                5.887       14.01654  Africa  \n",
       "\n",
       "[3 rows x 36 columns]"
      ]
     },
     "execution_count": 107,
     "metadata": {},
     "output_type": "execute_result"
    }
   ],
   "source": [
    "df_africa= df_africa.assign(region=\"Africa\")\n",
    "df_africa.head(3)"
   ]
  },
  {
   "cell_type": "code",
   "execution_count": 108,
   "id": "cb2dc000-2ba9-4041-ada2-9faae981d5d7",
   "metadata": {},
   "outputs": [],
   "source": [
    "df_africa.to_csv(\"paises_africa.csv\", index=False)"
   ]
  },
  {
   "cell_type": "code",
   "execution_count": 109,
   "id": "61351b6b-4b7e-47a8-89ed-f682818d89b3",
   "metadata": {},
   "outputs": [
    {
     "data": {
      "text/html": [
       "<div>\n",
       "<style scoped>\n",
       "    .dataframe tbody tr th:only-of-type {\n",
       "        vertical-align: middle;\n",
       "    }\n",
       "\n",
       "    .dataframe tbody tr th {\n",
       "        vertical-align: top;\n",
       "    }\n",
       "\n",
       "    .dataframe thead th {\n",
       "        text-align: right;\n",
       "    }\n",
       "</style>\n",
       "<table border=\"1\" class=\"dataframe\">\n",
       "  <thead>\n",
       "    <tr style=\"text-align: right;\">\n",
       "      <th></th>\n",
       "      <th>year</th>\n",
       "      <th>mortality_rate</th>\n",
       "      <th>population_povertyline</th>\n",
       "      <th>health_expenditure</th>\n",
       "      <th>incomeUS_pc</th>\n",
       "      <th>education_exp</th>\n",
       "    </tr>\n",
       "  </thead>\n",
       "  <tbody>\n",
       "    <tr>\n",
       "      <th>0</th>\n",
       "      <td>1990</td>\n",
       "      <td>15.000784</td>\n",
       "      <td>42.426639</td>\n",
       "      <td>1088.976174</td>\n",
       "      <td>630.925964</td>\n",
       "      <td>14.139222</td>\n",
       "    </tr>\n",
       "    <tr>\n",
       "      <th>1</th>\n",
       "      <td>1991</td>\n",
       "      <td>14.816471</td>\n",
       "      <td>42.858341</td>\n",
       "      <td>1088.976174</td>\n",
       "      <td>647.309448</td>\n",
       "      <td>14.164828</td>\n",
       "    </tr>\n",
       "  </tbody>\n",
       "</table>\n",
       "</div>"
      ],
      "text/plain": [
       "   year  mortality_rate  population_povertyline  health_expenditure  \\\n",
       "0  1990       15.000784               42.426639         1088.976174   \n",
       "1  1991       14.816471               42.858341         1088.976174   \n",
       "\n",
       "   incomeUS_pc  education_exp  \n",
       "0   630.925964      14.139222  \n",
       "1   647.309448      14.164828  "
      ]
     },
     "execution_count": 109,
     "metadata": {},
     "output_type": "execute_result"
    }
   ],
   "source": [
    "df_africa= df_africa.groupby('year',as_index = False)[['mortality_rate','population_povertyline', 'health_expenditure','incomeUS_pc', 'education_exp']].mean()\n",
    "df_africa.head(2)"
   ]
  },
  {
   "cell_type": "code",
   "execution_count": 110,
   "id": "422c13b5-a329-4edb-aa1d-819f5295e42f",
   "metadata": {
    "tags": []
   },
   "outputs": [],
   "source": [
    "df_africa['lag1'] = df_africa.mortality_rate.shift(1)"
   ]
  },
  {
   "cell_type": "code",
   "execution_count": 111,
   "id": "001c0570-00c1-42f3-ac83-dfd117f65842",
   "metadata": {},
   "outputs": [],
   "source": [
    "df_africa= df_africa.iloc[1:30] "
   ]
  },
  {
   "cell_type": "code",
   "execution_count": 112,
   "id": "4c627c90-006d-47a3-ab42-7a34820e1992",
   "metadata": {},
   "outputs": [
    {
     "data": {
      "text/plain": [
       "((22, 5), (6, 5))"
      ]
     },
     "execution_count": 112,
     "metadata": {},
     "output_type": "execute_result"
    }
   ],
   "source": [
    "X_train, X_test, y_train, y_test = train_test_split(df_africa.drop(['mortality_rate', 'year'], axis=1), \n",
    "                                                    df_africa['mortality_rate'], \n",
    "                                                    test_size=0.2, \n",
    "                                                    random_state=42\n",
    "                                                    )\n",
    "\n",
    "X_train.shape, X_test.shape"
   ]
  },
  {
   "cell_type": "code",
   "execution_count": 113,
   "id": "8b5e36b3-5101-435e-854b-70a730a5012d",
   "metadata": {},
   "outputs": [
    {
     "name": "stdout",
     "output_type": "stream",
     "text": [
      "<class 'pandas.core.frame.DataFrame'>\n",
      "Int64Index: 22 entries, 18 to 7\n",
      "Data columns (total 5 columns):\n",
      " #   Column                  Non-Null Count  Dtype  \n",
      "---  ------                  --------------  -----  \n",
      " 0   population_povertyline  22 non-null     float64\n",
      " 1   health_expenditure      22 non-null     float64\n",
      " 2   incomeUS_pc             22 non-null     float64\n",
      " 3   education_exp           22 non-null     float64\n",
      " 4   lag1                    22 non-null     float64\n",
      "dtypes: float64(5)\n",
      "memory usage: 1.0 KB\n"
     ]
    }
   ],
   "source": [
    "X_train.info()"
   ]
  },
  {
   "cell_type": "code",
   "execution_count": 114,
   "id": "2b076831-03ab-408d-a6a6-40e39bdce226",
   "metadata": {},
   "outputs": [],
   "source": [
    "ratelat_pipeline = Pipeline([('scaler', StandardScaler()),\n",
    "                        ('model', LinearRegression())], verbose = True)"
   ]
  },
  {
   "cell_type": "code",
   "execution_count": 115,
   "id": "e95f8ef6-dfd8-455a-a541-2918e57a2be6",
   "metadata": {},
   "outputs": [
    {
     "name": "stdout",
     "output_type": "stream",
     "text": [
      "[Pipeline] ............ (step 1 of 2) Processing scaler, total=   0.0s\n",
      "[Pipeline] ............. (step 2 of 2) Processing model, total=   0.0s\n"
     ]
    },
    {
     "data": {
      "text/html": [
       "<style>#sk-container-id-3 {color: black;background-color: white;}#sk-container-id-3 pre{padding: 0;}#sk-container-id-3 div.sk-toggleable {background-color: white;}#sk-container-id-3 label.sk-toggleable__label {cursor: pointer;display: block;width: 100%;margin-bottom: 0;padding: 0.3em;box-sizing: border-box;text-align: center;}#sk-container-id-3 label.sk-toggleable__label-arrow:before {content: \"▸\";float: left;margin-right: 0.25em;color: #696969;}#sk-container-id-3 label.sk-toggleable__label-arrow:hover:before {color: black;}#sk-container-id-3 div.sk-estimator:hover label.sk-toggleable__label-arrow:before {color: black;}#sk-container-id-3 div.sk-toggleable__content {max-height: 0;max-width: 0;overflow: hidden;text-align: left;background-color: #f0f8ff;}#sk-container-id-3 div.sk-toggleable__content pre {margin: 0.2em;color: black;border-radius: 0.25em;background-color: #f0f8ff;}#sk-container-id-3 input.sk-toggleable__control:checked~div.sk-toggleable__content {max-height: 200px;max-width: 100%;overflow: auto;}#sk-container-id-3 input.sk-toggleable__control:checked~label.sk-toggleable__label-arrow:before {content: \"▾\";}#sk-container-id-3 div.sk-estimator input.sk-toggleable__control:checked~label.sk-toggleable__label {background-color: #d4ebff;}#sk-container-id-3 div.sk-label input.sk-toggleable__control:checked~label.sk-toggleable__label {background-color: #d4ebff;}#sk-container-id-3 input.sk-hidden--visually {border: 0;clip: rect(1px 1px 1px 1px);clip: rect(1px, 1px, 1px, 1px);height: 1px;margin: -1px;overflow: hidden;padding: 0;position: absolute;width: 1px;}#sk-container-id-3 div.sk-estimator {font-family: monospace;background-color: #f0f8ff;border: 1px dotted black;border-radius: 0.25em;box-sizing: border-box;margin-bottom: 0.5em;}#sk-container-id-3 div.sk-estimator:hover {background-color: #d4ebff;}#sk-container-id-3 div.sk-parallel-item::after {content: \"\";width: 100%;border-bottom: 1px solid gray;flex-grow: 1;}#sk-container-id-3 div.sk-label:hover label.sk-toggleable__label {background-color: #d4ebff;}#sk-container-id-3 div.sk-serial::before {content: \"\";position: absolute;border-left: 1px solid gray;box-sizing: border-box;top: 0;bottom: 0;left: 50%;z-index: 0;}#sk-container-id-3 div.sk-serial {display: flex;flex-direction: column;align-items: center;background-color: white;padding-right: 0.2em;padding-left: 0.2em;position: relative;}#sk-container-id-3 div.sk-item {position: relative;z-index: 1;}#sk-container-id-3 div.sk-parallel {display: flex;align-items: stretch;justify-content: center;background-color: white;position: relative;}#sk-container-id-3 div.sk-item::before, #sk-container-id-3 div.sk-parallel-item::before {content: \"\";position: absolute;border-left: 1px solid gray;box-sizing: border-box;top: 0;bottom: 0;left: 50%;z-index: -1;}#sk-container-id-3 div.sk-parallel-item {display: flex;flex-direction: column;z-index: 1;position: relative;background-color: white;}#sk-container-id-3 div.sk-parallel-item:first-child::after {align-self: flex-end;width: 50%;}#sk-container-id-3 div.sk-parallel-item:last-child::after {align-self: flex-start;width: 50%;}#sk-container-id-3 div.sk-parallel-item:only-child::after {width: 0;}#sk-container-id-3 div.sk-dashed-wrapped {border: 1px dashed gray;margin: 0 0.4em 0.5em 0.4em;box-sizing: border-box;padding-bottom: 0.4em;background-color: white;}#sk-container-id-3 div.sk-label label {font-family: monospace;font-weight: bold;display: inline-block;line-height: 1.2em;}#sk-container-id-3 div.sk-label-container {text-align: center;}#sk-container-id-3 div.sk-container {/* jupyter's `normalize.less` sets `[hidden] { display: none; }` but bootstrap.min.css set `[hidden] { display: none !important; }` so we also need the `!important` here to be able to override the default hidden behavior on the sphinx rendered scikit-learn.org. See: https://github.com/scikit-learn/scikit-learn/issues/21755 */display: inline-block !important;position: relative;}#sk-container-id-3 div.sk-text-repr-fallback {display: none;}</style><div id=\"sk-container-id-3\" class=\"sk-top-container\"><div class=\"sk-text-repr-fallback\"><pre>Pipeline(steps=[(&#x27;scaler&#x27;, StandardScaler()), (&#x27;model&#x27;, LinearRegression())],\n",
       "         verbose=True)</pre><b>In a Jupyter environment, please rerun this cell to show the HTML representation or trust the notebook. <br />On GitHub, the HTML representation is unable to render, please try loading this page with nbviewer.org.</b></div><div class=\"sk-container\" hidden><div class=\"sk-item sk-dashed-wrapped\"><div class=\"sk-label-container\"><div class=\"sk-label sk-toggleable\"><input class=\"sk-toggleable__control sk-hidden--visually\" id=\"sk-estimator-id-7\" type=\"checkbox\" ><label for=\"sk-estimator-id-7\" class=\"sk-toggleable__label sk-toggleable__label-arrow\">Pipeline</label><div class=\"sk-toggleable__content\"><pre>Pipeline(steps=[(&#x27;scaler&#x27;, StandardScaler()), (&#x27;model&#x27;, LinearRegression())],\n",
       "         verbose=True)</pre></div></div></div><div class=\"sk-serial\"><div class=\"sk-item\"><div class=\"sk-estimator sk-toggleable\"><input class=\"sk-toggleable__control sk-hidden--visually\" id=\"sk-estimator-id-8\" type=\"checkbox\" ><label for=\"sk-estimator-id-8\" class=\"sk-toggleable__label sk-toggleable__label-arrow\">StandardScaler</label><div class=\"sk-toggleable__content\"><pre>StandardScaler()</pre></div></div></div><div class=\"sk-item\"><div class=\"sk-estimator sk-toggleable\"><input class=\"sk-toggleable__control sk-hidden--visually\" id=\"sk-estimator-id-9\" type=\"checkbox\" ><label for=\"sk-estimator-id-9\" class=\"sk-toggleable__label sk-toggleable__label-arrow\">LinearRegression</label><div class=\"sk-toggleable__content\"><pre>LinearRegression()</pre></div></div></div></div></div></div></div>"
      ],
      "text/plain": [
       "Pipeline(steps=[('scaler', StandardScaler()), ('model', LinearRegression())],\n",
       "         verbose=True)"
      ]
     },
     "execution_count": 115,
     "metadata": {},
     "output_type": "execute_result"
    }
   ],
   "source": [
    "ratelat_pipeline.fit(X_train, y_train)"
   ]
  },
  {
   "cell_type": "code",
   "execution_count": 116,
   "id": "ca31274e-8a83-46ba-a8ac-194010965e87",
   "metadata": {},
   "outputs": [],
   "source": [
    "X_train_pred = ratelat_pipeline.predict(X_train)"
   ]
  },
  {
   "cell_type": "code",
   "execution_count": 117,
   "id": "0786b4fb-0673-4910-bd88-2b2da4d9fc58",
   "metadata": {},
   "outputs": [
    {
     "data": {
      "text/plain": [
       "0.9992443588299741"
      ]
     },
     "execution_count": 117,
     "metadata": {},
     "output_type": "execute_result"
    }
   ],
   "source": [
    "ratelat_pipeline.score(X_train, y_train)"
   ]
  },
  {
   "cell_type": "code",
   "execution_count": 118,
   "id": "b3ebd8f8-e671-48f6-bc0e-b14e95334754",
   "metadata": {},
   "outputs": [
    {
     "data": {
      "text/plain": [
       "array([ 9.15603907,  7.40316686, 11.71193678, 10.83181756,  9.95824117,\n",
       "       14.56546269, 14.36591551, 13.90882775, 14.50277293,  9.52553491,\n",
       "        7.0684228 , 14.41870486,  6.47536151,  6.93303889,  8.85093363,\n",
       "        6.27649719,  8.06341338, 13.42875127, 12.07313952, 10.35464468,\n",
       "        8.38214983, 13.62169762])"
      ]
     },
     "execution_count": 118,
     "metadata": {},
     "output_type": "execute_result"
    }
   ],
   "source": [
    "X_train_pred"
   ]
  },
  {
   "cell_type": "code",
   "execution_count": 119,
   "id": "1213fe5e-ee58-4c80-aadc-8f6f29f6f280",
   "metadata": {},
   "outputs": [
    {
     "data": {
      "text/plain": [
       "0.9983677366891502"
      ]
     },
     "execution_count": 119,
     "metadata": {},
     "output_type": "execute_result"
    }
   ],
   "source": [
    "ratelat_pipeline.score(X_test, y_test)"
   ]
  },
  {
   "cell_type": "code",
   "execution_count": 120,
   "id": "b576fa68-62d1-4150-ab05-24e8ec5ccbc6",
   "metadata": {},
   "outputs": [
    {
     "data": {
      "text/plain": [
       "array([12.44072135,  6.78104183, 12.97579557,  7.66951901, 14.59466364,\n",
       "       11.2773533 ])"
      ]
     },
     "execution_count": 120,
     "metadata": {},
     "output_type": "execute_result"
    }
   ],
   "source": [
    "X_test_pred = ratelat_pipeline.predict(X_test)\n",
    "X_test_pred"
   ]
  },
  {
   "cell_type": "code",
   "execution_count": 121,
   "id": "4fa40840-9f02-4215-8f28-cbdab0c662c2",
   "metadata": {},
   "outputs": [
    {
     "data": {
      "text/plain": [
       "10    12.595686\n",
       "26     6.694314\n",
       "9     12.987059\n",
       "22     7.702745\n",
       "1     14.816471\n",
       "13    11.254510\n",
       "Name: mortality_rate, dtype: float64"
      ]
     },
     "execution_count": 121,
     "metadata": {},
     "output_type": "execute_result"
    }
   ],
   "source": [
    "y_test"
   ]
  },
  {
   "cell_type": "code",
   "execution_count": 122,
   "id": "ef514840-4ac4-493a-8e06-f4adc872b3ca",
   "metadata": {},
   "outputs": [],
   "source": [
    "train= pd.DataFrame({'reales':y_train, \"predict\": X_train_pred})\n",
    "test= pd.DataFrame({'reales':y_test, \"predict\": X_test_pred})"
   ]
  },
  {
   "cell_type": "code",
   "execution_count": 123,
   "id": "08606a37-a205-4e78-a032-766b1f51b3ed",
   "metadata": {
    "tags": []
   },
   "outputs": [
    {
     "data": {
      "text/html": [
       "<div>\n",
       "<style scoped>\n",
       "    .dataframe tbody tr th:only-of-type {\n",
       "        vertical-align: middle;\n",
       "    }\n",
       "\n",
       "    .dataframe tbody tr th {\n",
       "        vertical-align: top;\n",
       "    }\n",
       "\n",
       "    .dataframe thead th {\n",
       "        text-align: right;\n",
       "    }\n",
       "</style>\n",
       "<table border=\"1\" class=\"dataframe\">\n",
       "  <thead>\n",
       "    <tr style=\"text-align: right;\">\n",
       "      <th></th>\n",
       "      <th>reales</th>\n",
       "      <th>predict</th>\n",
       "    </tr>\n",
       "  </thead>\n",
       "  <tbody>\n",
       "    <tr>\n",
       "      <th>18</th>\n",
       "      <td>9.129216</td>\n",
       "      <td>9.156039</td>\n",
       "    </tr>\n",
       "    <tr>\n",
       "      <th>23</th>\n",
       "      <td>7.414706</td>\n",
       "      <td>7.403167</td>\n",
       "    </tr>\n",
       "    <tr>\n",
       "      <th>12</th>\n",
       "      <td>11.705882</td>\n",
       "      <td>11.711937</td>\n",
       "    </tr>\n",
       "    <tr>\n",
       "      <th>14</th>\n",
       "      <td>10.810980</td>\n",
       "      <td>10.831818</td>\n",
       "    </tr>\n",
       "    <tr>\n",
       "      <th>16</th>\n",
       "      <td>9.929412</td>\n",
       "      <td>9.958241</td>\n",
       "    </tr>\n",
       "  </tbody>\n",
       "</table>\n",
       "</div>"
      ],
      "text/plain": [
       "       reales    predict\n",
       "18   9.129216   9.156039\n",
       "23   7.414706   7.403167\n",
       "12  11.705882  11.711937\n",
       "14  10.810980  10.831818\n",
       "16   9.929412   9.958241"
      ]
     },
     "execution_count": 123,
     "metadata": {},
     "output_type": "execute_result"
    }
   ],
   "source": [
    "final_africa = pd.concat([train, test])\n",
    "final_africa.head(5)"
   ]
  },
  {
   "cell_type": "code",
   "execution_count": 124,
   "id": "008ef074-fe9d-4bbb-8604-e8b4dd619c4e",
   "metadata": {},
   "outputs": [],
   "source": [
    "final_africa[\"year\"]= df_africa.year"
   ]
  },
  {
   "cell_type": "code",
   "execution_count": 125,
   "id": "ca715b1e-206b-4cad-a354-ffcda9776f2a",
   "metadata": {},
   "outputs": [
    {
     "data": {
      "text/html": [
       "<div>\n",
       "<style scoped>\n",
       "    .dataframe tbody tr th:only-of-type {\n",
       "        vertical-align: middle;\n",
       "    }\n",
       "\n",
       "    .dataframe tbody tr th {\n",
       "        vertical-align: top;\n",
       "    }\n",
       "\n",
       "    .dataframe thead th {\n",
       "        text-align: right;\n",
       "    }\n",
       "</style>\n",
       "<table border=\"1\" class=\"dataframe\">\n",
       "  <thead>\n",
       "    <tr style=\"text-align: right;\">\n",
       "      <th></th>\n",
       "      <th>year</th>\n",
       "      <th>reales</th>\n",
       "      <th>predict</th>\n",
       "    </tr>\n",
       "  </thead>\n",
       "  <tbody>\n",
       "    <tr>\n",
       "      <th>1</th>\n",
       "      <td>1991</td>\n",
       "      <td>14.816471</td>\n",
       "      <td>14.594664</td>\n",
       "    </tr>\n",
       "    <tr>\n",
       "      <th>2</th>\n",
       "      <td>1992</td>\n",
       "      <td>14.649412</td>\n",
       "      <td>14.565463</td>\n",
       "    </tr>\n",
       "    <tr>\n",
       "      <th>3</th>\n",
       "      <td>1993</td>\n",
       "      <td>14.532745</td>\n",
       "      <td>14.502773</td>\n",
       "    </tr>\n",
       "  </tbody>\n",
       "</table>\n",
       "</div>"
      ],
      "text/plain": [
       "   year     reales    predict\n",
       "1  1991  14.816471  14.594664\n",
       "2  1992  14.649412  14.565463\n",
       "3  1993  14.532745  14.502773"
      ]
     },
     "execution_count": 125,
     "metadata": {},
     "output_type": "execute_result"
    }
   ],
   "source": [
    "final_africa = final_africa.reindex(columns=['year','reales','predict'])\n",
    "final_africa.sort_values(by='year').head(3)"
   ]
  },
  {
   "cell_type": "code",
   "execution_count": 126,
   "id": "3e05eb59-2575-4cb0-9701-9f8ace71a816",
   "metadata": {},
   "outputs": [
    {
     "data": {
      "text/plain": [
       "<matplotlib.collections.PathCollection at 0x1d498a3d310>"
      ]
     },
     "execution_count": 126,
     "metadata": {},
     "output_type": "execute_result"
    },
    {
     "data": {
      "image/png": "[encoded data removed]",
      "text/plain": [
       "<Figure size 432x288 with 1 Axes>"
      ]
     },
     "metadata": {
      "needs_background": "light"
     },
     "output_type": "display_data"
    }
   ],
   "source": [
    "x=final_africa.year\n",
    "plt.scatter(x, y= final_africa.reales, color = 'r')\n",
    "plt.scatter(x, y=final_africa.predict, color = 'yellow', marker = 'x')"
   ]
  },
  {
   "cell_type": "code",
   "execution_count": 127,
   "id": "ed017547-be01-4be9-8a88-a2bf2e3df9b4",
   "metadata": {},
   "outputs": [],
   "source": [
    "df_africa.to_csv(\"df_africa.csv\", index=False)"
   ]
  },
  {
   "cell_type": "code",
   "execution_count": 128,
   "id": "175f09a5-d1c9-4ce2-b192-df8db5c5e91a",
   "metadata": {},
   "outputs": [],
   "source": [
    "final_africa.to_csv(\"predict_africa.csv\", index=False)"
   ]
  },
  {
   "cell_type": "code",
   "execution_count": 129,
   "id": "f44a30ae-fe7a-40b6-ae17-ec0fa83b5fb1",
   "metadata": {},
   "outputs": [
    {
     "name": "stdout",
     "output_type": "stream",
     "text": [
      "['Afghanistan', 'Albania', 'Algeria', 'Andorra', 'Angola', 'Antigua and Barbuda', 'Argentina', 'Armenia', 'Australia', 'Austria', 'Azerbaijan', 'Bahamas', 'Bahrain', 'Bangladesh', 'Barbados', 'Belarus', 'Belgium', 'Belize', 'Benin', 'Bermuda', 'Bhutan', 'Bolivia', 'Bosnia and Herzegovina', 'Botswana', 'Brazil', 'Brunei', 'Bulgaria', 'Burkina Faso', 'Burundi', 'Cambodia', 'Cameroon', 'Canada', 'Central African Republic', 'Chad', 'Chile', 'China', 'Colombia', 'Comoros', 'Congo', 'Costa Rica', \"Cote d'Ivoire\", 'Croatia', 'Cuba', 'Cyprus', 'Czechia', 'Denmark', 'Djibouti', 'Dominica', 'Dominican Republic', 'Ecuador', 'Egypt', 'El Salvador', 'Equatorial Guinea', 'Eritrea', 'Estonia', 'Eswatini', 'Ethiopia', 'Fiji', 'Finland', 'France', 'Gabon', 'Gambia', 'Georgia', 'Germany', 'Ghana', 'Greece', 'Greenland', 'Grenada', 'Guam', 'Guatemala', 'Guinea', 'Guinea-Bissau', 'Guyana', 'Haiti', 'Honduras', 'Hungary', 'Iceland', 'India', 'Indonesia', 'Iran', 'Iraq', 'Ireland', 'Israel', 'Italy', 'Jamaica', 'Japan', 'Jordan', 'Kazakhstan', 'Kenya', 'Kiribati', 'Kuwait', 'Kyrgyzstan', 'Laos', 'Latvia', 'Lebanon', 'Lesotho', 'Liberia', 'Libya', 'Lithuania', 'Luxembourg', 'Madagascar', 'Malawi', 'Malaysia', 'Maldives', 'Mali', 'Malta', 'Marshall Islands', 'Mauritania', 'Mauritius', 'Mexico', 'Micronesia (country)', 'Moldova', 'Monaco', 'Mongolia', 'Montenegro', 'Morocco', 'Mozambique', 'Myanmar', 'Namibia', 'Nauru', 'Nepal', 'Netherlands', 'New Zealand', 'Nicaragua', 'Niger', 'Nigeria', 'North Macedonia', 'Northern Mariana Islands', 'Norway', 'Oman', 'Pakistan', 'Palau', 'Panama', 'Papua New Guinea', 'Paraguay', 'Peru', 'Philippines', 'Poland', 'Portugal', 'Puerto Rico', 'Qatar', 'Romania', 'Russia', 'Rwanda', 'Samoa', 'San Marino', 'Sao Tome and Principe', 'Saudi Arabia', 'Senegal', 'Serbia', 'Seychelles', 'Sierra Leone', 'Singapore', 'Slovakia', 'Slovenia', 'Solomon Islands', 'Somalia', 'South Korea', 'South Sudan', 'Spain', 'Sri Lanka', 'Sudan', 'Suriname', 'Sweden', 'Switzerland', 'Syria', 'Taiwan', 'Tajikistan', 'Tanzania', 'Thailand', 'Timor', 'Togo', 'Tonga', 'Trinidad and Tobago', 'Tunisia', 'Turkey', 'Turkmenistan', 'Tuvalu', 'Uganda', 'Ukraine', 'United Arab Emirates', 'United Kingdom', 'United States', 'Uruguay', 'Uzbekistan', 'Vanuatu', 'Venezuela', 'Vietnam', 'Yemen', 'Zambia', 'Zimbabwe']\n"
     ]
    }
   ],
   "source": [
    "print(sorted(paises))"
   ]
  },
  {
   "cell_type": "code",
   "execution_count": 130,
   "id": "793f1324-0d05-4a0a-b43c-f29ba404ae38",
   "metadata": {},
   "outputs": [],
   "source": [
    "Asia= ['United Arab Emirates','Vietnam','Tajikistan','Israel','Turkey','Iran','Bhutan','Laos','Thailand','Lebanon','Kyrgyzstan','Turkmenistan','Singapore','Myanmar','Maldives',\t\n",
    "'South Korea','Oman','State of Palestine','Brunei','Kuwait','Iraq','Georgia','Afghanistan',\t'Saudi Arabia',\t'Uzbekistan','Mongolia','Malaysia',\t'Yemen','Armenia','Nepal','Qatar',\t\n",
    "'Indonesia','North Korea','Pakistan','Sri Lanka','Kazakhstan','Syria','Bahrain','Cambodia','Bangladesh','China','Timor','Japan','Cyprus','Philippines','Jordan','Azerbaijan','India']"
   ]
  },
  {
   "cell_type": "code",
   "execution_count": 131,
   "id": "1e6a5c61-b8be-407b-97ae-872f632fb6e2",
   "metadata": {},
   "outputs": [
    {
     "name": "stdout",
     "output_type": "stream",
     "text": [
      "['Afghanistan', 'Armenia', 'Azerbaijan', 'Bahrain', 'Bangladesh', 'Bhutan', 'Brunei', 'Cambodia', 'China', 'Cyprus', 'Georgia', 'India', 'Indonesia', 'Iran', 'Iraq', 'Israel', 'Japan', 'Jordan', 'Kazakhstan', 'Kuwait', 'Kyrgyzstan', 'Laos', 'Lebanon', 'Malaysia', 'Maldives', 'Mongolia', 'Myanmar', 'Nepal', 'Oman', 'Pakistan', 'Philippines', 'Qatar', 'Saudi Arabia', 'Singapore', 'South Korea', 'Sri Lanka', 'Syria', 'Tajikistan', 'Thailand', 'Timor', 'Turkey', 'Turkmenistan', 'United Arab Emirates', 'Uzbekistan', 'Vietnam', 'Yemen']\n"
     ]
    }
   ],
   "source": [
    "asia_list = [x for x in Asia if x in paises]\n",
    "print(sorted(asia_list))"
   ]
  },
  {
   "cell_type": "code",
   "execution_count": 132,
   "id": "a61c7441-a207-4756-a627-63f5c51e97b3",
   "metadata": {},
   "outputs": [],
   "source": [
    "df_asia=df[df['entity'].isin(asia_list)]"
   ]
  },
  {
   "cell_type": "code",
   "execution_count": 133,
   "id": "dc8a8e1e-1721-45eb-a4f5-baf69576ad8f",
   "metadata": {},
   "outputs": [
    {
     "data": {
      "text/plain": [
       "<AxesSubplot:xlabel='year', ylabel='mortality_rate'>"
      ]
     },
     "execution_count": 133,
     "metadata": {},
     "output_type": "execute_result"
    },
    {
     "data": {
      "image/png": "[encoded data removed]",
      "text/plain": [
       "<Figure size 432x288 with 1 Axes>"
      ]
     },
     "metadata": {
      "needs_background": "light"
     },
     "output_type": "display_data"
    }
   ],
   "source": [
    "sns.scatterplot(x ='year', y= 'mortality_rate', data=df_asia)"
   ]
  },
  {
   "cell_type": "code",
   "execution_count": 134,
   "id": "797ae902-a88c-4d34-8157-648ef8a0a574",
   "metadata": {},
   "outputs": [
    {
     "data": {
      "text/html": [
       "<div>\n",
       "<style scoped>\n",
       "    .dataframe tbody tr th:only-of-type {\n",
       "        vertical-align: middle;\n",
       "    }\n",
       "\n",
       "    .dataframe tbody tr th {\n",
       "        vertical-align: top;\n",
       "    }\n",
       "\n",
       "    .dataframe thead th {\n",
       "        text-align: right;\n",
       "    }\n",
       "</style>\n",
       "<table border=\"1\" class=\"dataframe\">\n",
       "  <thead>\n",
       "    <tr style=\"text-align: right;\">\n",
       "      <th></th>\n",
       "      <th>entity</th>\n",
       "      <th>mortality_rate</th>\n",
       "    </tr>\n",
       "  </thead>\n",
       "  <tbody>\n",
       "    <tr>\n",
       "      <th>4436</th>\n",
       "      <td>Singapore</td>\n",
       "      <td>0.250000</td>\n",
       "    </tr>\n",
       "    <tr>\n",
       "      <th>4435</th>\n",
       "      <td>Singapore</td>\n",
       "      <td>0.260000</td>\n",
       "    </tr>\n",
       "    <tr>\n",
       "      <th>2492</th>\n",
       "      <td>Japan</td>\n",
       "      <td>0.260000</td>\n",
       "    </tr>\n",
       "    <tr>\n",
       "      <th>2493</th>\n",
       "      <td>Japan</td>\n",
       "      <td>0.260000</td>\n",
       "    </tr>\n",
       "    <tr>\n",
       "      <th>2490</th>\n",
       "      <td>Japan</td>\n",
       "      <td>0.270000</td>\n",
       "    </tr>\n",
       "    <tr>\n",
       "      <th>...</th>\n",
       "      <td>...</td>\n",
       "      <td>...</td>\n",
       "    </tr>\n",
       "    <tr>\n",
       "      <th>2</th>\n",
       "      <td>Afghanistan</td>\n",
       "      <td>16.630000</td>\n",
       "    </tr>\n",
       "    <tr>\n",
       "      <th>4931</th>\n",
       "      <td>Timor</td>\n",
       "      <td>16.730000</td>\n",
       "    </tr>\n",
       "    <tr>\n",
       "      <th>1</th>\n",
       "      <td>Afghanistan</td>\n",
       "      <td>17.220000</td>\n",
       "    </tr>\n",
       "    <tr>\n",
       "      <th>4930</th>\n",
       "      <td>Timor</td>\n",
       "      <td>17.520000</td>\n",
       "    </tr>\n",
       "    <tr>\n",
       "      <th>0</th>\n",
       "      <td>Afghanistan</td>\n",
       "      <td>17.839999</td>\n",
       "    </tr>\n",
       "  </tbody>\n",
       "</table>\n",
       "<p>1334 rows × 2 columns</p>\n",
       "</div>"
      ],
      "text/plain": [
       "           entity  mortality_rate\n",
       "4436    Singapore        0.250000\n",
       "4435    Singapore        0.260000\n",
       "2492        Japan        0.260000\n",
       "2493        Japan        0.260000\n",
       "2490        Japan        0.270000\n",
       "...           ...             ...\n",
       "2     Afghanistan       16.630000\n",
       "4931        Timor       16.730000\n",
       "1     Afghanistan       17.220000\n",
       "4930        Timor       17.520000\n",
       "0     Afghanistan       17.839999\n",
       "\n",
       "[1334 rows x 2 columns]"
      ]
     },
     "execution_count": 134,
     "metadata": {},
     "output_type": "execute_result"
    }
   ],
   "source": [
    "df_asia[['entity', 'mortality_rate']].sort_values(by= 'mortality_rate')"
   ]
  },
  {
   "cell_type": "code",
   "execution_count": 135,
   "id": "12add9a3-e674-4f83-b43d-b8e2a2f71921",
   "metadata": {},
   "outputs": [],
   "source": [
    "indice_asia= df_asia.groupby('entity',as_index = False)['mortality_rate'].mean()\n",
    "indice_asia= indice_asia.sort_values(by= 'mortality_rate').reset_index(drop=True)"
   ]
  },
  {
   "cell_type": "code",
   "execution_count": 136,
   "id": "516cdfdd-d36d-4ccc-a4d8-c1658418c05c",
   "metadata": {},
   "outputs": [],
   "source": [
    "indice_asia.to_csv(\"paises_asia.csv\", index=False)"
   ]
  },
  {
   "cell_type": "code",
   "execution_count": 137,
   "id": "9c908742-d068-468f-99d9-3b4367a2b924",
   "metadata": {},
   "outputs": [
    {
     "data": {
      "text/html": [
       "<div>\n",
       "<style scoped>\n",
       "    .dataframe tbody tr th:only-of-type {\n",
       "        vertical-align: middle;\n",
       "    }\n",
       "\n",
       "    .dataframe tbody tr th {\n",
       "        vertical-align: top;\n",
       "    }\n",
       "\n",
       "    .dataframe thead th {\n",
       "        text-align: right;\n",
       "    }\n",
       "</style>\n",
       "<table border=\"1\" class=\"dataframe\">\n",
       "  <thead>\n",
       "    <tr style=\"text-align: right;\">\n",
       "      <th></th>\n",
       "      <th>entity</th>\n",
       "      <th>code</th>\n",
       "      <th>year</th>\n",
       "      <th>deaths_malaria</th>\n",
       "      <th>deaths_hiv</th>\n",
       "      <th>deaths_meningitis</th>\n",
       "      <th>deaths_nutritional_def</th>\n",
       "      <th>deaths_other_nd</th>\n",
       "      <th>deaths_cough</th>\n",
       "      <th>deaths_lorespi</th>\n",
       "      <th>...</th>\n",
       "      <th>mortality_rate</th>\n",
       "      <th>population_povertyline</th>\n",
       "      <th>health_expenditure</th>\n",
       "      <th>population_estimates</th>\n",
       "      <th>electricity_access</th>\n",
       "      <th>incomeUS</th>\n",
       "      <th>incomeUS_pc</th>\n",
       "      <th>death_rate(per1000)</th>\n",
       "      <th>education_exp</th>\n",
       "      <th>region</th>\n",
       "    </tr>\n",
       "  </thead>\n",
       "  <tbody>\n",
       "    <tr>\n",
       "      <th>0</th>\n",
       "      <td>Afghanistan</td>\n",
       "      <td>AFG</td>\n",
       "      <td>1990</td>\n",
       "      <td>21</td>\n",
       "      <td>10</td>\n",
       "      <td>1709</td>\n",
       "      <td>1779</td>\n",
       "      <td>7112</td>\n",
       "      <td>2455</td>\n",
       "      <td>20224</td>\n",
       "      <td>...</td>\n",
       "      <td>17.839999</td>\n",
       "      <td>0.0</td>\n",
       "      <td>1088.976174</td>\n",
       "      <td>12412311</td>\n",
       "      <td>78.963223</td>\n",
       "      <td>0.0</td>\n",
       "      <td>0.0</td>\n",
       "      <td>15.241</td>\n",
       "      <td>14.01654</td>\n",
       "      <td>Asia</td>\n",
       "    </tr>\n",
       "    <tr>\n",
       "      <th>1</th>\n",
       "      <td>Afghanistan</td>\n",
       "      <td>AFG</td>\n",
       "      <td>1991</td>\n",
       "      <td>41</td>\n",
       "      <td>12</td>\n",
       "      <td>1743</td>\n",
       "      <td>1822</td>\n",
       "      <td>7574</td>\n",
       "      <td>2385</td>\n",
       "      <td>20879</td>\n",
       "      <td>...</td>\n",
       "      <td>17.220000</td>\n",
       "      <td>0.0</td>\n",
       "      <td>1088.976174</td>\n",
       "      <td>13299016</td>\n",
       "      <td>78.963223</td>\n",
       "      <td>0.0</td>\n",
       "      <td>0.0</td>\n",
       "      <td>14.783</td>\n",
       "      <td>14.01654</td>\n",
       "      <td>Asia</td>\n",
       "    </tr>\n",
       "    <tr>\n",
       "      <th>2</th>\n",
       "      <td>Afghanistan</td>\n",
       "      <td>AFG</td>\n",
       "      <td>1992</td>\n",
       "      <td>51</td>\n",
       "      <td>13</td>\n",
       "      <td>1954</td>\n",
       "      <td>2069</td>\n",
       "      <td>8614</td>\n",
       "      <td>2370</td>\n",
       "      <td>23585</td>\n",
       "      <td>...</td>\n",
       "      <td>16.630000</td>\n",
       "      <td>0.0</td>\n",
       "      <td>1088.976174</td>\n",
       "      <td>14485543</td>\n",
       "      <td>78.963223</td>\n",
       "      <td>0.0</td>\n",
       "      <td>0.0</td>\n",
       "      <td>14.362</td>\n",
       "      <td>14.01654</td>\n",
       "      <td>Asia</td>\n",
       "    </tr>\n",
       "  </tbody>\n",
       "</table>\n",
       "<p>3 rows × 36 columns</p>\n",
       "</div>"
      ],
      "text/plain": [
       "        entity code  year  deaths_malaria  deaths_hiv  deaths_meningitis  \\\n",
       "0  Afghanistan  AFG  1990              21          10               1709   \n",
       "1  Afghanistan  AFG  1991              41          12               1743   \n",
       "2  Afghanistan  AFG  1992              51          13               1954   \n",
       "\n",
       "   deaths_nutritional_def  deaths_other_nd  deaths_cough  deaths_lorespi  ...  \\\n",
       "0                    1779             7112          2455           20224  ...   \n",
       "1                    1822             7574          2385           20879  ...   \n",
       "2                    2069             8614          2370           23585  ...   \n",
       "\n",
       "   mortality_rate  population_povertyline  health_expenditure  \\\n",
       "0       17.839999                     0.0         1088.976174   \n",
       "1       17.220000                     0.0         1088.976174   \n",
       "2       16.630000                     0.0         1088.976174   \n",
       "\n",
       "   population_estimates  electricity_access  incomeUS  incomeUS_pc  \\\n",
       "0              12412311           78.963223       0.0          0.0   \n",
       "1              13299016           78.963223       0.0          0.0   \n",
       "2              14485543           78.963223       0.0          0.0   \n",
       "\n",
       "   death_rate(per1000)  education_exp  region  \n",
       "0               15.241       14.01654    Asia  \n",
       "1               14.783       14.01654    Asia  \n",
       "2               14.362       14.01654    Asia  \n",
       "\n",
       "[3 rows x 36 columns]"
      ]
     },
     "execution_count": 137,
     "metadata": {},
     "output_type": "execute_result"
    }
   ],
   "source": [
    "df_asia= df_asia.assign(region=\"Asia\")\n",
    "df_asia.head(3)"
   ]
  },
  {
   "cell_type": "code",
   "execution_count": 138,
   "id": "bceb1234-de70-4ecd-9b64-f938713f258b",
   "metadata": {},
   "outputs": [
    {
     "data": {
      "text/html": [
       "<div>\n",
       "<style scoped>\n",
       "    .dataframe tbody tr th:only-of-type {\n",
       "        vertical-align: middle;\n",
       "    }\n",
       "\n",
       "    .dataframe tbody tr th {\n",
       "        vertical-align: top;\n",
       "    }\n",
       "\n",
       "    .dataframe thead th {\n",
       "        text-align: right;\n",
       "    }\n",
       "</style>\n",
       "<table border=\"1\" class=\"dataframe\">\n",
       "  <thead>\n",
       "    <tr style=\"text-align: right;\">\n",
       "      <th></th>\n",
       "      <th>year</th>\n",
       "      <th>mortality_rate</th>\n",
       "      <th>population_povertyline</th>\n",
       "      <th>health_expenditure</th>\n",
       "      <th>incomeUS_pc</th>\n",
       "      <th>education_exp</th>\n",
       "    </tr>\n",
       "  </thead>\n",
       "  <tbody>\n",
       "    <tr>\n",
       "      <th>0</th>\n",
       "      <td>1990</td>\n",
       "      <td>6.821522</td>\n",
       "      <td>16.398817</td>\n",
       "      <td>1088.976174</td>\n",
       "      <td>2429.882292</td>\n",
       "      <td>13.839762</td>\n",
       "    </tr>\n",
       "    <tr>\n",
       "      <th>1</th>\n",
       "      <td>1991</td>\n",
       "      <td>6.604348</td>\n",
       "      <td>17.639548</td>\n",
       "      <td>1088.976174</td>\n",
       "      <td>2386.505993</td>\n",
       "      <td>13.713424</td>\n",
       "    </tr>\n",
       "  </tbody>\n",
       "</table>\n",
       "</div>"
      ],
      "text/plain": [
       "   year  mortality_rate  population_povertyline  health_expenditure  \\\n",
       "0  1990        6.821522               16.398817         1088.976174   \n",
       "1  1991        6.604348               17.639548         1088.976174   \n",
       "\n",
       "   incomeUS_pc  education_exp  \n",
       "0  2429.882292      13.839762  \n",
       "1  2386.505993      13.713424  "
      ]
     },
     "execution_count": 138,
     "metadata": {},
     "output_type": "execute_result"
    }
   ],
   "source": [
    "df_asia= df_asia.groupby('year',as_index = False)[['mortality_rate','population_povertyline', 'health_expenditure','incomeUS_pc', 'education_exp']].mean()\n",
    "df_asia.head(2)"
   ]
  },
  {
   "cell_type": "code",
   "execution_count": 139,
   "id": "a00240a8-724d-4f1b-a36e-123fb13dd314",
   "metadata": {
    "tags": []
   },
   "outputs": [],
   "source": [
    "df_asia['lag1'] = df_asia.mortality_rate.shift(1)"
   ]
  },
  {
   "cell_type": "code",
   "execution_count": 140,
   "id": "1928f082-828a-4be1-9d0f-6791dbfdeb11",
   "metadata": {},
   "outputs": [],
   "source": [
    "df_asia= df_asia.iloc[1:30] "
   ]
  },
  {
   "cell_type": "code",
   "execution_count": 141,
   "id": "293a4a93-c5a9-4ebb-af03-8b391b8dbce3",
   "metadata": {},
   "outputs": [
    {
     "data": {
      "text/plain": [
       "((22, 5), (6, 5))"
      ]
     },
     "execution_count": 141,
     "metadata": {},
     "output_type": "execute_result"
    }
   ],
   "source": [
    "X_train, X_test, y_train, y_test = train_test_split(df_asia.drop(['mortality_rate', 'year'], axis=1), \n",
    "                                                    df_asia['mortality_rate'], \n",
    "                                                    test_size=0.2, \n",
    "                                                    random_state=42\n",
    "                                                    )\n",
    "\n",
    "X_train.shape, X_test.shape"
   ]
  },
  {
   "cell_type": "code",
   "execution_count": 142,
   "id": "607ae57f-142f-4a02-902c-d4153ee20a72",
   "metadata": {},
   "outputs": [
    {
     "name": "stdout",
     "output_type": "stream",
     "text": [
      "<class 'pandas.core.frame.DataFrame'>\n",
      "Int64Index: 22 entries, 18 to 7\n",
      "Data columns (total 5 columns):\n",
      " #   Column                  Non-Null Count  Dtype  \n",
      "---  ------                  --------------  -----  \n",
      " 0   population_povertyline  22 non-null     float64\n",
      " 1   health_expenditure      22 non-null     float64\n",
      " 2   incomeUS_pc             22 non-null     float64\n",
      " 3   education_exp           22 non-null     float64\n",
      " 4   lag1                    22 non-null     float64\n",
      "dtypes: float64(5)\n",
      "memory usage: 1.0 KB\n"
     ]
    }
   ],
   "source": [
    "X_train.info()"
   ]
  },
  {
   "cell_type": "code",
   "execution_count": 143,
   "id": "d2403a6d-b9e4-4109-8f12-c181915a345e",
   "metadata": {},
   "outputs": [],
   "source": [
    "ratelat_pipeline = Pipeline([('scaler', StandardScaler()),\n",
    "                        ('model', LinearRegression())], verbose = True)"
   ]
  },
  {
   "cell_type": "code",
   "execution_count": 144,
   "id": "efe92f98-c248-403e-b188-39c215e5909d",
   "metadata": {},
   "outputs": [
    {
     "name": "stdout",
     "output_type": "stream",
     "text": [
      "[Pipeline] ............ (step 1 of 2) Processing scaler, total=   0.0s\n",
      "[Pipeline] ............. (step 2 of 2) Processing model, total=   0.0s\n"
     ]
    },
    {
     "data": {
      "text/html": [
       "<style>#sk-container-id-4 {color: black;background-color: white;}#sk-container-id-4 pre{padding: 0;}#sk-container-id-4 div.sk-toggleable {background-color: white;}#sk-container-id-4 label.sk-toggleable__label {cursor: pointer;display: block;width: 100%;margin-bottom: 0;padding: 0.3em;box-sizing: border-box;text-align: center;}#sk-container-id-4 label.sk-toggleable__label-arrow:before {content: \"▸\";float: left;margin-right: 0.25em;color: #696969;}#sk-container-id-4 label.sk-toggleable__label-arrow:hover:before {color: black;}#sk-container-id-4 div.sk-estimator:hover label.sk-toggleable__label-arrow:before {color: black;}#sk-container-id-4 div.sk-toggleable__content {max-height: 0;max-width: 0;overflow: hidden;text-align: left;background-color: #f0f8ff;}#sk-container-id-4 div.sk-toggleable__content pre {margin: 0.2em;color: black;border-radius: 0.25em;background-color: #f0f8ff;}#sk-container-id-4 input.sk-toggleable__control:checked~div.sk-toggleable__content {max-height: 200px;max-width: 100%;overflow: auto;}#sk-container-id-4 input.sk-toggleable__control:checked~label.sk-toggleable__label-arrow:before {content: \"▾\";}#sk-container-id-4 div.sk-estimator input.sk-toggleable__control:checked~label.sk-toggleable__label {background-color: #d4ebff;}#sk-container-id-4 div.sk-label input.sk-toggleable__control:checked~label.sk-toggleable__label {background-color: #d4ebff;}#sk-container-id-4 input.sk-hidden--visually {border: 0;clip: rect(1px 1px 1px 1px);clip: rect(1px, 1px, 1px, 1px);height: 1px;margin: -1px;overflow: hidden;padding: 0;position: absolute;width: 1px;}#sk-container-id-4 div.sk-estimator {font-family: monospace;background-color: #f0f8ff;border: 1px dotted black;border-radius: 0.25em;box-sizing: border-box;margin-bottom: 0.5em;}#sk-container-id-4 div.sk-estimator:hover {background-color: #d4ebff;}#sk-container-id-4 div.sk-parallel-item::after {content: \"\";width: 100%;border-bottom: 1px solid gray;flex-grow: 1;}#sk-container-id-4 div.sk-label:hover label.sk-toggleable__label {background-color: #d4ebff;}#sk-container-id-4 div.sk-serial::before {content: \"\";position: absolute;border-left: 1px solid gray;box-sizing: border-box;top: 0;bottom: 0;left: 50%;z-index: 0;}#sk-container-id-4 div.sk-serial {display: flex;flex-direction: column;align-items: center;background-color: white;padding-right: 0.2em;padding-left: 0.2em;position: relative;}#sk-container-id-4 div.sk-item {position: relative;z-index: 1;}#sk-container-id-4 div.sk-parallel {display: flex;align-items: stretch;justify-content: center;background-color: white;position: relative;}#sk-container-id-4 div.sk-item::before, #sk-container-id-4 div.sk-parallel-item::before {content: \"\";position: absolute;border-left: 1px solid gray;box-sizing: border-box;top: 0;bottom: 0;left: 50%;z-index: -1;}#sk-container-id-4 div.sk-parallel-item {display: flex;flex-direction: column;z-index: 1;position: relative;background-color: white;}#sk-container-id-4 div.sk-parallel-item:first-child::after {align-self: flex-end;width: 50%;}#sk-container-id-4 div.sk-parallel-item:last-child::after {align-self: flex-start;width: 50%;}#sk-container-id-4 div.sk-parallel-item:only-child::after {width: 0;}#sk-container-id-4 div.sk-dashed-wrapped {border: 1px dashed gray;margin: 0 0.4em 0.5em 0.4em;box-sizing: border-box;padding-bottom: 0.4em;background-color: white;}#sk-container-id-4 div.sk-label label {font-family: monospace;font-weight: bold;display: inline-block;line-height: 1.2em;}#sk-container-id-4 div.sk-label-container {text-align: center;}#sk-container-id-4 div.sk-container {/* jupyter's `normalize.less` sets `[hidden] { display: none; }` but bootstrap.min.css set `[hidden] { display: none !important; }` so we also need the `!important` here to be able to override the default hidden behavior on the sphinx rendered scikit-learn.org. See: https://github.com/scikit-learn/scikit-learn/issues/21755 */display: inline-block !important;position: relative;}#sk-container-id-4 div.sk-text-repr-fallback {display: none;}</style><div id=\"sk-container-id-4\" class=\"sk-top-container\"><div class=\"sk-text-repr-fallback\"><pre>Pipeline(steps=[(&#x27;scaler&#x27;, StandardScaler()), (&#x27;model&#x27;, LinearRegression())],\n",
       "         verbose=True)</pre><b>In a Jupyter environment, please rerun this cell to show the HTML representation or trust the notebook. <br />On GitHub, the HTML representation is unable to render, please try loading this page with nbviewer.org.</b></div><div class=\"sk-container\" hidden><div class=\"sk-item sk-dashed-wrapped\"><div class=\"sk-label-container\"><div class=\"sk-label sk-toggleable\"><input class=\"sk-toggleable__control sk-hidden--visually\" id=\"sk-estimator-id-10\" type=\"checkbox\" ><label for=\"sk-estimator-id-10\" class=\"sk-toggleable__label sk-toggleable__label-arrow\">Pipeline</label><div class=\"sk-toggleable__content\"><pre>Pipeline(steps=[(&#x27;scaler&#x27;, StandardScaler()), (&#x27;model&#x27;, LinearRegression())],\n",
       "         verbose=True)</pre></div></div></div><div class=\"sk-serial\"><div class=\"sk-item\"><div class=\"sk-estimator sk-toggleable\"><input class=\"sk-toggleable__control sk-hidden--visually\" id=\"sk-estimator-id-11\" type=\"checkbox\" ><label for=\"sk-estimator-id-11\" class=\"sk-toggleable__label sk-toggleable__label-arrow\">StandardScaler</label><div class=\"sk-toggleable__content\"><pre>StandardScaler()</pre></div></div></div><div class=\"sk-item\"><div class=\"sk-estimator sk-toggleable\"><input class=\"sk-toggleable__control sk-hidden--visually\" id=\"sk-estimator-id-12\" type=\"checkbox\" ><label for=\"sk-estimator-id-12\" class=\"sk-toggleable__label sk-toggleable__label-arrow\">LinearRegression</label><div class=\"sk-toggleable__content\"><pre>LinearRegression()</pre></div></div></div></div></div></div></div>"
      ],
      "text/plain": [
       "Pipeline(steps=[('scaler', StandardScaler()), ('model', LinearRegression())],\n",
       "         verbose=True)"
      ]
     },
     "execution_count": 144,
     "metadata": {},
     "output_type": "execute_result"
    }
   ],
   "source": [
    "ratelat_pipeline.fit(X_train, y_train)"
   ]
  },
  {
   "cell_type": "code",
   "execution_count": 145,
   "id": "2c6e2544-0016-45d9-bb0a-807082bcecf1",
   "metadata": {},
   "outputs": [],
   "source": [
    "X_train_pred = ratelat_pipeline.predict(X_train)"
   ]
  },
  {
   "cell_type": "code",
   "execution_count": 146,
   "id": "fe593cc2-50ca-4972-9ed0-2694134e5fbc",
   "metadata": {},
   "outputs": [
    {
     "data": {
      "text/plain": [
       "0.9997495984875943"
      ]
     },
     "execution_count": 146,
     "metadata": {},
     "output_type": "execute_result"
    }
   ],
   "source": [
    "ratelat_pipeline.score(X_train, y_train)"
   ]
  },
  {
   "cell_type": "code",
   "execution_count": 147,
   "id": "aebca1b8-6a02-44b3-a37b-bdd67154bb5f",
   "metadata": {},
   "outputs": [
    {
     "data": {
      "text/plain": [
       "array([3.09591008, 2.5213129 , 4.19589735, 3.77402981, 3.39176198,\n",
       "       6.40867789, 5.81818462, 5.61247635, 6.19079507, 3.22732513,\n",
       "       2.42380395, 5.97281531, 2.18058178, 2.34296479, 2.9933203 ,\n",
       "       2.06480199, 2.69082458, 5.14584029, 4.42624168, 3.6184644 ,\n",
       "       2.80231024, 5.37905079])"
      ]
     },
     "execution_count": 147,
     "metadata": {},
     "output_type": "execute_result"
    }
   ],
   "source": [
    "X_train_pred"
   ]
  },
  {
   "cell_type": "code",
   "execution_count": 148,
   "id": "5353bf87-f137-4fc0-8623-d6aaf666d32b",
   "metadata": {},
   "outputs": [
    {
     "data": {
      "text/plain": [
       "0.9997198651694879"
      ]
     },
     "execution_count": 148,
     "metadata": {},
     "output_type": "execute_result"
    }
   ],
   "source": [
    "ratelat_pipeline.score(X_test, y_test)"
   ]
  },
  {
   "cell_type": "code",
   "execution_count": 149,
   "id": "1670f4ce-6371-42f6-9b74-803837b411db",
   "metadata": {},
   "outputs": [
    {
     "data": {
      "text/plain": [
       "array([4.64853076, 2.2725597 , 4.93771206, 2.56847972, 6.62287919,\n",
       "       3.97831844])"
      ]
     },
     "execution_count": 149,
     "metadata": {},
     "output_type": "execute_result"
    }
   ],
   "source": [
    "X_test_pred = ratelat_pipeline.predict(X_test)\n",
    "X_test_pred"
   ]
  },
  {
   "cell_type": "code",
   "execution_count": 150,
   "id": "e8df8280-b8ec-4898-9ef4-eab7feafad51",
   "metadata": {},
   "outputs": [
    {
     "data": {
      "text/plain": [
       "10    4.667826\n",
       "26    2.262609\n",
       "9     4.907609\n",
       "22    2.611304\n",
       "1     6.604348\n",
       "13    3.972174\n",
       "Name: mortality_rate, dtype: float64"
      ]
     },
     "execution_count": 150,
     "metadata": {},
     "output_type": "execute_result"
    }
   ],
   "source": [
    "y_test"
   ]
  },
  {
   "cell_type": "code",
   "execution_count": 151,
   "id": "22b2a6e1-5e8b-433b-8b9d-e1151c266b58",
   "metadata": {},
   "outputs": [],
   "source": [
    "train= pd.DataFrame({'reales':y_train, \"predict\": X_train_pred})\n",
    "test= pd.DataFrame({'reales':y_test, \"predict\": X_test_pred})"
   ]
  },
  {
   "cell_type": "code",
   "execution_count": 152,
   "id": "411ac29e-1cf7-429f-85c0-7ab72219a032",
   "metadata": {
    "tags": []
   },
   "outputs": [
    {
     "data": {
      "text/html": [
       "<div>\n",
       "<style scoped>\n",
       "    .dataframe tbody tr th:only-of-type {\n",
       "        vertical-align: middle;\n",
       "    }\n",
       "\n",
       "    .dataframe tbody tr th {\n",
       "        vertical-align: top;\n",
       "    }\n",
       "\n",
       "    .dataframe thead th {\n",
       "        text-align: right;\n",
       "    }\n",
       "</style>\n",
       "<table border=\"1\" class=\"dataframe\">\n",
       "  <thead>\n",
       "    <tr style=\"text-align: right;\">\n",
       "      <th></th>\n",
       "      <th>reales</th>\n",
       "      <th>predict</th>\n",
       "    </tr>\n",
       "  </thead>\n",
       "  <tbody>\n",
       "    <tr>\n",
       "      <th>18</th>\n",
       "      <td>3.136304</td>\n",
       "      <td>3.095910</td>\n",
       "    </tr>\n",
       "    <tr>\n",
       "      <th>23</th>\n",
       "      <td>2.528043</td>\n",
       "      <td>2.521313</td>\n",
       "    </tr>\n",
       "    <tr>\n",
       "      <th>12</th>\n",
       "      <td>4.192826</td>\n",
       "      <td>4.195897</td>\n",
       "    </tr>\n",
       "    <tr>\n",
       "      <th>14</th>\n",
       "      <td>3.815217</td>\n",
       "      <td>3.774030</td>\n",
       "    </tr>\n",
       "    <tr>\n",
       "      <th>16</th>\n",
       "      <td>3.393696</td>\n",
       "      <td>3.391762</td>\n",
       "    </tr>\n",
       "  </tbody>\n",
       "</table>\n",
       "</div>"
      ],
      "text/plain": [
       "      reales   predict\n",
       "18  3.136304  3.095910\n",
       "23  2.528043  2.521313\n",
       "12  4.192826  4.195897\n",
       "14  3.815217  3.774030\n",
       "16  3.393696  3.391762"
      ]
     },
     "execution_count": 152,
     "metadata": {},
     "output_type": "execute_result"
    }
   ],
   "source": [
    "final_asia = pd.concat([train, test])\n",
    "final_asia.head(5)"
   ]
  },
  {
   "cell_type": "code",
   "execution_count": 153,
   "id": "9b2dd0f4-d888-4456-9cb8-a7d7c49f248f",
   "metadata": {},
   "outputs": [],
   "source": [
    "final_asia[\"year\"]= df_asia.year"
   ]
  },
  {
   "cell_type": "code",
   "execution_count": 220,
   "id": "0d7d7cee-da97-4a74-9e1f-de64d66ad7c6",
   "metadata": {},
   "outputs": [
    {
     "data": {
      "text/html": [
       "<div>\n",
       "<style scoped>\n",
       "    .dataframe tbody tr th:only-of-type {\n",
       "        vertical-align: middle;\n",
       "    }\n",
       "\n",
       "    .dataframe tbody tr th {\n",
       "        vertical-align: top;\n",
       "    }\n",
       "\n",
       "    .dataframe thead th {\n",
       "        text-align: right;\n",
       "    }\n",
       "</style>\n",
       "<table border=\"1\" class=\"dataframe\">\n",
       "  <thead>\n",
       "    <tr style=\"text-align: right;\">\n",
       "      <th></th>\n",
       "      <th>year</th>\n",
       "      <th>reales</th>\n",
       "      <th>predict</th>\n",
       "    </tr>\n",
       "  </thead>\n",
       "  <tbody>\n",
       "    <tr>\n",
       "      <th>1</th>\n",
       "      <td>1991</td>\n",
       "      <td>6.604348</td>\n",
       "      <td>6.622879</td>\n",
       "    </tr>\n",
       "    <tr>\n",
       "      <th>2</th>\n",
       "      <td>1992</td>\n",
       "      <td>6.402609</td>\n",
       "      <td>6.408678</td>\n",
       "    </tr>\n",
       "    <tr>\n",
       "      <th>3</th>\n",
       "      <td>1993</td>\n",
       "      <td>6.206304</td>\n",
       "      <td>6.190795</td>\n",
       "    </tr>\n",
       "  </tbody>\n",
       "</table>\n",
       "</div>"
      ],
      "text/plain": [
       "   year    reales   predict\n",
       "1  1991  6.604348  6.622879\n",
       "2  1992  6.402609  6.408678\n",
       "3  1993  6.206304  6.190795"
      ]
     },
     "execution_count": 220,
     "metadata": {},
     "output_type": "execute_result"
    }
   ],
   "source": [
    "final_asia = final_asia.reindex(columns=['year','reales','predict'])\n",
    "final_asia.sort_values(by='year').head(3)"
   ]
  },
  {
   "cell_type": "code",
   "execution_count": 155,
   "id": "8a5a9ccb-44ce-4989-946b-e9b0fb087cc1",
   "metadata": {},
   "outputs": [
    {
     "data": {
      "text/plain": [
       "<matplotlib.collections.PathCollection at 0x1d49668b250>"
      ]
     },
     "execution_count": 155,
     "metadata": {},
     "output_type": "execute_result"
    },
    {
     "data": {
      "image/png": "[encoded data removed]",
      "text/plain": [
       "<Figure size 432x288 with 1 Axes>"
      ]
     },
     "metadata": {
      "needs_background": "light"
     },
     "output_type": "display_data"
    }
   ],
   "source": [
    "x=final_asia.year\n",
    "plt.scatter(x, y= final_asia.reales, color = 'r')\n",
    "plt.scatter(x, y=final_asia.predict, color = 'yellow', marker = 'x')"
   ]
  },
  {
   "cell_type": "code",
   "execution_count": 156,
   "id": "df3b05f5-83f0-434b-b57c-622d898a57e9",
   "metadata": {},
   "outputs": [],
   "source": [
    "df_asia.to_csv(\"df_asia.csv\", index=False)"
   ]
  },
  {
   "cell_type": "code",
   "execution_count": 157,
   "id": "f309bdc4-c6ab-470b-a9c4-076527dcabbb",
   "metadata": {},
   "outputs": [],
   "source": [
    "final_asia.to_csv(\"predict_asia.csv\", index=False)"
   ]
  },
  {
   "cell_type": "markdown",
   "id": "6530e5dd-860a-431f-b83f-9e5c969b69e4",
   "metadata": {},
   "source": [
    "### COMIENZA COMPROBACIÓN DEL MODELO"
   ]
  },
  {
   "cell_type": "code",
   "execution_count": 158,
   "id": "7a56060d-5225-44d6-89c3-e27dc6921a4b",
   "metadata": {},
   "outputs": [],
   "source": [
    "df_test= pd.read_csv('predict4years.csv')"
   ]
  },
  {
   "cell_type": "code",
   "execution_count": 159,
   "id": "e7c3fe17-96e5-41fb-a819-10ec24f1b44d",
   "metadata": {},
   "outputs": [
    {
     "data": {
      "text/html": [
       "<div>\n",
       "<style scoped>\n",
       "    .dataframe tbody tr th:only-of-type {\n",
       "        vertical-align: middle;\n",
       "    }\n",
       "\n",
       "    .dataframe tbody tr th {\n",
       "        vertical-align: top;\n",
       "    }\n",
       "\n",
       "    .dataframe thead th {\n",
       "        text-align: right;\n",
       "    }\n",
       "</style>\n",
       "<table border=\"1\" class=\"dataframe\">\n",
       "  <thead>\n",
       "    <tr style=\"text-align: right;\">\n",
       "      <th></th>\n",
       "      <th>entity</th>\n",
       "      <th>code</th>\n",
       "      <th>year</th>\n",
       "      <th>health_expenditure</th>\n",
       "      <th>education_exp</th>\n",
       "      <th>incomeUS_pc</th>\n",
       "      <th>population_povertyline</th>\n",
       "      <th>mortality_rate</th>\n",
       "    </tr>\n",
       "  </thead>\n",
       "  <tbody>\n",
       "    <tr>\n",
       "      <th>0</th>\n",
       "      <td>Afghanistan</td>\n",
       "      <td>AFG</td>\n",
       "      <td>2018</td>\n",
       "      <td>69.998604</td>\n",
       "      <td>11.69606</td>\n",
       "      <td>452.362622</td>\n",
       "      <td>NaN</td>\n",
       "      <td>6.23</td>\n",
       "    </tr>\n",
       "    <tr>\n",
       "      <th>1</th>\n",
       "      <td>Afghanistan</td>\n",
       "      <td>AFG</td>\n",
       "      <td>2019</td>\n",
       "      <td>65.806030</td>\n",
       "      <td>11.34377</td>\n",
       "      <td>463.843374</td>\n",
       "      <td>NaN</td>\n",
       "      <td>6.01</td>\n",
       "    </tr>\n",
       "    <tr>\n",
       "      <th>2</th>\n",
       "      <td>Afghanistan</td>\n",
       "      <td>AFG</td>\n",
       "      <td>2020</td>\n",
       "      <td>NaN</td>\n",
       "      <td>10.25386</td>\n",
       "      <td>475.620362</td>\n",
       "      <td>NaN</td>\n",
       "      <td>5.80</td>\n",
       "    </tr>\n",
       "    <tr>\n",
       "      <th>3</th>\n",
       "      <td>Albania</td>\n",
       "      <td>ALB</td>\n",
       "      <td>2018</td>\n",
       "      <td>274.914093</td>\n",
       "      <td>NaN</td>\n",
       "      <td>4318.911492</td>\n",
       "      <td>1.138010</td>\n",
       "      <td>0.95</td>\n",
       "    </tr>\n",
       "    <tr>\n",
       "      <th>4</th>\n",
       "      <td>Albania</td>\n",
       "      <td>ALB</td>\n",
       "      <td>2019</td>\n",
       "      <td>NaN</td>\n",
       "      <td>13.43000</td>\n",
       "      <td>4337.131083</td>\n",
       "      <td>0.868742</td>\n",
       "      <td>0.97</td>\n",
       "    </tr>\n",
       "  </tbody>\n",
       "</table>\n",
       "</div>"
      ],
      "text/plain": [
       "        entity code  year  health_expenditure  education_exp  incomeUS_pc  \\\n",
       "0  Afghanistan  AFG  2018           69.998604       11.69606   452.362622   \n",
       "1  Afghanistan  AFG  2019           65.806030       11.34377   463.843374   \n",
       "2  Afghanistan  AFG  2020                 NaN       10.25386   475.620362   \n",
       "3      Albania  ALB  2018          274.914093            NaN  4318.911492   \n",
       "4      Albania  ALB  2019                 NaN       13.43000  4337.131083   \n",
       "\n",
       "   population_povertyline  mortality_rate  \n",
       "0                     NaN            6.23  \n",
       "1                     NaN            6.01  \n",
       "2                     NaN            5.80  \n",
       "3                1.138010            0.95  \n",
       "4                0.868742            0.97  "
      ]
     },
     "execution_count": 159,
     "metadata": {},
     "output_type": "execute_result"
    }
   ],
   "source": [
    "df_test.head()"
   ]
  },
  {
   "cell_type": "code",
   "execution_count": 160,
   "id": "63b74874-fec8-4709-9224-a9af12a74b4a",
   "metadata": {},
   "outputs": [
    {
     "data": {
      "text/plain": [
       "(567, 8)"
      ]
     },
     "execution_count": 160,
     "metadata": {},
     "output_type": "execute_result"
    }
   ],
   "source": [
    "df_test.shape"
   ]
  },
  {
   "cell_type": "code",
   "execution_count": 161,
   "id": "e00f9631-6c04-4770-bcdf-e47550c0d900",
   "metadata": {},
   "outputs": [
    {
     "data": {
      "text/plain": [
       "entity                      0\n",
       "code                        0\n",
       "year                        0\n",
       "health_expenditure        208\n",
       "education_exp             218\n",
       "incomeUS_pc                66\n",
       "population_povertyline    254\n",
       "mortality_rate             15\n",
       "dtype: int64"
      ]
     },
     "execution_count": 161,
     "metadata": {},
     "output_type": "execute_result"
    }
   ],
   "source": [
    "df_test.isnull().sum()"
   ]
  },
  {
   "cell_type": "code",
   "execution_count": 162,
   "id": "454a1d96-00e7-4ee2-8076-dfd08d74fac4",
   "metadata": {},
   "outputs": [
    {
     "name": "stdout",
     "output_type": "stream",
     "text": [
      "<class 'pandas.core.frame.DataFrame'>\n",
      "RangeIndex: 567 entries, 0 to 566\n",
      "Data columns (total 8 columns):\n",
      " #   Column                  Non-Null Count  Dtype  \n",
      "---  ------                  --------------  -----  \n",
      " 0   entity                  567 non-null    object \n",
      " 1   code                    567 non-null    object \n",
      " 2   year                    567 non-null    int64  \n",
      " 3   health_expenditure      359 non-null    float64\n",
      " 4   education_exp           349 non-null    float64\n",
      " 5   incomeUS_pc             501 non-null    float64\n",
      " 6   population_povertyline  313 non-null    float64\n",
      " 7   mortality_rate          552 non-null    float64\n",
      "dtypes: float64(5), int64(1), object(2)\n",
      "memory usage: 35.6+ KB\n"
     ]
    }
   ],
   "source": [
    "df_test.info()"
   ]
  },
  {
   "cell_type": "code",
   "execution_count": 163,
   "id": "faa43306-d575-44f3-9bde-4198288cf74a",
   "metadata": {},
   "outputs": [],
   "source": [
    "impmedian= mdi.MeanMedianImputer(imputation_method='median', variables=['mortality_rate', 'education_exp'])\n",
    "df_test = impmedian.fit_transform(df_test) "
   ]
  },
  {
   "cell_type": "code",
   "execution_count": 164,
   "id": "b874ed6d-9b87-4cbf-9b6c-1dc672f6879c",
   "metadata": {},
   "outputs": [],
   "source": [
    "impmean= mdi.MeanMedianImputer(imputation_method='mean', variables=['health_expenditure', 'population_povertyline'])\n",
    "df_test = impmean.fit_transform(df_test) "
   ]
  },
  {
   "cell_type": "code",
   "execution_count": 165,
   "id": "c62c797a-1d48-4124-9dcc-71cc60a120e4",
   "metadata": {},
   "outputs": [],
   "source": [
    "df_test= df_test.replace(to_replace = np.nan, value = 0)"
   ]
  },
  {
   "cell_type": "code",
   "execution_count": 166,
   "id": "d3068a62-1a77-4408-934d-af5da3a2937a",
   "metadata": {},
   "outputs": [],
   "source": [
    "paises= ['Afghanistan', 'Albania', 'Algeria', 'Andorra', 'Angola', 'Antigua and Barbuda', 'Argentina', 'Armenia', 'Australia', 'Austria', 'Azerbaijan', 'Bahamas', 'Bahrain', 'Bangladesh', 'Barbados', 'Belarus', 'Belgium', 'Belize', 'Benin', 'Bermuda', 'Bhutan', 'Bolivia', 'Bosnia and Herzegovina', 'Botswana', 'Brazil', 'Brunei', 'Bulgaria', 'Burkina Faso', 'Burundi', 'Cambodia', 'Cameroon', 'Canada', 'Central African Republic', 'Chad', 'Chile', 'China', 'Colombia', 'Comoros', 'Congo', 'Costa Rica', \"Cote d'Ivoire\", 'Croatia', 'Cuba', 'Cyprus', 'Czechia', 'Denmark', 'Djibouti', 'Dominica', 'Dominican Republic', 'Ecuador', 'Egypt', 'El Salvador', 'Equatorial Guinea', 'Eritrea', 'Estonia', 'Eswatini', 'Ethiopia', 'Fiji', 'Finland', 'France', 'Gabon', 'Gambia', 'Georgia', 'Germany', 'Ghana', 'Greece', 'Greenland', 'Grenada', 'Guam', 'Guatemala', 'Guinea', 'Guinea-Bissau', 'Guyana', 'Haiti', 'Honduras', 'Hungary', 'Iceland', 'India', 'Indonesia', 'Iran', 'Iraq', 'Ireland', 'Israel', 'Italy', 'Jamaica', 'Japan', 'Jordan', 'Kazakhstan', 'Kenya', 'Kiribati', 'Kuwait', 'Kyrgyzstan', 'Laos', 'Latvia', 'Lebanon', 'Lesotho', 'Liberia', 'Libya', 'Lithuania', 'Luxembourg', 'Madagascar', 'Malawi', 'Malaysia', 'Maldives', 'Mali', 'Malta', 'Marshall Islands', 'Mauritania', 'Mauritius', 'Mexico', 'Micronesia (country)', 'Moldova', 'Monaco', 'Mongolia', 'Montenegro', 'Morocco', 'Mozambique', 'Myanmar', 'Namibia', 'Nauru', 'Nepal', 'Netherlands', 'New Zealand', 'Nicaragua', 'Niger', 'Nigeria', 'North Macedonia', 'Northern Mariana Islands', 'Norway', 'Oman', 'Pakistan', 'Palau', 'Panama', 'Papua New Guinea', 'Paraguay', 'Peru', 'Philippines', 'Poland', 'Portugal', 'Puerto Rico', 'Qatar', 'Romania', 'Russia', 'Rwanda', 'Samoa', 'San Marino', 'Sao Tome and Principe', 'Saudi Arabia', 'Senegal', 'Serbia', 'Seychelles', 'Sierra Leone', 'Singapore', 'Slovakia', 'Slovenia', 'Solomon Islands', 'Somalia', 'South Korea', 'South Sudan', 'Spain', 'Sri Lanka', 'Sudan', 'Suriname', 'Sweden', 'Switzerland', 'Syria', 'Taiwan', 'Tajikistan', 'Tanzania', 'Thailand', 'Timor', 'Togo', 'Tonga', 'Trinidad and Tobago', 'Tunisia', 'Turkey', 'Turkmenistan', 'Tuvalu', 'Uganda', 'Ukraine', 'United Arab Emirates', 'United Kingdom', 'United States', 'Uruguay', 'Uzbekistan', 'Vanuatu', 'Venezuela', 'Vietnam', 'Yemen', 'Zambia', 'Zimbabwe']"
   ]
  },
  {
   "cell_type": "code",
   "execution_count": 167,
   "id": "111a0ca3-aa34-4fca-9fd8-5991b18eb145",
   "metadata": {},
   "outputs": [],
   "source": [
    "latinoamerica_t= 'Antigua and Barbuda', 'Aruba', 'Bahamas', 'Barbados', 'Cayman Islands', 'Cuba', 'Dominica', 'Dominican Republic', 'Grenada', 'Guadeloupe', 'Haiti', 'Jamaica', 'Martinique','Puerto Rico','Trinidad and Tobago', 'Turks and Caicos Islands', 'Virgin Islands', 'Belize', 'Costa Rica', 'El Salvador', 'Guatemala', 'Honduras', 'Mexico', 'Nicaragua', 'Panama', 'Argentina', 'Bolivia', 'Brazil', 'Chile', 'Colombia', 'Ecuador', 'Guyana', 'Paraguay', 'Peru', 'Suriname', 'Uruguay', 'Venezuela'"
   ]
  },
  {
   "cell_type": "code",
   "execution_count": 168,
   "id": "2748069a-8d0c-4b56-a5bc-79ca28c494cd",
   "metadata": {},
   "outputs": [
    {
     "data": {
      "text/plain": [
       "31"
      ]
     },
     "execution_count": 168,
     "metadata": {},
     "output_type": "execute_result"
    }
   ],
   "source": [
    "final_t = [x for x in latinoamerica_t if x in paises]\n",
    "len(final_t)"
   ]
  },
  {
   "cell_type": "code",
   "execution_count": 169,
   "id": "b88ec8a6-1661-46ae-a1df-e9bf30cc1009",
   "metadata": {},
   "outputs": [
    {
     "data": {
      "text/plain": [
       "Index(['entity', 'code', 'year', 'health_expenditure', 'education_exp',\n",
       "       'incomeUS_pc', 'population_povertyline', 'mortality_rate'],\n",
       "      dtype='object')"
      ]
     },
     "execution_count": 169,
     "metadata": {},
     "output_type": "execute_result"
    }
   ],
   "source": [
    "df_latin_modelo=df_test[df_test['entity'].isin(final_t)]\n",
    "df_latin_modelo.columns"
   ]
  },
  {
   "cell_type": "code",
   "execution_count": 170,
   "id": "5a34bc22-3203-4c1b-be25-229e3c8edec6",
   "metadata": {},
   "outputs": [
    {
     "data": {
      "text/plain": [
       "0.50999999"
      ]
     },
     "execution_count": 170,
     "metadata": {},
     "output_type": "execute_result"
    }
   ],
   "source": [
    "df_latin_modelo.mortality_rate.min()"
   ]
  },
  {
   "cell_type": "code",
   "execution_count": 171,
   "id": "f5a8dff1-079b-4579-8d58-144c9f35ef46",
   "metadata": {},
   "outputs": [
    {
     "data": {
      "text/plain": [
       "6.409999847"
      ]
     },
     "execution_count": 171,
     "metadata": {},
     "output_type": "execute_result"
    }
   ],
   "source": [
    "df_latin_modelo.mortality_rate.max()"
   ]
  },
  {
   "cell_type": "code",
   "execution_count": 172,
   "id": "54e97578-50db-4a76-adcc-74f02ae38133",
   "metadata": {},
   "outputs": [
    {
     "data": {
      "text/html": [
       "<div>\n",
       "<style scoped>\n",
       "    .dataframe tbody tr th:only-of-type {\n",
       "        vertical-align: middle;\n",
       "    }\n",
       "\n",
       "    .dataframe tbody tr th {\n",
       "        vertical-align: top;\n",
       "    }\n",
       "\n",
       "    .dataframe thead th {\n",
       "        text-align: right;\n",
       "    }\n",
       "</style>\n",
       "<table border=\"1\" class=\"dataframe\">\n",
       "  <thead>\n",
       "    <tr style=\"text-align: right;\">\n",
       "      <th></th>\n",
       "      <th>entity</th>\n",
       "      <th>code</th>\n",
       "      <th>year</th>\n",
       "      <th>health_expenditure</th>\n",
       "      <th>education_exp</th>\n",
       "      <th>incomeUS_pc</th>\n",
       "      <th>population_povertyline</th>\n",
       "      <th>mortality_rate</th>\n",
       "    </tr>\n",
       "  </thead>\n",
       "  <tbody>\n",
       "    <tr>\n",
       "      <th>15</th>\n",
       "      <td>Antigua and Barbuda</td>\n",
       "      <td>ATG</td>\n",
       "      <td>2018</td>\n",
       "      <td>808.699280</td>\n",
       "      <td>7.230617</td>\n",
       "      <td>0.000000</td>\n",
       "      <td>12.85287</td>\n",
       "      <td>0.69</td>\n",
       "    </tr>\n",
       "    <tr>\n",
       "      <th>16</th>\n",
       "      <td>Antigua and Barbuda</td>\n",
       "      <td>ATG</td>\n",
       "      <td>2019</td>\n",
       "      <td>760.264954</td>\n",
       "      <td>8.547490</td>\n",
       "      <td>0.000000</td>\n",
       "      <td>12.85287</td>\n",
       "      <td>0.66</td>\n",
       "    </tr>\n",
       "    <tr>\n",
       "      <th>17</th>\n",
       "      <td>Antigua and Barbuda</td>\n",
       "      <td>ATG</td>\n",
       "      <td>2020</td>\n",
       "      <td>1170.936680</td>\n",
       "      <td>8.941780</td>\n",
       "      <td>0.000000</td>\n",
       "      <td>12.85287</td>\n",
       "      <td>0.64</td>\n",
       "    </tr>\n",
       "    <tr>\n",
       "      <th>18</th>\n",
       "      <td>Argentina</td>\n",
       "      <td>ARG</td>\n",
       "      <td>2018</td>\n",
       "      <td>1127.928467</td>\n",
       "      <td>12.523340</td>\n",
       "      <td>9813.558914</td>\n",
       "      <td>12.85287</td>\n",
       "      <td>0.97</td>\n",
       "    </tr>\n",
       "    <tr>\n",
       "      <th>19</th>\n",
       "      <td>Argentina</td>\n",
       "      <td>ARG</td>\n",
       "      <td>2019</td>\n",
       "      <td>945.991943</td>\n",
       "      <td>12.530070</td>\n",
       "      <td>8262.878744</td>\n",
       "      <td>12.85287</td>\n",
       "      <td>0.91</td>\n",
       "    </tr>\n",
       "  </tbody>\n",
       "</table>\n",
       "</div>"
      ],
      "text/plain": [
       "                 entity code  year  health_expenditure  education_exp  \\\n",
       "15  Antigua and Barbuda  ATG  2018          808.699280       7.230617   \n",
       "16  Antigua and Barbuda  ATG  2019          760.264954       8.547490   \n",
       "17  Antigua and Barbuda  ATG  2020         1170.936680       8.941780   \n",
       "18            Argentina  ARG  2018         1127.928467      12.523340   \n",
       "19            Argentina  ARG  2019          945.991943      12.530070   \n",
       "\n",
       "    incomeUS_pc  population_povertyline  mortality_rate  \n",
       "15     0.000000                12.85287            0.69  \n",
       "16     0.000000                12.85287            0.66  \n",
       "17     0.000000                12.85287            0.64  \n",
       "18  9813.558914                12.85287            0.97  \n",
       "19  8262.878744                12.85287            0.91  "
      ]
     },
     "execution_count": 172,
     "metadata": {},
     "output_type": "execute_result"
    }
   ],
   "source": [
    "df_latin_modelo.head()"
   ]
  },
  {
   "cell_type": "code",
   "execution_count": 173,
   "id": "4b71186a-60f7-4f58-a09d-d2998b999f05",
   "metadata": {},
   "outputs": [
    {
     "data": {
      "text/html": [
       "<div>\n",
       "<style scoped>\n",
       "    .dataframe tbody tr th:only-of-type {\n",
       "        vertical-align: middle;\n",
       "    }\n",
       "\n",
       "    .dataframe tbody tr th {\n",
       "        vertical-align: top;\n",
       "    }\n",
       "\n",
       "    .dataframe thead th {\n",
       "        text-align: right;\n",
       "    }\n",
       "</style>\n",
       "<table border=\"1\" class=\"dataframe\">\n",
       "  <thead>\n",
       "    <tr style=\"text-align: right;\">\n",
       "      <th></th>\n",
       "      <th>entity</th>\n",
       "      <th>code</th>\n",
       "      <th>year</th>\n",
       "      <th>health_expenditure</th>\n",
       "      <th>education_exp</th>\n",
       "      <th>incomeUS_pc</th>\n",
       "      <th>population_povertyline</th>\n",
       "      <th>mortality_rate</th>\n",
       "      <th>region</th>\n",
       "    </tr>\n",
       "  </thead>\n",
       "  <tbody>\n",
       "    <tr>\n",
       "      <th>15</th>\n",
       "      <td>Antigua and Barbuda</td>\n",
       "      <td>ATG</td>\n",
       "      <td>2018</td>\n",
       "      <td>808.699280</td>\n",
       "      <td>7.230617</td>\n",
       "      <td>0.0</td>\n",
       "      <td>12.85287</td>\n",
       "      <td>0.69</td>\n",
       "      <td>Latin America</td>\n",
       "    </tr>\n",
       "    <tr>\n",
       "      <th>16</th>\n",
       "      <td>Antigua and Barbuda</td>\n",
       "      <td>ATG</td>\n",
       "      <td>2019</td>\n",
       "      <td>760.264954</td>\n",
       "      <td>8.547490</td>\n",
       "      <td>0.0</td>\n",
       "      <td>12.85287</td>\n",
       "      <td>0.66</td>\n",
       "      <td>Latin America</td>\n",
       "    </tr>\n",
       "    <tr>\n",
       "      <th>17</th>\n",
       "      <td>Antigua and Barbuda</td>\n",
       "      <td>ATG</td>\n",
       "      <td>2020</td>\n",
       "      <td>1170.936680</td>\n",
       "      <td>8.941780</td>\n",
       "      <td>0.0</td>\n",
       "      <td>12.85287</td>\n",
       "      <td>0.64</td>\n",
       "      <td>Latin America</td>\n",
       "    </tr>\n",
       "  </tbody>\n",
       "</table>\n",
       "</div>"
      ],
      "text/plain": [
       "                 entity code  year  health_expenditure  education_exp  \\\n",
       "15  Antigua and Barbuda  ATG  2018          808.699280       7.230617   \n",
       "16  Antigua and Barbuda  ATG  2019          760.264954       8.547490   \n",
       "17  Antigua and Barbuda  ATG  2020         1170.936680       8.941780   \n",
       "\n",
       "    incomeUS_pc  population_povertyline  mortality_rate         region  \n",
       "15          0.0                12.85287            0.69  Latin America  \n",
       "16          0.0                12.85287            0.66  Latin America  \n",
       "17          0.0                12.85287            0.64  Latin America  "
      ]
     },
     "execution_count": 173,
     "metadata": {},
     "output_type": "execute_result"
    }
   ],
   "source": [
    "df_latin_modelo= df_latin_modelo.assign(region=\"Latin America\")\n",
    "df_latin_modelo.head(3)"
   ]
  },
  {
   "cell_type": "code",
   "execution_count": 174,
   "id": "3c5e583f-b81d-4009-beaf-e1a5256a9169",
   "metadata": {},
   "outputs": [
    {
     "data": {
      "text/html": [
       "<div>\n",
       "<style scoped>\n",
       "    .dataframe tbody tr th:only-of-type {\n",
       "        vertical-align: middle;\n",
       "    }\n",
       "\n",
       "    .dataframe tbody tr th {\n",
       "        vertical-align: top;\n",
       "    }\n",
       "\n",
       "    .dataframe thead th {\n",
       "        text-align: right;\n",
       "    }\n",
       "</style>\n",
       "<table border=\"1\" class=\"dataframe\">\n",
       "  <thead>\n",
       "    <tr style=\"text-align: right;\">\n",
       "      <th></th>\n",
       "      <th>year</th>\n",
       "      <th>mortality_rate</th>\n",
       "      <th>population_povertyline</th>\n",
       "      <th>health_expenditure</th>\n",
       "      <th>incomeUS_pc</th>\n",
       "      <th>education_exp</th>\n",
       "    </tr>\n",
       "  </thead>\n",
       "  <tbody>\n",
       "    <tr>\n",
       "      <th>0</th>\n",
       "      <td>2018</td>\n",
       "      <td>1.816452</td>\n",
       "      <td>7.448545</td>\n",
       "      <td>684.088204</td>\n",
       "      <td>6783.811456</td>\n",
       "      <td>15.870725</td>\n",
       "    </tr>\n",
       "    <tr>\n",
       "      <th>1</th>\n",
       "      <td>2019</td>\n",
       "      <td>1.799355</td>\n",
       "      <td>7.157916</td>\n",
       "      <td>680.736049</td>\n",
       "      <td>6554.976055</td>\n",
       "      <td>15.032819</td>\n",
       "    </tr>\n",
       "    <tr>\n",
       "      <th>2</th>\n",
       "      <td>2020</td>\n",
       "      <td>1.722903</td>\n",
       "      <td>12.852870</td>\n",
       "      <td>1170.936680</td>\n",
       "      <td>5565.235412</td>\n",
       "      <td>15.033049</td>\n",
       "    </tr>\n",
       "  </tbody>\n",
       "</table>\n",
       "</div>"
      ],
      "text/plain": [
       "   year  mortality_rate  population_povertyline  health_expenditure  \\\n",
       "0  2018        1.816452                7.448545          684.088204   \n",
       "1  2019        1.799355                7.157916          680.736049   \n",
       "2  2020        1.722903               12.852870         1170.936680   \n",
       "\n",
       "   incomeUS_pc  education_exp  \n",
       "0  6783.811456      15.870725  \n",
       "1  6554.976055      15.032819  \n",
       "2  5565.235412      15.033049  "
      ]
     },
     "execution_count": 174,
     "metadata": {},
     "output_type": "execute_result"
    }
   ],
   "source": [
    "df_latam_model= df_latin_modelo.groupby('year',as_index = False)[['mortality_rate','population_povertyline', 'health_expenditure','incomeUS_pc', 'education_exp']].mean()\n",
    "df_latam_model"
   ]
  },
  {
   "cell_type": "code",
   "execution_count": 175,
   "id": "1b258483-757f-49be-85a3-cf028ab2eef7",
   "metadata": {},
   "outputs": [
    {
     "data": {
      "text/html": [
       "<div>\n",
       "<style scoped>\n",
       "    .dataframe tbody tr th:only-of-type {\n",
       "        vertical-align: middle;\n",
       "    }\n",
       "\n",
       "    .dataframe tbody tr th {\n",
       "        vertical-align: top;\n",
       "    }\n",
       "\n",
       "    .dataframe thead th {\n",
       "        text-align: right;\n",
       "    }\n",
       "</style>\n",
       "<table border=\"1\" class=\"dataframe\">\n",
       "  <thead>\n",
       "    <tr style=\"text-align: right;\">\n",
       "      <th></th>\n",
       "      <th>year</th>\n",
       "      <th>mortality_rate</th>\n",
       "      <th>population_povertyline</th>\n",
       "      <th>health_expenditure</th>\n",
       "      <th>incomeUS_pc</th>\n",
       "      <th>education_exp</th>\n",
       "      <th>lag1</th>\n",
       "    </tr>\n",
       "  </thead>\n",
       "  <tbody>\n",
       "    <tr>\n",
       "      <th>0</th>\n",
       "      <td>2018</td>\n",
       "      <td>1.816452</td>\n",
       "      <td>7.448545</td>\n",
       "      <td>684.088204</td>\n",
       "      <td>6783.811456</td>\n",
       "      <td>15.870725</td>\n",
       "      <td>NaN</td>\n",
       "    </tr>\n",
       "    <tr>\n",
       "      <th>1</th>\n",
       "      <td>2019</td>\n",
       "      <td>1.799355</td>\n",
       "      <td>7.157916</td>\n",
       "      <td>680.736049</td>\n",
       "      <td>6554.976055</td>\n",
       "      <td>15.032819</td>\n",
       "      <td>1.816452</td>\n",
       "    </tr>\n",
       "    <tr>\n",
       "      <th>2</th>\n",
       "      <td>2020</td>\n",
       "      <td>1.722903</td>\n",
       "      <td>12.852870</td>\n",
       "      <td>1170.936680</td>\n",
       "      <td>5565.235412</td>\n",
       "      <td>15.033049</td>\n",
       "      <td>1.799355</td>\n",
       "    </tr>\n",
       "  </tbody>\n",
       "</table>\n",
       "</div>"
      ],
      "text/plain": [
       "   year  mortality_rate  population_povertyline  health_expenditure  \\\n",
       "0  2018        1.816452                7.448545          684.088204   \n",
       "1  2019        1.799355                7.157916          680.736049   \n",
       "2  2020        1.722903               12.852870         1170.936680   \n",
       "\n",
       "   incomeUS_pc  education_exp      lag1  \n",
       "0  6783.811456      15.870725       NaN  \n",
       "1  6554.976055      15.032819  1.816452  \n",
       "2  5565.235412      15.033049  1.799355  "
      ]
     },
     "execution_count": 175,
     "metadata": {},
     "output_type": "execute_result"
    }
   ],
   "source": [
    "df_latam_model['lag1'] = df_latam_model.mortality_rate.shift(1)\n",
    "df_latam_model"
   ]
  },
  {
   "cell_type": "code",
   "execution_count": 176,
   "id": "453bd914-1a85-4261-93aa-32f5ed18855e",
   "metadata": {},
   "outputs": [
    {
     "data": {
      "text/html": [
       "<div>\n",
       "<style scoped>\n",
       "    .dataframe tbody tr th:only-of-type {\n",
       "        vertical-align: middle;\n",
       "    }\n",
       "\n",
       "    .dataframe tbody tr th {\n",
       "        vertical-align: top;\n",
       "    }\n",
       "\n",
       "    .dataframe thead th {\n",
       "        text-align: right;\n",
       "    }\n",
       "</style>\n",
       "<table border=\"1\" class=\"dataframe\">\n",
       "  <thead>\n",
       "    <tr style=\"text-align: right;\">\n",
       "      <th></th>\n",
       "      <th>year</th>\n",
       "      <th>mortality_rate</th>\n",
       "      <th>population_povertyline</th>\n",
       "      <th>health_expenditure</th>\n",
       "      <th>incomeUS_pc</th>\n",
       "      <th>education_exp</th>\n",
       "      <th>lag1</th>\n",
       "    </tr>\n",
       "  </thead>\n",
       "  <tbody>\n",
       "    <tr>\n",
       "      <th>1</th>\n",
       "      <td>2019</td>\n",
       "      <td>1.799355</td>\n",
       "      <td>7.157916</td>\n",
       "      <td>680.736049</td>\n",
       "      <td>6554.976055</td>\n",
       "      <td>15.032819</td>\n",
       "      <td>1.816452</td>\n",
       "    </tr>\n",
       "    <tr>\n",
       "      <th>2</th>\n",
       "      <td>2020</td>\n",
       "      <td>1.722903</td>\n",
       "      <td>12.852870</td>\n",
       "      <td>1170.936680</td>\n",
       "      <td>5565.235412</td>\n",
       "      <td>15.033049</td>\n",
       "      <td>1.799355</td>\n",
       "    </tr>\n",
       "  </tbody>\n",
       "</table>\n",
       "</div>"
      ],
      "text/plain": [
       "   year  mortality_rate  population_povertyline  health_expenditure  \\\n",
       "1  2019        1.799355                7.157916          680.736049   \n",
       "2  2020        1.722903               12.852870         1170.936680   \n",
       "\n",
       "   incomeUS_pc  education_exp      lag1  \n",
       "1  6554.976055      15.032819  1.816452  \n",
       "2  5565.235412      15.033049  1.799355  "
      ]
     },
     "execution_count": 176,
     "metadata": {},
     "output_type": "execute_result"
    }
   ],
   "source": [
    "df_latam_model= df_latam_model.iloc[1:3]\n",
    "df_latam_model"
   ]
  },
  {
   "cell_type": "code",
   "execution_count": 237,
   "id": "f8fac6e5-df41-424f-bea7-43e0c08cabaa",
   "metadata": {},
   "outputs": [],
   "source": [
    "#df_latam_model.drop(['mortality_rate', 'year'], axis=1, inplace=True)"
   ]
  },
  {
   "cell_type": "code",
   "execution_count": 178,
   "id": "9eb2643f-d006-41cf-8219-72c091a2f8d5",
   "metadata": {},
   "outputs": [
    {
     "data": {
      "text/plain": [
       "array([1.59838416, 1.53444517])"
      ]
     },
     "execution_count": 178,
     "metadata": {},
     "output_type": "execute_result"
    }
   ],
   "source": [
    "prediccionest_lat= ratelat_pipeline.predict(df_latam_model)\n",
    "prediccionest_lat"
   ]
  },
  {
   "cell_type": "code",
   "execution_count": 179,
   "id": "27b342dd-5683-4d78-84cc-a1d7fb0923cd",
   "metadata": {},
   "outputs": [],
   "source": [
    "## EUROPA"
   ]
  },
  {
   "cell_type": "code",
   "execution_count": 180,
   "id": "6c0b40ed-95f5-4fcf-a9f3-90f2f64f9af5",
   "metadata": {},
   "outputs": [
    {
     "name": "stdout",
     "output_type": "stream",
     "text": [
      "['Austria', 'Belgium', 'Bulgaria', 'Croatia', 'Cyprus', 'Czechia', 'Denmark', 'Estonia', 'Finland', 'France', 'Germany', 'Greece', 'Hungary', 'Ireland', 'Italy', 'Latvia', 'Lithuania', 'Luxembourg', 'Malta', 'Netherlands', 'Poland', 'Portugal', 'Romania', 'Slovakia', 'Slovenia', 'Spain', 'Sweden', 'Gibraltar', 'Guadeloupe', 'Madeira', 'Martinique', 'Mayotte']\n"
     ]
    }
   ],
   "source": [
    "print(europe)"
   ]
  },
  {
   "cell_type": "code",
   "execution_count": 181,
   "id": "25d5df49-81c8-450d-9c80-e17cf72c8f31",
   "metadata": {},
   "outputs": [
    {
     "data": {
      "text/plain": [
       "27"
      ]
     },
     "execution_count": 181,
     "metadata": {},
     "output_type": "execute_result"
    }
   ],
   "source": [
    "final_e = [x for x in europe if x in paises]\n",
    "len(final_e)"
   ]
  },
  {
   "cell_type": "code",
   "execution_count": 182,
   "id": "079eefff-6aa8-4179-882d-0e4aae853ec0",
   "metadata": {},
   "outputs": [
    {
     "data": {
      "text/plain": [
       "Index(['entity', 'code', 'year', 'health_expenditure', 'education_exp',\n",
       "       'incomeUS_pc', 'population_povertyline', 'mortality_rate'],\n",
       "      dtype='object')"
      ]
     },
     "execution_count": 182,
     "metadata": {},
     "output_type": "execute_result"
    }
   ],
   "source": [
    "df_euro_modelo=df_test[df_test['entity'].isin(final_e)]\n",
    "df_euro_modelo.columns"
   ]
  },
  {
   "cell_type": "code",
   "execution_count": 183,
   "id": "60986c0e-aa7e-4714-b326-825c05f02693",
   "metadata": {},
   "outputs": [
    {
     "data": {
      "text/plain": [
       "0.20999999"
      ]
     },
     "execution_count": 183,
     "metadata": {},
     "output_type": "execute_result"
    }
   ],
   "source": [
    "df_euro_modelo.mortality_rate.min()"
   ]
  },
  {
   "cell_type": "code",
   "execution_count": 184,
   "id": "1471466f-4e09-4fb3-a400-50d893f2d5a2",
   "metadata": {},
   "outputs": [
    {
     "data": {
      "text/plain": [
       "0.74000001"
      ]
     },
     "execution_count": 184,
     "metadata": {},
     "output_type": "execute_result"
    }
   ],
   "source": [
    "df_euro_modelo.mortality_rate.max()"
   ]
  },
  {
   "cell_type": "code",
   "execution_count": 185,
   "id": "4de2c423-26be-415f-a39b-1268b8fb9e7e",
   "metadata": {},
   "outputs": [
    {
     "data": {
      "text/html": [
       "<div>\n",
       "<style scoped>\n",
       "    .dataframe tbody tr th:only-of-type {\n",
       "        vertical-align: middle;\n",
       "    }\n",
       "\n",
       "    .dataframe tbody tr th {\n",
       "        vertical-align: top;\n",
       "    }\n",
       "\n",
       "    .dataframe thead th {\n",
       "        text-align: right;\n",
       "    }\n",
       "</style>\n",
       "<table border=\"1\" class=\"dataframe\">\n",
       "  <thead>\n",
       "    <tr style=\"text-align: right;\">\n",
       "      <th></th>\n",
       "      <th>entity</th>\n",
       "      <th>code</th>\n",
       "      <th>year</th>\n",
       "      <th>health_expenditure</th>\n",
       "      <th>education_exp</th>\n",
       "      <th>incomeUS_pc</th>\n",
       "      <th>population_povertyline</th>\n",
       "      <th>mortality_rate</th>\n",
       "    </tr>\n",
       "  </thead>\n",
       "  <tbody>\n",
       "    <tr>\n",
       "      <th>27</th>\n",
       "      <td>Austria</td>\n",
       "      <td>AUT</td>\n",
       "      <td>2018</td>\n",
       "      <td>5322.262695</td>\n",
       "      <td>10.71942</td>\n",
       "      <td>41596.61338</td>\n",
       "      <td>0.568358</td>\n",
       "      <td>0.36</td>\n",
       "    </tr>\n",
       "    <tr>\n",
       "      <th>28</th>\n",
       "      <td>Austria</td>\n",
       "      <td>AUT</td>\n",
       "      <td>2019</td>\n",
       "      <td>5242.183105</td>\n",
       "      <td>14.20000</td>\n",
       "      <td>40682.03813</td>\n",
       "      <td>0.568358</td>\n",
       "      <td>0.36</td>\n",
       "    </tr>\n",
       "    <tr>\n",
       "      <th>29</th>\n",
       "      <td>Austria</td>\n",
       "      <td>AUT</td>\n",
       "      <td>2020</td>\n",
       "      <td>1170.936680</td>\n",
       "      <td>14.20000</td>\n",
       "      <td>38848.20149</td>\n",
       "      <td>12.852870</td>\n",
       "      <td>0.36</td>\n",
       "    </tr>\n",
       "    <tr>\n",
       "      <th>48</th>\n",
       "      <td>Belgium</td>\n",
       "      <td>BEL</td>\n",
       "      <td>2018</td>\n",
       "      <td>5134.414551</td>\n",
       "      <td>12.21550</td>\n",
       "      <td>39066.43551</td>\n",
       "      <td>0.081114</td>\n",
       "      <td>0.42</td>\n",
       "    </tr>\n",
       "    <tr>\n",
       "      <th>49</th>\n",
       "      <td>Belgium</td>\n",
       "      <td>BEL</td>\n",
       "      <td>2019</td>\n",
       "      <td>4960.393555</td>\n",
       "      <td>14.20000</td>\n",
       "      <td>38282.85629</td>\n",
       "      <td>0.081114</td>\n",
       "      <td>0.42</td>\n",
       "    </tr>\n",
       "  </tbody>\n",
       "</table>\n",
       "</div>"
      ],
      "text/plain": [
       "     entity code  year  health_expenditure  education_exp  incomeUS_pc  \\\n",
       "27  Austria  AUT  2018         5322.262695       10.71942  41596.61338   \n",
       "28  Austria  AUT  2019         5242.183105       14.20000  40682.03813   \n",
       "29  Austria  AUT  2020         1170.936680       14.20000  38848.20149   \n",
       "48  Belgium  BEL  2018         5134.414551       12.21550  39066.43551   \n",
       "49  Belgium  BEL  2019         4960.393555       14.20000  38282.85629   \n",
       "\n",
       "    population_povertyline  mortality_rate  \n",
       "27                0.568358            0.36  \n",
       "28                0.568358            0.36  \n",
       "29               12.852870            0.36  \n",
       "48                0.081114            0.42  \n",
       "49                0.081114            0.42  "
      ]
     },
     "execution_count": 185,
     "metadata": {},
     "output_type": "execute_result"
    }
   ],
   "source": [
    "df_euro_modelo.head()"
   ]
  },
  {
   "cell_type": "code",
   "execution_count": 186,
   "id": "fdfdebd3-228b-42b4-a6b0-e2c632ddc3a2",
   "metadata": {},
   "outputs": [
    {
     "data": {
      "text/html": [
       "<div>\n",
       "<style scoped>\n",
       "    .dataframe tbody tr th:only-of-type {\n",
       "        vertical-align: middle;\n",
       "    }\n",
       "\n",
       "    .dataframe tbody tr th {\n",
       "        vertical-align: top;\n",
       "    }\n",
       "\n",
       "    .dataframe thead th {\n",
       "        text-align: right;\n",
       "    }\n",
       "</style>\n",
       "<table border=\"1\" class=\"dataframe\">\n",
       "  <thead>\n",
       "    <tr style=\"text-align: right;\">\n",
       "      <th></th>\n",
       "      <th>entity</th>\n",
       "      <th>code</th>\n",
       "      <th>year</th>\n",
       "      <th>health_expenditure</th>\n",
       "      <th>education_exp</th>\n",
       "      <th>incomeUS_pc</th>\n",
       "      <th>population_povertyline</th>\n",
       "      <th>mortality_rate</th>\n",
       "      <th>region</th>\n",
       "    </tr>\n",
       "  </thead>\n",
       "  <tbody>\n",
       "    <tr>\n",
       "      <th>27</th>\n",
       "      <td>Austria</td>\n",
       "      <td>AUT</td>\n",
       "      <td>2018</td>\n",
       "      <td>5322.262695</td>\n",
       "      <td>10.71942</td>\n",
       "      <td>41596.61338</td>\n",
       "      <td>0.568358</td>\n",
       "      <td>0.36</td>\n",
       "      <td>Europa</td>\n",
       "    </tr>\n",
       "    <tr>\n",
       "      <th>28</th>\n",
       "      <td>Austria</td>\n",
       "      <td>AUT</td>\n",
       "      <td>2019</td>\n",
       "      <td>5242.183105</td>\n",
       "      <td>14.20000</td>\n",
       "      <td>40682.03813</td>\n",
       "      <td>0.568358</td>\n",
       "      <td>0.36</td>\n",
       "      <td>Europa</td>\n",
       "    </tr>\n",
       "    <tr>\n",
       "      <th>29</th>\n",
       "      <td>Austria</td>\n",
       "      <td>AUT</td>\n",
       "      <td>2020</td>\n",
       "      <td>1170.936680</td>\n",
       "      <td>14.20000</td>\n",
       "      <td>38848.20149</td>\n",
       "      <td>12.852870</td>\n",
       "      <td>0.36</td>\n",
       "      <td>Europa</td>\n",
       "    </tr>\n",
       "  </tbody>\n",
       "</table>\n",
       "</div>"
      ],
      "text/plain": [
       "     entity code  year  health_expenditure  education_exp  incomeUS_pc  \\\n",
       "27  Austria  AUT  2018         5322.262695       10.71942  41596.61338   \n",
       "28  Austria  AUT  2019         5242.183105       14.20000  40682.03813   \n",
       "29  Austria  AUT  2020         1170.936680       14.20000  38848.20149   \n",
       "\n",
       "    population_povertyline  mortality_rate  region  \n",
       "27                0.568358            0.36  Europa  \n",
       "28                0.568358            0.36  Europa  \n",
       "29               12.852870            0.36  Europa  "
      ]
     },
     "execution_count": 186,
     "metadata": {},
     "output_type": "execute_result"
    }
   ],
   "source": [
    "df_euro_modelo= df_euro_modelo.assign(region=\"Europa\")\n",
    "df_euro_modelo.head(3)"
   ]
  },
  {
   "cell_type": "code",
   "execution_count": 187,
   "id": "43a00a50-e406-45f6-b53d-bdd53b04b3b0",
   "metadata": {},
   "outputs": [
    {
     "data": {
      "text/html": [
       "<div>\n",
       "<style scoped>\n",
       "    .dataframe tbody tr th:only-of-type {\n",
       "        vertical-align: middle;\n",
       "    }\n",
       "\n",
       "    .dataframe tbody tr th {\n",
       "        vertical-align: top;\n",
       "    }\n",
       "\n",
       "    .dataframe thead th {\n",
       "        text-align: right;\n",
       "    }\n",
       "</style>\n",
       "<table border=\"1\" class=\"dataframe\">\n",
       "  <thead>\n",
       "    <tr style=\"text-align: right;\">\n",
       "      <th></th>\n",
       "      <th>year</th>\n",
       "      <th>mortality_rate</th>\n",
       "      <th>population_povertyline</th>\n",
       "      <th>health_expenditure</th>\n",
       "      <th>incomeUS_pc</th>\n",
       "      <th>education_exp</th>\n",
       "    </tr>\n",
       "  </thead>\n",
       "  <tbody>\n",
       "    <tr>\n",
       "      <th>0</th>\n",
       "      <td>2018</td>\n",
       "      <td>0.401481</td>\n",
       "      <td>0.393133</td>\n",
       "      <td>3045.546276</td>\n",
       "      <td>26911.072072</td>\n",
       "      <td>11.376197</td>\n",
       "    </tr>\n",
       "    <tr>\n",
       "      <th>1</th>\n",
       "      <td>2019</td>\n",
       "      <td>0.391481</td>\n",
       "      <td>0.373632</td>\n",
       "      <td>3007.602469</td>\n",
       "      <td>26343.328718</td>\n",
       "      <td>14.118256</td>\n",
       "    </tr>\n",
       "    <tr>\n",
       "      <th>2</th>\n",
       "      <td>2020</td>\n",
       "      <td>0.383333</td>\n",
       "      <td>12.852870</td>\n",
       "      <td>1170.936680</td>\n",
       "      <td>25865.235140</td>\n",
       "      <td>14.200000</td>\n",
       "    </tr>\n",
       "  </tbody>\n",
       "</table>\n",
       "</div>"
      ],
      "text/plain": [
       "   year  mortality_rate  population_povertyline  health_expenditure  \\\n",
       "0  2018        0.401481                0.393133         3045.546276   \n",
       "1  2019        0.391481                0.373632         3007.602469   \n",
       "2  2020        0.383333               12.852870         1170.936680   \n",
       "\n",
       "    incomeUS_pc  education_exp  \n",
       "0  26911.072072      11.376197  \n",
       "1  26343.328718      14.118256  \n",
       "2  25865.235140      14.200000  "
      ]
     },
     "execution_count": 187,
     "metadata": {},
     "output_type": "execute_result"
    }
   ],
   "source": [
    "df_euro_modelo= df_euro_modelo.groupby('year',as_index = False)[['mortality_rate','population_povertyline', 'health_expenditure','incomeUS_pc', 'education_exp']].mean()\n",
    "df_euro_modelo"
   ]
  },
  {
   "cell_type": "code",
   "execution_count": 188,
   "id": "aa29d808-e770-4f03-92e4-0e1ce27c53c1",
   "metadata": {},
   "outputs": [
    {
     "data": {
      "text/html": [
       "<div>\n",
       "<style scoped>\n",
       "    .dataframe tbody tr th:only-of-type {\n",
       "        vertical-align: middle;\n",
       "    }\n",
       "\n",
       "    .dataframe tbody tr th {\n",
       "        vertical-align: top;\n",
       "    }\n",
       "\n",
       "    .dataframe thead th {\n",
       "        text-align: right;\n",
       "    }\n",
       "</style>\n",
       "<table border=\"1\" class=\"dataframe\">\n",
       "  <thead>\n",
       "    <tr style=\"text-align: right;\">\n",
       "      <th></th>\n",
       "      <th>year</th>\n",
       "      <th>mortality_rate</th>\n",
       "      <th>population_povertyline</th>\n",
       "      <th>health_expenditure</th>\n",
       "      <th>incomeUS_pc</th>\n",
       "      <th>education_exp</th>\n",
       "      <th>lag1</th>\n",
       "    </tr>\n",
       "  </thead>\n",
       "  <tbody>\n",
       "    <tr>\n",
       "      <th>0</th>\n",
       "      <td>2018</td>\n",
       "      <td>0.401481</td>\n",
       "      <td>0.393133</td>\n",
       "      <td>3045.546276</td>\n",
       "      <td>26911.072072</td>\n",
       "      <td>11.376197</td>\n",
       "      <td>NaN</td>\n",
       "    </tr>\n",
       "    <tr>\n",
       "      <th>1</th>\n",
       "      <td>2019</td>\n",
       "      <td>0.391481</td>\n",
       "      <td>0.373632</td>\n",
       "      <td>3007.602469</td>\n",
       "      <td>26343.328718</td>\n",
       "      <td>14.118256</td>\n",
       "      <td>0.401481</td>\n",
       "    </tr>\n",
       "    <tr>\n",
       "      <th>2</th>\n",
       "      <td>2020</td>\n",
       "      <td>0.383333</td>\n",
       "      <td>12.852870</td>\n",
       "      <td>1170.936680</td>\n",
       "      <td>25865.235140</td>\n",
       "      <td>14.200000</td>\n",
       "      <td>0.391481</td>\n",
       "    </tr>\n",
       "  </tbody>\n",
       "</table>\n",
       "</div>"
      ],
      "text/plain": [
       "   year  mortality_rate  population_povertyline  health_expenditure  \\\n",
       "0  2018        0.401481                0.393133         3045.546276   \n",
       "1  2019        0.391481                0.373632         3007.602469   \n",
       "2  2020        0.383333               12.852870         1170.936680   \n",
       "\n",
       "    incomeUS_pc  education_exp      lag1  \n",
       "0  26911.072072      11.376197       NaN  \n",
       "1  26343.328718      14.118256  0.401481  \n",
       "2  25865.235140      14.200000  0.391481  "
      ]
     },
     "execution_count": 188,
     "metadata": {},
     "output_type": "execute_result"
    }
   ],
   "source": [
    "df_euro_modelo['lag1'] = df_euro_modelo.mortality_rate.shift(1)\n",
    "df_euro_modelo"
   ]
  },
  {
   "cell_type": "code",
   "execution_count": 189,
   "id": "063fef4e-6231-4306-9e19-d3551eeb1987",
   "metadata": {},
   "outputs": [
    {
     "data": {
      "text/html": [
       "<div>\n",
       "<style scoped>\n",
       "    .dataframe tbody tr th:only-of-type {\n",
       "        vertical-align: middle;\n",
       "    }\n",
       "\n",
       "    .dataframe tbody tr th {\n",
       "        vertical-align: top;\n",
       "    }\n",
       "\n",
       "    .dataframe thead th {\n",
       "        text-align: right;\n",
       "    }\n",
       "</style>\n",
       "<table border=\"1\" class=\"dataframe\">\n",
       "  <thead>\n",
       "    <tr style=\"text-align: right;\">\n",
       "      <th></th>\n",
       "      <th>year</th>\n",
       "      <th>mortality_rate</th>\n",
       "      <th>population_povertyline</th>\n",
       "      <th>health_expenditure</th>\n",
       "      <th>incomeUS_pc</th>\n",
       "      <th>education_exp</th>\n",
       "      <th>lag1</th>\n",
       "    </tr>\n",
       "  </thead>\n",
       "  <tbody>\n",
       "    <tr>\n",
       "      <th>1</th>\n",
       "      <td>2019</td>\n",
       "      <td>0.391481</td>\n",
       "      <td>0.373632</td>\n",
       "      <td>3007.602469</td>\n",
       "      <td>26343.328718</td>\n",
       "      <td>14.118256</td>\n",
       "      <td>0.401481</td>\n",
       "    </tr>\n",
       "    <tr>\n",
       "      <th>2</th>\n",
       "      <td>2020</td>\n",
       "      <td>0.383333</td>\n",
       "      <td>12.852870</td>\n",
       "      <td>1170.936680</td>\n",
       "      <td>25865.235140</td>\n",
       "      <td>14.200000</td>\n",
       "      <td>0.391481</td>\n",
       "    </tr>\n",
       "  </tbody>\n",
       "</table>\n",
       "</div>"
      ],
      "text/plain": [
       "   year  mortality_rate  population_povertyline  health_expenditure  \\\n",
       "1  2019        0.391481                0.373632         3007.602469   \n",
       "2  2020        0.383333               12.852870         1170.936680   \n",
       "\n",
       "    incomeUS_pc  education_exp      lag1  \n",
       "1  26343.328718      14.118256  0.401481  \n",
       "2  25865.235140      14.200000  0.391481  "
      ]
     },
     "execution_count": 189,
     "metadata": {},
     "output_type": "execute_result"
    }
   ],
   "source": [
    "df_euro_modelo= df_euro_modelo.iloc[1:3]\n",
    "df_euro_modelo"
   ]
  },
  {
   "cell_type": "code",
   "execution_count": 236,
   "id": "16a69f40-d0d5-4813-8aca-3006729206a7",
   "metadata": {},
   "outputs": [],
   "source": [
    "#df_euro_modelo.drop(['mortality_rate', 'year'], axis=1, inplace=True)"
   ]
  },
  {
   "cell_type": "code",
   "execution_count": 191,
   "id": "7dc5ad4d-cdae-4a88-9355-bb43b2523a69",
   "metadata": {},
   "outputs": [
    {
     "data": {
      "text/plain": [
       "array([0.65765676, 0.18701568])"
      ]
     },
     "execution_count": 191,
     "metadata": {},
     "output_type": "execute_result"
    }
   ],
   "source": [
    "prediccionest_europe= ratelat_pipeline.predict(df_euro_modelo)\n",
    "prediccionest_europe"
   ]
  },
  {
   "cell_type": "code",
   "execution_count": 192,
   "id": "587076cc-c7f8-4f9e-8f1c-818c63b37066",
   "metadata": {},
   "outputs": [],
   "source": [
    "## Africa"
   ]
  },
  {
   "cell_type": "code",
   "execution_count": 193,
   "id": "3744a658-b4fe-4592-bc18-996c207272be",
   "metadata": {},
   "outputs": [
    {
     "name": "stdout",
     "output_type": "stream",
     "text": [
      "['Djibouti', 'Seychelles', 'DR Congo', 'Comoros', 'Togo', 'Sierra Leone', 'Libya', 'Tanzania', 'South Africa', 'Cabo Verde', 'Congo', 'Kenya', 'Liberia', 'Central African Republic', 'Mauritania', 'Uganda', 'Algeria', 'Sudan', 'Morocco', 'Eritrea', 'Angola', 'Mozambique', 'Ghana', 'Madagascar', 'Cameroon', \"Cote d'Ivoire\", 'Namibia', 'Niger', 'Gambia', 'Botswana', 'Gabon', 'Sao Tome and Principe', 'Lesotho', 'Burkina Faso', 'Nigeria', 'Mali', 'Guinea-Bissau', 'Malawi', 'Zambia', 'Senegal', 'Chad', 'Somalia', 'Zimbabwe', 'Equatorial Guinea', 'Guinea', 'Rwanda', 'Mauritius', 'Benin', 'Burundi', 'Tunisia', 'Eswatini', 'Ethiopia', 'South Sudan', 'Egypt']\n"
     ]
    }
   ],
   "source": [
    "print(Africa)"
   ]
  },
  {
   "cell_type": "code",
   "execution_count": 194,
   "id": "c2cad39e-5daa-44e7-95e6-92a11ab199a8",
   "metadata": {},
   "outputs": [
    {
     "data": {
      "text/plain": [
       "51"
      ]
     },
     "execution_count": 194,
     "metadata": {},
     "output_type": "execute_result"
    }
   ],
   "source": [
    "final_a = [x for x in Africa if x in paises]\n",
    "len(final_a)"
   ]
  },
  {
   "cell_type": "code",
   "execution_count": 195,
   "id": "dc3c912f-b085-479b-acdb-33fc7dbc6ecb",
   "metadata": {},
   "outputs": [
    {
     "data": {
      "text/plain": [
       "Index(['entity', 'code', 'year', 'health_expenditure', 'education_exp',\n",
       "       'incomeUS_pc', 'population_povertyline', 'mortality_rate'],\n",
       "      dtype='object')"
      ]
     },
     "execution_count": 195,
     "metadata": {},
     "output_type": "execute_result"
    }
   ],
   "source": [
    "df_africa_modelo=df_test[df_test['entity'].isin(final_a)]\n",
    "df_africa_modelo.columns"
   ]
  },
  {
   "cell_type": "code",
   "execution_count": 196,
   "id": "4f113cb2-df39-426e-8b95-d5e01862b22a",
   "metadata": {},
   "outputs": [
    {
     "data": {
      "text/plain": [
       "1.110000038"
      ]
     },
     "execution_count": 196,
     "metadata": {},
     "output_type": "execute_result"
    }
   ],
   "source": [
    "df_africa_modelo.mortality_rate.min()"
   ]
  },
  {
   "cell_type": "code",
   "execution_count": 197,
   "id": "0a0ddbe3-e72c-4d10-9f7b-03e0111c066a",
   "metadata": {},
   "outputs": [
    {
     "data": {
      "text/plain": [
       "12.2"
      ]
     },
     "execution_count": 197,
     "metadata": {},
     "output_type": "execute_result"
    }
   ],
   "source": [
    "df_africa_modelo.mortality_rate.max()"
   ]
  },
  {
   "cell_type": "code",
   "execution_count": 198,
   "id": "1ad721c0-4d03-4be0-96a5-59093fa2dab0",
   "metadata": {},
   "outputs": [
    {
     "data": {
      "text/html": [
       "<div>\n",
       "<style scoped>\n",
       "    .dataframe tbody tr th:only-of-type {\n",
       "        vertical-align: middle;\n",
       "    }\n",
       "\n",
       "    .dataframe tbody tr th {\n",
       "        vertical-align: top;\n",
       "    }\n",
       "\n",
       "    .dataframe thead th {\n",
       "        text-align: right;\n",
       "    }\n",
       "</style>\n",
       "<table border=\"1\" class=\"dataframe\">\n",
       "  <thead>\n",
       "    <tr style=\"text-align: right;\">\n",
       "      <th></th>\n",
       "      <th>entity</th>\n",
       "      <th>code</th>\n",
       "      <th>year</th>\n",
       "      <th>health_expenditure</th>\n",
       "      <th>education_exp</th>\n",
       "      <th>incomeUS_pc</th>\n",
       "      <th>population_povertyline</th>\n",
       "      <th>mortality_rate</th>\n",
       "    </tr>\n",
       "  </thead>\n",
       "  <tbody>\n",
       "    <tr>\n",
       "      <th>6</th>\n",
       "      <td>Algeria</td>\n",
       "      <td>DZA</td>\n",
       "      <td>2018</td>\n",
       "      <td>256.009460</td>\n",
       "      <td>13.774950</td>\n",
       "      <td>3241.392326</td>\n",
       "      <td>0.322391</td>\n",
       "      <td>2.38</td>\n",
       "    </tr>\n",
       "    <tr>\n",
       "      <th>7</th>\n",
       "      <td>Algeria</td>\n",
       "      <td>DZA</td>\n",
       "      <td>2019</td>\n",
       "      <td>248.205872</td>\n",
       "      <td>14.463480</td>\n",
       "      <td>3151.661357</td>\n",
       "      <td>0.321086</td>\n",
       "      <td>2.33</td>\n",
       "    </tr>\n",
       "    <tr>\n",
       "      <th>8</th>\n",
       "      <td>Algeria</td>\n",
       "      <td>DZA</td>\n",
       "      <td>2020</td>\n",
       "      <td>1170.936680</td>\n",
       "      <td>16.549191</td>\n",
       "      <td>2735.094455</td>\n",
       "      <td>12.852870</td>\n",
       "      <td>2.27</td>\n",
       "    </tr>\n",
       "    <tr>\n",
       "      <th>12</th>\n",
       "      <td>Angola</td>\n",
       "      <td>AGO</td>\n",
       "      <td>2018</td>\n",
       "      <td>87.310738</td>\n",
       "      <td>5.410232</td>\n",
       "      <td>2082.698449</td>\n",
       "      <td>49.087430</td>\n",
       "      <td>7.73</td>\n",
       "    </tr>\n",
       "    <tr>\n",
       "      <th>13</th>\n",
       "      <td>Angola</td>\n",
       "      <td>AGO</td>\n",
       "      <td>2019</td>\n",
       "      <td>71.326004</td>\n",
       "      <td>6.045356</td>\n",
       "      <td>1766.910438</td>\n",
       "      <td>51.395540</td>\n",
       "      <td>7.42</td>\n",
       "    </tr>\n",
       "  </tbody>\n",
       "</table>\n",
       "</div>"
      ],
      "text/plain": [
       "     entity code  year  health_expenditure  education_exp  incomeUS_pc  \\\n",
       "6   Algeria  DZA  2018          256.009460      13.774950  3241.392326   \n",
       "7   Algeria  DZA  2019          248.205872      14.463480  3151.661357   \n",
       "8   Algeria  DZA  2020         1170.936680      16.549191  2735.094455   \n",
       "12   Angola  AGO  2018           87.310738       5.410232  2082.698449   \n",
       "13   Angola  AGO  2019           71.326004       6.045356  1766.910438   \n",
       "\n",
       "    population_povertyline  mortality_rate  \n",
       "6                 0.322391            2.38  \n",
       "7                 0.321086            2.33  \n",
       "8                12.852870            2.27  \n",
       "12               49.087430            7.73  \n",
       "13               51.395540            7.42  "
      ]
     },
     "execution_count": 198,
     "metadata": {},
     "output_type": "execute_result"
    }
   ],
   "source": [
    "df_africa_modelo.head()"
   ]
  },
  {
   "cell_type": "code",
   "execution_count": 199,
   "id": "0f336e50-4d46-4bd7-8110-f94e616a4cd8",
   "metadata": {},
   "outputs": [
    {
     "data": {
      "text/html": [
       "<div>\n",
       "<style scoped>\n",
       "    .dataframe tbody tr th:only-of-type {\n",
       "        vertical-align: middle;\n",
       "    }\n",
       "\n",
       "    .dataframe tbody tr th {\n",
       "        vertical-align: top;\n",
       "    }\n",
       "\n",
       "    .dataframe thead th {\n",
       "        text-align: right;\n",
       "    }\n",
       "</style>\n",
       "<table border=\"1\" class=\"dataframe\">\n",
       "  <thead>\n",
       "    <tr style=\"text-align: right;\">\n",
       "      <th></th>\n",
       "      <th>entity</th>\n",
       "      <th>code</th>\n",
       "      <th>year</th>\n",
       "      <th>health_expenditure</th>\n",
       "      <th>education_exp</th>\n",
       "      <th>incomeUS_pc</th>\n",
       "      <th>population_povertyline</th>\n",
       "      <th>mortality_rate</th>\n",
       "      <th>region</th>\n",
       "    </tr>\n",
       "  </thead>\n",
       "  <tbody>\n",
       "    <tr>\n",
       "      <th>6</th>\n",
       "      <td>Algeria</td>\n",
       "      <td>DZA</td>\n",
       "      <td>2018</td>\n",
       "      <td>256.009460</td>\n",
       "      <td>13.774950</td>\n",
       "      <td>3241.392326</td>\n",
       "      <td>0.322391</td>\n",
       "      <td>2.38</td>\n",
       "      <td>Africa</td>\n",
       "    </tr>\n",
       "    <tr>\n",
       "      <th>7</th>\n",
       "      <td>Algeria</td>\n",
       "      <td>DZA</td>\n",
       "      <td>2019</td>\n",
       "      <td>248.205872</td>\n",
       "      <td>14.463480</td>\n",
       "      <td>3151.661357</td>\n",
       "      <td>0.321086</td>\n",
       "      <td>2.33</td>\n",
       "      <td>Africa</td>\n",
       "    </tr>\n",
       "    <tr>\n",
       "      <th>8</th>\n",
       "      <td>Algeria</td>\n",
       "      <td>DZA</td>\n",
       "      <td>2020</td>\n",
       "      <td>1170.936680</td>\n",
       "      <td>16.549191</td>\n",
       "      <td>2735.094455</td>\n",
       "      <td>12.852870</td>\n",
       "      <td>2.27</td>\n",
       "      <td>Africa</td>\n",
       "    </tr>\n",
       "  </tbody>\n",
       "</table>\n",
       "</div>"
      ],
      "text/plain": [
       "    entity code  year  health_expenditure  education_exp  incomeUS_pc  \\\n",
       "6  Algeria  DZA  2018          256.009460      13.774950  3241.392326   \n",
       "7  Algeria  DZA  2019          248.205872      14.463480  3151.661357   \n",
       "8  Algeria  DZA  2020         1170.936680      16.549191  2735.094455   \n",
       "\n",
       "   population_povertyline  mortality_rate  region  \n",
       "6                0.322391            2.38  Africa  \n",
       "7                0.321086            2.33  Africa  \n",
       "8               12.852870            2.27  Africa  "
      ]
     },
     "execution_count": 199,
     "metadata": {},
     "output_type": "execute_result"
    }
   ],
   "source": [
    "df_africa_modelo= df_africa_modelo.assign(region=\"Africa\")\n",
    "df_africa_modelo.head(3)"
   ]
  },
  {
   "cell_type": "code",
   "execution_count": 200,
   "id": "428af825-4df2-42bc-9d42-1236a7327fba",
   "metadata": {},
   "outputs": [
    {
     "data": {
      "text/html": [
       "<div>\n",
       "<style scoped>\n",
       "    .dataframe tbody tr th:only-of-type {\n",
       "        vertical-align: middle;\n",
       "    }\n",
       "\n",
       "    .dataframe tbody tr th {\n",
       "        vertical-align: top;\n",
       "    }\n",
       "\n",
       "    .dataframe thead th {\n",
       "        text-align: right;\n",
       "    }\n",
       "</style>\n",
       "<table border=\"1\" class=\"dataframe\">\n",
       "  <thead>\n",
       "    <tr style=\"text-align: right;\">\n",
       "      <th></th>\n",
       "      <th>year</th>\n",
       "      <th>mortality_rate</th>\n",
       "      <th>population_povertyline</th>\n",
       "      <th>health_expenditure</th>\n",
       "      <th>incomeUS_pc</th>\n",
       "      <th>education_exp</th>\n",
       "    </tr>\n",
       "  </thead>\n",
       "  <tbody>\n",
       "    <tr>\n",
       "      <th>0</th>\n",
       "      <td>2018</td>\n",
       "      <td>6.290196</td>\n",
       "      <td>32.925549</td>\n",
       "      <td>166.843994</td>\n",
       "      <td>1993.017931</td>\n",
       "      <td>15.520856</td>\n",
       "    </tr>\n",
       "    <tr>\n",
       "      <th>1</th>\n",
       "      <td>2019</td>\n",
       "      <td>6.105686</td>\n",
       "      <td>32.605307</td>\n",
       "      <td>162.673206</td>\n",
       "      <td>1948.507888</td>\n",
       "      <td>14.707021</td>\n",
       "    </tr>\n",
       "    <tr>\n",
       "      <th>2</th>\n",
       "      <td>2020</td>\n",
       "      <td>5.907059</td>\n",
       "      <td>12.852870</td>\n",
       "      <td>1170.936680</td>\n",
       "      <td>1675.254413</td>\n",
       "      <td>14.352126</td>\n",
       "    </tr>\n",
       "  </tbody>\n",
       "</table>\n",
       "</div>"
      ],
      "text/plain": [
       "   year  mortality_rate  population_povertyline  health_expenditure  \\\n",
       "0  2018        6.290196               32.925549          166.843994   \n",
       "1  2019        6.105686               32.605307          162.673206   \n",
       "2  2020        5.907059               12.852870         1170.936680   \n",
       "\n",
       "   incomeUS_pc  education_exp  \n",
       "0  1993.017931      15.520856  \n",
       "1  1948.507888      14.707021  \n",
       "2  1675.254413      14.352126  "
      ]
     },
     "execution_count": 200,
     "metadata": {},
     "output_type": "execute_result"
    }
   ],
   "source": [
    "df_africa_modelo= df_africa_modelo.groupby('year',as_index = False)[['mortality_rate','population_povertyline', 'health_expenditure','incomeUS_pc', 'education_exp']].mean()\n",
    "df_africa_modelo"
   ]
  },
  {
   "cell_type": "code",
   "execution_count": 201,
   "id": "cf6dd4ed-24bc-4794-aff1-023dd6e75c7a",
   "metadata": {},
   "outputs": [
    {
     "data": {
      "text/html": [
       "<div>\n",
       "<style scoped>\n",
       "    .dataframe tbody tr th:only-of-type {\n",
       "        vertical-align: middle;\n",
       "    }\n",
       "\n",
       "    .dataframe tbody tr th {\n",
       "        vertical-align: top;\n",
       "    }\n",
       "\n",
       "    .dataframe thead th {\n",
       "        text-align: right;\n",
       "    }\n",
       "</style>\n",
       "<table border=\"1\" class=\"dataframe\">\n",
       "  <thead>\n",
       "    <tr style=\"text-align: right;\">\n",
       "      <th></th>\n",
       "      <th>year</th>\n",
       "      <th>mortality_rate</th>\n",
       "      <th>population_povertyline</th>\n",
       "      <th>health_expenditure</th>\n",
       "      <th>incomeUS_pc</th>\n",
       "      <th>education_exp</th>\n",
       "      <th>lag1</th>\n",
       "    </tr>\n",
       "  </thead>\n",
       "  <tbody>\n",
       "    <tr>\n",
       "      <th>0</th>\n",
       "      <td>2018</td>\n",
       "      <td>6.290196</td>\n",
       "      <td>32.925549</td>\n",
       "      <td>166.843994</td>\n",
       "      <td>1993.017931</td>\n",
       "      <td>15.520856</td>\n",
       "      <td>NaN</td>\n",
       "    </tr>\n",
       "    <tr>\n",
       "      <th>1</th>\n",
       "      <td>2019</td>\n",
       "      <td>6.105686</td>\n",
       "      <td>32.605307</td>\n",
       "      <td>162.673206</td>\n",
       "      <td>1948.507888</td>\n",
       "      <td>14.707021</td>\n",
       "      <td>6.290196</td>\n",
       "    </tr>\n",
       "    <tr>\n",
       "      <th>2</th>\n",
       "      <td>2020</td>\n",
       "      <td>5.907059</td>\n",
       "      <td>12.852870</td>\n",
       "      <td>1170.936680</td>\n",
       "      <td>1675.254413</td>\n",
       "      <td>14.352126</td>\n",
       "      <td>6.105686</td>\n",
       "    </tr>\n",
       "  </tbody>\n",
       "</table>\n",
       "</div>"
      ],
      "text/plain": [
       "   year  mortality_rate  population_povertyline  health_expenditure  \\\n",
       "0  2018        6.290196               32.925549          166.843994   \n",
       "1  2019        6.105686               32.605307          162.673206   \n",
       "2  2020        5.907059               12.852870         1170.936680   \n",
       "\n",
       "   incomeUS_pc  education_exp      lag1  \n",
       "0  1993.017931      15.520856       NaN  \n",
       "1  1948.507888      14.707021  6.290196  \n",
       "2  1675.254413      14.352126  6.105686  "
      ]
     },
     "execution_count": 201,
     "metadata": {},
     "output_type": "execute_result"
    }
   ],
   "source": [
    "df_africa_modelo['lag1'] = df_africa_modelo.mortality_rate.shift(1)\n",
    "df_africa_modelo"
   ]
  },
  {
   "cell_type": "code",
   "execution_count": 202,
   "id": "aacbb1c4-a3f7-4b54-bba8-a553cd3b401e",
   "metadata": {},
   "outputs": [
    {
     "data": {
      "text/html": [
       "<div>\n",
       "<style scoped>\n",
       "    .dataframe tbody tr th:only-of-type {\n",
       "        vertical-align: middle;\n",
       "    }\n",
       "\n",
       "    .dataframe tbody tr th {\n",
       "        vertical-align: top;\n",
       "    }\n",
       "\n",
       "    .dataframe thead th {\n",
       "        text-align: right;\n",
       "    }\n",
       "</style>\n",
       "<table border=\"1\" class=\"dataframe\">\n",
       "  <thead>\n",
       "    <tr style=\"text-align: right;\">\n",
       "      <th></th>\n",
       "      <th>year</th>\n",
       "      <th>mortality_rate</th>\n",
       "      <th>population_povertyline</th>\n",
       "      <th>health_expenditure</th>\n",
       "      <th>incomeUS_pc</th>\n",
       "      <th>education_exp</th>\n",
       "      <th>lag1</th>\n",
       "    </tr>\n",
       "  </thead>\n",
       "  <tbody>\n",
       "    <tr>\n",
       "      <th>1</th>\n",
       "      <td>2019</td>\n",
       "      <td>6.105686</td>\n",
       "      <td>32.605307</td>\n",
       "      <td>162.673206</td>\n",
       "      <td>1948.507888</td>\n",
       "      <td>14.707021</td>\n",
       "      <td>6.290196</td>\n",
       "    </tr>\n",
       "    <tr>\n",
       "      <th>2</th>\n",
       "      <td>2020</td>\n",
       "      <td>5.907059</td>\n",
       "      <td>12.852870</td>\n",
       "      <td>1170.936680</td>\n",
       "      <td>1675.254413</td>\n",
       "      <td>14.352126</td>\n",
       "      <td>6.105686</td>\n",
       "    </tr>\n",
       "  </tbody>\n",
       "</table>\n",
       "</div>"
      ],
      "text/plain": [
       "   year  mortality_rate  population_povertyline  health_expenditure  \\\n",
       "1  2019        6.105686               32.605307          162.673206   \n",
       "2  2020        5.907059               12.852870         1170.936680   \n",
       "\n",
       "   incomeUS_pc  education_exp      lag1  \n",
       "1  1948.507888      14.707021  6.290196  \n",
       "2  1675.254413      14.352126  6.105686  "
      ]
     },
     "execution_count": 202,
     "metadata": {},
     "output_type": "execute_result"
    }
   ],
   "source": [
    "df_africa_modelo= df_africa_modelo.iloc[1:3]\n",
    "df_africa_modelo"
   ]
  },
  {
   "cell_type": "code",
   "execution_count": 235,
   "id": "1040b137-bf61-4e31-acfe-5066ce6db113",
   "metadata": {},
   "outputs": [],
   "source": [
    "#df_africa_modelo.drop(['mortality_rate', 'year'], axis=1, inplace=True)"
   ]
  },
  {
   "cell_type": "code",
   "execution_count": 204,
   "id": "98941c5d-440c-46a4-a43f-ad6cab4ee1e1",
   "metadata": {},
   "outputs": [
    {
     "data": {
      "text/plain": [
       "array([5.71693849, 5.98899459])"
      ]
     },
     "execution_count": 204,
     "metadata": {},
     "output_type": "execute_result"
    }
   ],
   "source": [
    "prediccionest_africa= ratelat_pipeline.predict(df_africa_modelo)\n",
    "prediccionest_africa"
   ]
  },
  {
   "cell_type": "code",
   "execution_count": 224,
   "id": "b5101b59-406f-42b1-b542-88def7b39cdf",
   "metadata": {},
   "outputs": [],
   "source": [
    "## ASIA"
   ]
  },
  {
   "cell_type": "code",
   "execution_count": 225,
   "id": "61bfdadd-db43-44c1-8312-905d5cf3a660",
   "metadata": {},
   "outputs": [
    {
     "name": "stdout",
     "output_type": "stream",
     "text": [
      "['United Arab Emirates', 'Vietnam', 'Tajikistan', 'Israel', 'Turkey', 'Iran', 'Bhutan', 'Laos', 'Thailand', 'Lebanon', 'Kyrgyzstan', 'Turkmenistan', 'Singapore', 'Myanmar', 'Maldives', 'South Korea', 'Oman', 'State of Palestine', 'Brunei', 'Kuwait', 'Iraq', 'Georgia', 'Afghanistan', 'Saudi Arabia', 'Uzbekistan', 'Mongolia', 'Malaysia', 'Yemen', 'Armenia', 'Nepal', 'Qatar', 'Indonesia', 'North Korea', 'Pakistan', 'Sri Lanka', 'Kazakhstan', 'Syria', 'Bahrain', 'Cambodia', 'Bangladesh', 'China', 'Timor', 'Japan', 'Cyprus', 'Philippines', 'Jordan', 'Azerbaijan', 'India']\n"
     ]
    }
   ],
   "source": [
    "print(Asia)"
   ]
  },
  {
   "cell_type": "code",
   "execution_count": 226,
   "id": "91e27683-44d1-4e36-94ef-a2b32bf80c85",
   "metadata": {},
   "outputs": [
    {
     "data": {
      "text/plain": [
       "46"
      ]
     },
     "execution_count": 226,
     "metadata": {},
     "output_type": "execute_result"
    }
   ],
   "source": [
    "final_s = [x for x in Asia if x in paises]\n",
    "len(final_s)"
   ]
  },
  {
   "cell_type": "code",
   "execution_count": 227,
   "id": "e3b32c98-db7f-409b-8bb3-ee3ad8eefb19",
   "metadata": {},
   "outputs": [
    {
     "data": {
      "text/plain": [
       "Index(['entity', 'code', 'year', 'health_expenditure', 'education_exp',\n",
       "       'incomeUS_pc', 'population_povertyline', 'mortality_rate'],\n",
       "      dtype='object')"
      ]
     },
     "execution_count": 227,
     "metadata": {},
     "output_type": "execute_result"
    }
   ],
   "source": [
    "df_asia_modelo=df_test[df_test['entity'].isin(final_s)]\n",
    "df_asia_modelo.columns"
   ]
  },
  {
   "cell_type": "code",
   "execution_count": 228,
   "id": "93ab8fce-e987-4de1-b3e8-6d90bbc72850",
   "metadata": {},
   "outputs": [
    {
     "data": {
      "text/plain": [
       "0.220000005"
      ]
     },
     "execution_count": 228,
     "metadata": {},
     "output_type": "execute_result"
    }
   ],
   "source": [
    "df_asia_modelo.mortality_rate.min()"
   ]
  },
  {
   "cell_type": "code",
   "execution_count": 229,
   "id": "e2697d11-92f3-42c9-9b98-f06e0ebc9e01",
   "metadata": {},
   "outputs": [
    {
     "data": {
      "text/plain": [
       "6.95"
      ]
     },
     "execution_count": 229,
     "metadata": {},
     "output_type": "execute_result"
    }
   ],
   "source": [
    "df_asia_modelo.mortality_rate.max()"
   ]
  },
  {
   "cell_type": "code",
   "execution_count": 230,
   "id": "5c6ab93e-bdce-43b4-bd3c-49f58eb45989",
   "metadata": {},
   "outputs": [
    {
     "data": {
      "text/html": [
       "<div>\n",
       "<style scoped>\n",
       "    .dataframe tbody tr th:only-of-type {\n",
       "        vertical-align: middle;\n",
       "    }\n",
       "\n",
       "    .dataframe tbody tr th {\n",
       "        vertical-align: top;\n",
       "    }\n",
       "\n",
       "    .dataframe thead th {\n",
       "        text-align: right;\n",
       "    }\n",
       "</style>\n",
       "<table border=\"1\" class=\"dataframe\">\n",
       "  <thead>\n",
       "    <tr style=\"text-align: right;\">\n",
       "      <th></th>\n",
       "      <th>entity</th>\n",
       "      <th>code</th>\n",
       "      <th>year</th>\n",
       "      <th>health_expenditure</th>\n",
       "      <th>education_exp</th>\n",
       "      <th>incomeUS_pc</th>\n",
       "      <th>population_povertyline</th>\n",
       "      <th>mortality_rate</th>\n",
       "    </tr>\n",
       "  </thead>\n",
       "  <tbody>\n",
       "    <tr>\n",
       "      <th>0</th>\n",
       "      <td>Afghanistan</td>\n",
       "      <td>AFG</td>\n",
       "      <td>2018</td>\n",
       "      <td>69.998604</td>\n",
       "      <td>11.69606</td>\n",
       "      <td>452.362622</td>\n",
       "      <td>12.852870</td>\n",
       "      <td>6.23</td>\n",
       "    </tr>\n",
       "    <tr>\n",
       "      <th>1</th>\n",
       "      <td>Afghanistan</td>\n",
       "      <td>AFG</td>\n",
       "      <td>2019</td>\n",
       "      <td>65.806030</td>\n",
       "      <td>11.34377</td>\n",
       "      <td>463.843374</td>\n",
       "      <td>12.852870</td>\n",
       "      <td>6.01</td>\n",
       "    </tr>\n",
       "    <tr>\n",
       "      <th>2</th>\n",
       "      <td>Afghanistan</td>\n",
       "      <td>AFG</td>\n",
       "      <td>2020</td>\n",
       "      <td>1170.936680</td>\n",
       "      <td>10.25386</td>\n",
       "      <td>475.620362</td>\n",
       "      <td>12.852870</td>\n",
       "      <td>5.80</td>\n",
       "    </tr>\n",
       "    <tr>\n",
       "      <th>21</th>\n",
       "      <td>Armenia</td>\n",
       "      <td>ARM</td>\n",
       "      <td>2018</td>\n",
       "      <td>422.282684</td>\n",
       "      <td>8.98858</td>\n",
       "      <td>3709.088092</td>\n",
       "      <td>1.409537</td>\n",
       "      <td>1.21</td>\n",
       "    </tr>\n",
       "    <tr>\n",
       "      <th>22</th>\n",
       "      <td>Armenia</td>\n",
       "      <td>ARM</td>\n",
       "      <td>2019</td>\n",
       "      <td>523.999084</td>\n",
       "      <td>10.01000</td>\n",
       "      <td>4020.892298</td>\n",
       "      <td>1.078999</td>\n",
       "      <td>1.15</td>\n",
       "    </tr>\n",
       "  </tbody>\n",
       "</table>\n",
       "</div>"
      ],
      "text/plain": [
       "         entity code  year  health_expenditure  education_exp  incomeUS_pc  \\\n",
       "0   Afghanistan  AFG  2018           69.998604       11.69606   452.362622   \n",
       "1   Afghanistan  AFG  2019           65.806030       11.34377   463.843374   \n",
       "2   Afghanistan  AFG  2020         1170.936680       10.25386   475.620362   \n",
       "21      Armenia  ARM  2018          422.282684        8.98858  3709.088092   \n",
       "22      Armenia  ARM  2019          523.999084       10.01000  4020.892298   \n",
       "\n",
       "    population_povertyline  mortality_rate  \n",
       "0                12.852870            6.23  \n",
       "1                12.852870            6.01  \n",
       "2                12.852870            5.80  \n",
       "21                1.409537            1.21  \n",
       "22                1.078999            1.15  "
      ]
     },
     "execution_count": 230,
     "metadata": {},
     "output_type": "execute_result"
    }
   ],
   "source": [
    "df_asia_modelo.head()"
   ]
  },
  {
   "cell_type": "code",
   "execution_count": 231,
   "id": "20d41a27-f41b-4fd3-a5f7-b7d6d78a1cd4",
   "metadata": {},
   "outputs": [
    {
     "data": {
      "text/html": [
       "<div>\n",
       "<style scoped>\n",
       "    .dataframe tbody tr th:only-of-type {\n",
       "        vertical-align: middle;\n",
       "    }\n",
       "\n",
       "    .dataframe tbody tr th {\n",
       "        vertical-align: top;\n",
       "    }\n",
       "\n",
       "    .dataframe thead th {\n",
       "        text-align: right;\n",
       "    }\n",
       "</style>\n",
       "<table border=\"1\" class=\"dataframe\">\n",
       "  <thead>\n",
       "    <tr style=\"text-align: right;\">\n",
       "      <th></th>\n",
       "      <th>entity</th>\n",
       "      <th>code</th>\n",
       "      <th>year</th>\n",
       "      <th>health_expenditure</th>\n",
       "      <th>education_exp</th>\n",
       "      <th>incomeUS_pc</th>\n",
       "      <th>population_povertyline</th>\n",
       "      <th>mortality_rate</th>\n",
       "      <th>region</th>\n",
       "    </tr>\n",
       "  </thead>\n",
       "  <tbody>\n",
       "    <tr>\n",
       "      <th>0</th>\n",
       "      <td>Afghanistan</td>\n",
       "      <td>AFG</td>\n",
       "      <td>2018</td>\n",
       "      <td>69.998604</td>\n",
       "      <td>11.69606</td>\n",
       "      <td>452.362622</td>\n",
       "      <td>12.85287</td>\n",
       "      <td>6.23</td>\n",
       "      <td>Asia</td>\n",
       "    </tr>\n",
       "    <tr>\n",
       "      <th>1</th>\n",
       "      <td>Afghanistan</td>\n",
       "      <td>AFG</td>\n",
       "      <td>2019</td>\n",
       "      <td>65.806030</td>\n",
       "      <td>11.34377</td>\n",
       "      <td>463.843374</td>\n",
       "      <td>12.85287</td>\n",
       "      <td>6.01</td>\n",
       "      <td>Asia</td>\n",
       "    </tr>\n",
       "    <tr>\n",
       "      <th>2</th>\n",
       "      <td>Afghanistan</td>\n",
       "      <td>AFG</td>\n",
       "      <td>2020</td>\n",
       "      <td>1170.936680</td>\n",
       "      <td>10.25386</td>\n",
       "      <td>475.620362</td>\n",
       "      <td>12.85287</td>\n",
       "      <td>5.80</td>\n",
       "      <td>Asia</td>\n",
       "    </tr>\n",
       "  </tbody>\n",
       "</table>\n",
       "</div>"
      ],
      "text/plain": [
       "        entity code  year  health_expenditure  education_exp  incomeUS_pc  \\\n",
       "0  Afghanistan  AFG  2018           69.998604       11.69606   452.362622   \n",
       "1  Afghanistan  AFG  2019           65.806030       11.34377   463.843374   \n",
       "2  Afghanistan  AFG  2020         1170.936680       10.25386   475.620362   \n",
       "\n",
       "   population_povertyline  mortality_rate region  \n",
       "0                12.85287            6.23   Asia  \n",
       "1                12.85287            6.01   Asia  \n",
       "2                12.85287            5.80   Asia  "
      ]
     },
     "execution_count": 231,
     "metadata": {},
     "output_type": "execute_result"
    }
   ],
   "source": [
    "df_asia_modelo= df_asia_modelo.assign(region=\"Asia\")\n",
    "df_asia_modelo.head(3)"
   ]
  },
  {
   "cell_type": "code",
   "execution_count": 232,
   "id": "debad1b2-d9f7-4686-b910-faf04d8f20c3",
   "metadata": {},
   "outputs": [
    {
     "data": {
      "text/plain": [
       "2018    45\n",
       "2019    45\n",
       "2020    45\n",
       "Name: year, dtype: int64"
      ]
     },
     "execution_count": 232,
     "metadata": {},
     "output_type": "execute_result"
    }
   ],
   "source": [
    "df_asia_modelo.year.value_counts()"
   ]
  },
  {
   "cell_type": "code",
   "execution_count": 233,
   "id": "d0a1dd11-e964-4d34-a5e1-f9cfab95fb50",
   "metadata": {},
   "outputs": [
    {
     "data": {
      "text/html": [
       "<div>\n",
       "<style scoped>\n",
       "    .dataframe tbody tr th:only-of-type {\n",
       "        vertical-align: middle;\n",
       "    }\n",
       "\n",
       "    .dataframe tbody tr th {\n",
       "        vertical-align: top;\n",
       "    }\n",
       "\n",
       "    .dataframe thead th {\n",
       "        text-align: right;\n",
       "    }\n",
       "</style>\n",
       "<table border=\"1\" class=\"dataframe\">\n",
       "  <thead>\n",
       "    <tr style=\"text-align: right;\">\n",
       "      <th></th>\n",
       "      <th>year</th>\n",
       "      <th>mortality_rate</th>\n",
       "      <th>population_povertyline</th>\n",
       "      <th>health_expenditure</th>\n",
       "      <th>incomeUS_pc</th>\n",
       "      <th>education_exp</th>\n",
       "    </tr>\n",
       "  </thead>\n",
       "  <tbody>\n",
       "    <tr>\n",
       "      <th>0</th>\n",
       "      <td>2018</td>\n",
       "      <td>2.027111</td>\n",
       "      <td>6.539419</td>\n",
       "      <td>744.485186</td>\n",
       "      <td>10434.113641</td>\n",
       "      <td>14.115165</td>\n",
       "    </tr>\n",
       "    <tr>\n",
       "      <th>1</th>\n",
       "      <td>2019</td>\n",
       "      <td>1.961778</td>\n",
       "      <td>6.420307</td>\n",
       "      <td>756.322318</td>\n",
       "      <td>10207.870071</td>\n",
       "      <td>14.279821</td>\n",
       "    </tr>\n",
       "    <tr>\n",
       "      <th>2</th>\n",
       "      <td>2020</td>\n",
       "      <td>1.898889</td>\n",
       "      <td>12.852870</td>\n",
       "      <td>1170.936680</td>\n",
       "      <td>8436.754651</td>\n",
       "      <td>14.265190</td>\n",
       "    </tr>\n",
       "  </tbody>\n",
       "</table>\n",
       "</div>"
      ],
      "text/plain": [
       "   year  mortality_rate  population_povertyline  health_expenditure  \\\n",
       "0  2018        2.027111                6.539419          744.485186   \n",
       "1  2019        1.961778                6.420307          756.322318   \n",
       "2  2020        1.898889               12.852870         1170.936680   \n",
       "\n",
       "    incomeUS_pc  education_exp  \n",
       "0  10434.113641      14.115165  \n",
       "1  10207.870071      14.279821  \n",
       "2   8436.754651      14.265190  "
      ]
     },
     "execution_count": 233,
     "metadata": {},
     "output_type": "execute_result"
    }
   ],
   "source": [
    "df_asia_modelo= df_asia_modelo.groupby('year',as_index = False)[['mortality_rate','population_povertyline', 'health_expenditure','incomeUS_pc', 'education_exp']].mean()\n",
    "df_asia_modelo"
   ]
  },
  {
   "cell_type": "code",
   "execution_count": 234,
   "id": "d22df93d-febd-4e28-b794-c4d7c068ab90",
   "metadata": {},
   "outputs": [
    {
     "data": {
      "text/html": [
       "<div>\n",
       "<style scoped>\n",
       "    .dataframe tbody tr th:only-of-type {\n",
       "        vertical-align: middle;\n",
       "    }\n",
       "\n",
       "    .dataframe tbody tr th {\n",
       "        vertical-align: top;\n",
       "    }\n",
       "\n",
       "    .dataframe thead th {\n",
       "        text-align: right;\n",
       "    }\n",
       "</style>\n",
       "<table border=\"1\" class=\"dataframe\">\n",
       "  <thead>\n",
       "    <tr style=\"text-align: right;\">\n",
       "      <th></th>\n",
       "      <th>year</th>\n",
       "      <th>mortality_rate</th>\n",
       "      <th>population_povertyline</th>\n",
       "      <th>health_expenditure</th>\n",
       "      <th>incomeUS_pc</th>\n",
       "      <th>education_exp</th>\n",
       "      <th>lag1</th>\n",
       "    </tr>\n",
       "  </thead>\n",
       "  <tbody>\n",
       "    <tr>\n",
       "      <th>0</th>\n",
       "      <td>2018</td>\n",
       "      <td>2.027111</td>\n",
       "      <td>6.539419</td>\n",
       "      <td>744.485186</td>\n",
       "      <td>10434.113641</td>\n",
       "      <td>14.115165</td>\n",
       "      <td>NaN</td>\n",
       "    </tr>\n",
       "    <tr>\n",
       "      <th>1</th>\n",
       "      <td>2019</td>\n",
       "      <td>1.961778</td>\n",
       "      <td>6.420307</td>\n",
       "      <td>756.322318</td>\n",
       "      <td>10207.870071</td>\n",
       "      <td>14.279821</td>\n",
       "      <td>2.027111</td>\n",
       "    </tr>\n",
       "    <tr>\n",
       "      <th>2</th>\n",
       "      <td>2020</td>\n",
       "      <td>1.898889</td>\n",
       "      <td>12.852870</td>\n",
       "      <td>1170.936680</td>\n",
       "      <td>8436.754651</td>\n",
       "      <td>14.265190</td>\n",
       "      <td>1.961778</td>\n",
       "    </tr>\n",
       "  </tbody>\n",
       "</table>\n",
       "</div>"
      ],
      "text/plain": [
       "   year  mortality_rate  population_povertyline  health_expenditure  \\\n",
       "0  2018        2.027111                6.539419          744.485186   \n",
       "1  2019        1.961778                6.420307          756.322318   \n",
       "2  2020        1.898889               12.852870         1170.936680   \n",
       "\n",
       "    incomeUS_pc  education_exp      lag1  \n",
       "0  10434.113641      14.115165       NaN  \n",
       "1  10207.870071      14.279821  2.027111  \n",
       "2   8436.754651      14.265190  1.961778  "
      ]
     },
     "execution_count": 234,
     "metadata": {},
     "output_type": "execute_result"
    }
   ],
   "source": [
    "df_asia_modelo['lag1'] = df_asia_modelo.mortality_rate.shift(1)\n",
    "df_asia_modelo"
   ]
  },
  {
   "cell_type": "code",
   "execution_count": 216,
   "id": "46bfb37c-6223-4e9f-8432-03bd95eea1fa",
   "metadata": {},
   "outputs": [
    {
     "data": {
      "text/html": [
       "<div>\n",
       "<style scoped>\n",
       "    .dataframe tbody tr th:only-of-type {\n",
       "        vertical-align: middle;\n",
       "    }\n",
       "\n",
       "    .dataframe tbody tr th {\n",
       "        vertical-align: top;\n",
       "    }\n",
       "\n",
       "    .dataframe thead th {\n",
       "        text-align: right;\n",
       "    }\n",
       "</style>\n",
       "<table border=\"1\" class=\"dataframe\">\n",
       "  <thead>\n",
       "    <tr style=\"text-align: right;\">\n",
       "      <th></th>\n",
       "      <th>year</th>\n",
       "      <th>mortality_rate</th>\n",
       "      <th>population_povertyline</th>\n",
       "      <th>health_expenditure</th>\n",
       "      <th>incomeUS_pc</th>\n",
       "      <th>education_exp</th>\n",
       "      <th>lag1</th>\n",
       "    </tr>\n",
       "  </thead>\n",
       "  <tbody>\n",
       "    <tr>\n",
       "      <th>1</th>\n",
       "      <td>2019</td>\n",
       "      <td>1.961778</td>\n",
       "      <td>6.420307</td>\n",
       "      <td>756.322318</td>\n",
       "      <td>10207.870071</td>\n",
       "      <td>14.279821</td>\n",
       "      <td>2.027111</td>\n",
       "    </tr>\n",
       "    <tr>\n",
       "      <th>2</th>\n",
       "      <td>2020</td>\n",
       "      <td>1.898889</td>\n",
       "      <td>12.852870</td>\n",
       "      <td>1170.936680</td>\n",
       "      <td>8436.754651</td>\n",
       "      <td>14.265190</td>\n",
       "      <td>1.961778</td>\n",
       "    </tr>\n",
       "  </tbody>\n",
       "</table>\n",
       "</div>"
      ],
      "text/plain": [
       "   year  mortality_rate  population_povertyline  health_expenditure  \\\n",
       "1  2019        1.961778                6.420307          756.322318   \n",
       "2  2020        1.898889               12.852870         1170.936680   \n",
       "\n",
       "    incomeUS_pc  education_exp      lag1  \n",
       "1  10207.870071      14.279821  2.027111  \n",
       "2   8436.754651      14.265190  1.961778  "
      ]
     },
     "execution_count": 216,
     "metadata": {},
     "output_type": "execute_result"
    }
   ],
   "source": [
    "df_asia_modelo= df_asia_modelo.iloc[1:3]\n",
    "df_asia_modelo"
   ]
  },
  {
   "cell_type": "code",
   "execution_count": 222,
   "id": "f5664d43-1e4e-4eb7-bbf9-7824bcf885d3",
   "metadata": {},
   "outputs": [],
   "source": [
    "#df_asia_modelo.drop(['mortality_rate', 'year'], axis=1, inplace=True)"
   ]
  },
  {
   "cell_type": "code",
   "execution_count": 218,
   "id": "beb95454-f65f-414c-a840-0086094da443",
   "metadata": {},
   "outputs": [
    {
     "data": {
      "text/plain": [
       "array([1.84039777, 1.69612786])"
      ]
     },
     "execution_count": 218,
     "metadata": {},
     "output_type": "execute_result"
    }
   ],
   "source": [
    "prediccionest_asia= ratelat_pipeline.predict(df_asia_modelo)\n",
    "prediccionest_asia"
   ]
  },
  {
   "cell_type": "code",
   "execution_count": null,
   "id": "d3a6bea4-31df-48b7-bf2a-02f37f5db7a7",
   "metadata": {},
   "outputs": [],
   "source": []
  }
 ],
 "metadata": {
  "kernelspec": {
   "display_name": "Python 3 (ipykernel)",
   "language": "python",
   "name": "python3"
  },
  "language_info": {
   "codemirror_mode": {
    "name": "ipython",
    "version": 3
   },
   "file_extension": ".py",
   "mimetype": "text/x-python",
   "name": "python",
   "nbconvert_exporter": "python",
   "pygments_lexer": "ipython3",
   "version": "3.9.7"
  }
 },
 "nbformat": 4,
 "nbformat_minor": 5
}
